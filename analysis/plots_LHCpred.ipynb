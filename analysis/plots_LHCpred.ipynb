{
 "cells": [
  {
   "cell_type": "code",
   "execution_count": 1,
   "id": "a7fdef87-23db-4afd-9d0c-4c19e237ed5c",
   "metadata": {},
   "outputs": [
    {
     "name": "stderr",
     "output_type": "stream",
     "text": [
      "/afs/crc.nd.edu/user/h/hnelson2/miniconda3/envs/ttbarEFT-env/lib/python3.9/site-packages/coffea/util.py:154: FutureWarning: In coffea version v2023.3.0 (target date: 31 Mar 2023), this will be an error.\n",
      "(Set coffea.deprecations_as_errors = True to get a stack trace now.)\n",
      "ImportError: coffea.hist is deprecated\n",
      "  warnings.warn(message, FutureWarning)\n"
     ]
    }
   ],
   "source": [
    "import pickle #read pickle file\n",
    "import gzip #read zipped pickle file\n",
    "import matplotlib.pyplot as plt #plot histograms\n",
    "import mplhep as hep\n",
    "import numpy as np\n",
    "# from coffea import hist\n",
    "import hist\n",
    "import topcoffea.modules.HistEFT as HistEFT\n",
    "# import hist\n",
    "# from hist import Hist\n",
    "import topcoffea.modules.utils as utils\n",
    "\n",
    "\n",
    "hep.style.use(\"CMS\")\n",
    "params = {'axes.labelsize': 20,\n",
    "          'axes.titlesize': 20,\n",
    "          'legend.fontsize':20}\n",
    "plt.rcParams.update(params)"
   ]
  },
  {
   "cell_type": "markdown",
   "id": "9afa6d65-edf1-4c40-ab5a-bb930b4bd447",
   "metadata": {},
   "source": [
    "Original pkl files (HistEFT, 0 and 1 jet samples): \n",
    "`LHCEFT_ref_ref2.pkl.gz`\n"
   ]
  },
  {
   "cell_type": "code",
   "execution_count": 2,
   "id": "aca3d8d8-21e6-4ce6-8f70-a212525a04f9",
   "metadata": {},
   "outputs": [],
   "source": [
    "dr_ylabel = r\"$d\\sigma \\: [pb] \\; / \\; d\\Delta R \\: [bin]$\"\n",
    "avg_ylabel = r\"$d\\sigma \\: [pb] \\; / \\; d p_T \\: [GeV]$\"\n",
    "l0pt_ylabel = r\"$d\\sigma \\: [pb] \\; / \\; d p_T \\: [GeV]$\""
   ]
  },
  {
   "cell_type": "markdown",
   "id": "5ac3cd86-02f8-451f-82e9-9314ac81020b",
   "metadata": {},
   "source": [
    "## Kinematic Plots Reweighted to SM"
   ]
  },
  {
   "cell_type": "code",
   "execution_count": 7,
   "id": "ff0edd17-c168-489d-b877-1b08198ce997",
   "metadata": {},
   "outputs": [
    {
     "name": "stdout",
     "output_type": "stream",
     "text": [
      "{'avg_top_pt': Hist(Regular(40, 0, 400, name='average top $p_T$ [GeV]'), storage=Weight()) # Sum: WeightedSum(value=11.6284, variance=0.0744898) (WeightedSum(value=11.6475, variance=0.0746004) with flow), 'l0pt': Hist(Regular(40, 0, 400, name='leading lepton $p_T$ [GeV]'), storage=Weight()) # Sum: WeightedSum(value=11.6345, variance=0.0745439) (WeightedSum(value=11.6475, variance=0.0746004) with flow), 'dr_leps': Hist(Regular(30, 0, 6, name='$\\\\Delta R$ (leading lepton, subleading lepton)'), storage=Weight()) # Sum: WeightedSum(value=11.6475, variance=0.0746004), 'mtt': Hist(Regular(60, 0, 1200, name='invariant mass of tops'), storage=Weight()) # Sum: WeightedSum(value=11.5406, variance=0.0741172) (WeightedSum(value=11.6475, variance=0.0746004) with flow), 'njets': Hist(Regular(10, 0, 10, name='njets'), storage=Weight()) # Sum: WeightedSum(value=11.6475, variance=0.0746004)}\n"
     ]
    }
   ],
   "source": [
    "fin1 = \"hists/LHCEFT_pred_note/LHCEFT_TT01j2l_S1_SM.pkl.gz\"\n",
    "fin2 = \"hists/LHCEFT_pred_note/LHCEFT_TT01j2l_S2_SM.pkl.gz\"\n",
    "hists1 = utils.get_hist_from_pkl(fin1, allow_empty=False)\n",
    "hists2 = utils.get_hist_from_pkl(fin2, allow_empty=False)\n",
    "print(hists1)"
   ]
  },
  {
   "cell_type": "code",
   "execution_count": 4,
   "id": "f68e4a99-535e-4be3-a48b-bbfbc457c64e",
   "metadata": {},
   "outputs": [
    {
     "name": "stdout",
     "output_type": "stream",
     "text": [
      "plot saved to:  LHCEFT_SM_avgTopPt.pdf\n"
     ]
    }
   ],
   "source": [
    "h1 = hists1['avg_top_pt']\n",
    "h2 = hists2['avg_top_pt']\n",
    "fig, ax = plt.subplots(1,1)\n",
    "hep.histplot(h1, ax=ax, stack=False, yerr=True, label=r\"LO+1 jet (sample 1)\")\n",
    "hep.histplot(h2, ax=ax, stack=False, yerr=True, label=r\"LO+1 jet (sample 2)\")\n",
    "ax.legend(loc = 'upper right', fontsize = 'small')\n",
    "ax.set_ylabel(avg_ylabel, fontsize='medium')\n",
    "plt.figtext(0.78, 0.89,\"(13 TeV)\", fontsize = 'small')\n",
    "plt.figtext(0.14, 0.89, r\"$pp \\rightarrow t\\bar{t} \\rightarrow l^+ \\nu_l b \\;\\; l^- \\bar{\\nu_l} \\bar{b}$\", fontsize='small')\n",
    "plt.figtext(0.25, 0.83, \"Reweighted to SM\", fontsize='small')\n",
    "figname = \"LHCEFT_SM_avgTopPt.pdf\"\n",
    "fig.savefig(figname)\n",
    "print(\"plot saved to: \", figname)\n",
    "plt.close(fig)"
   ]
  },
  {
   "cell_type": "code",
   "execution_count": 5,
   "id": "3429b096-a8c6-4ece-9614-c13417fb0b95",
   "metadata": {},
   "outputs": [
    {
     "name": "stdout",
     "output_type": "stream",
     "text": [
      "plot saved to:  LHCEFT_SM_l0pt.pdf\n"
     ]
    }
   ],
   "source": [
    "h1 = hists1['l0pt']\n",
    "h2 = hists2['l0pt']\n",
    "fig, ax = plt.subplots(1,1)\n",
    "hep.histplot(h1, ax=ax, stack=False, yerr=True, label=r\"LO+1 jet (sample 1)\")\n",
    "hep.histplot(h2, ax=ax, stack=False, yerr=True, label=r\"LO+1 jet (sample 2)\")\n",
    "ax.legend(loc = 'upper right', fontsize = 'small')\n",
    "ax.set_ylabel(l0pt_ylabel, fontsize='medium')\n",
    "plt.figtext(0.78, 0.89,\"(13 TeV)\", fontsize = 'small')\n",
    "plt.figtext(0.14, 0.89, r\"$pp \\rightarrow t\\bar{t} \\rightarrow l^+ \\nu_l b \\;\\; l^- \\bar{\\nu_l} \\bar{b}$\", fontsize='small')\n",
    "plt.figtext(0.27, 0.83, \"Reweighted to SM\", fontsize='small')\n",
    "figname = \"LHCEFT_SM_l0pt.pdf\"\n",
    "fig.savefig(figname)\n",
    "print(\"plot saved to: \", figname)\n",
    "plt.close(fig)"
   ]
  },
  {
   "cell_type": "code",
   "execution_count": 6,
   "id": "98bd3190-401c-493d-97d7-0e66d5628b09",
   "metadata": {},
   "outputs": [
    {
     "name": "stdout",
     "output_type": "stream",
     "text": [
      "plot saved to:  LHCEFT_SM_drLeps.pdf\n"
     ]
    }
   ],
   "source": [
    "h1 = hists1['dr_leps']\n",
    "h2 = hists2['dr_leps']\n",
    "fig, ax = plt.subplots(1,1)\n",
    "hep.histplot(h1, ax=ax, stack=False, yerr=True, label=r\"LO+1 jet (sample 1)\")\n",
    "hep.histplot(h2, ax=ax, stack=False, yerr=True, label=r\"LO+1 jet (sample 2)\")\n",
    "ax.legend(loc = 'upper right', fontsize = 'small')\n",
    "ax.set_ylabel(dr_ylabel, fontsize='medium')\n",
    "plt.figtext(0.78, 0.89,\"(13 TeV)\", fontsize = 'small')\n",
    "plt.figtext(0.14, 0.89, r\"$pp \\rightarrow t\\bar{t} \\rightarrow l^+ \\nu_l b \\;\\; l^- \\bar{\\nu_l} \\bar{b}$\", fontsize='small')\n",
    "plt.figtext(0.15, 0.83, \"Reweighted to SM\", fontsize='small')\n",
    "figname = \"LHCEFT_SM_drLeps.pdf\"\n",
    "fig.savefig(figname)\n",
    "print(\"plot saved to: \", figname)\n",
    "plt.close(fig)"
   ]
  },
  {
   "cell_type": "markdown",
   "id": "294e57bb-9843-4e0d-bc3b-70bf32eaa2bc",
   "metadata": {},
   "source": [
    "## Kinematic Plots Reweighted to Pt 2\n",
    "Point 1 = starting point of Robert's original sample"
   ]
  },
  {
   "cell_type": "code",
   "execution_count": 8,
   "id": "357907b0-86b8-4ff8-847a-877f08bd10f0",
   "metadata": {},
   "outputs": [
    {
     "name": "stdout",
     "output_type": "stream",
     "text": [
      "{'avg_top_pt': Hist(Regular(40, 0, 400, name='average top $p_T$ [GeV]'), storage=Weight()) # Sum: WeightedSum(value=25.4024, variance=0.0828923) (WeightedSum(value=25.8231, variance=0.0837994) with flow), 'l0pt': Hist(Regular(40, 0, 400, name='leading lepton $p_T$ [GeV]'), storage=Weight()) # Sum: WeightedSum(value=24.7528, variance=0.081666) (WeightedSum(value=25.8231, variance=0.0837994) with flow), 'dr_leps': Hist(Regular(30, 0, 6, name='$\\\\Delta R$ (leading lepton, subleading lepton)'), storage=Weight()) # Sum: WeightedSum(value=25.8231, variance=0.0837994), 'mtt': Hist(Regular(60, 0, 1200, name='invariant mass of tops'), storage=Weight()) # Sum: WeightedSum(value=19.759, variance=0.0699652) (WeightedSum(value=25.8231, variance=0.0837994) with flow), 'njets': Hist(Regular(10, 0, 10, name='njets'), storage=Weight()) # Sum: WeightedSum(value=25.8231, variance=0.0837994)}\n"
     ]
    }
   ],
   "source": [
    "fin3 = \"hists/LHCEFT_pred_note/LHCEFT_TT01j2l_S1_pt2.pkl.gz\"\n",
    "fin4 = \"hists/LHCEFT_pred_note/LHCEFT_TT01j2l_S2_pt2.pkl.gz\"\n",
    "hists3 = utils.get_hist_from_pkl(fin3, allow_empty=False)\n",
    "hists4 = utils.get_hist_from_pkl(fin4, allow_empty=False)\n",
    "print(hists3)"
   ]
  },
  {
   "cell_type": "code",
   "execution_count": 16,
   "id": "34ee92ce-226b-41e5-8f14-eb63f422fba9",
   "metadata": {},
   "outputs": [
    {
     "name": "stdout",
     "output_type": "stream",
     "text": [
      "plot saved to:  LHCEFT_pt2_avgTopPt.pdf\n"
     ]
    }
   ],
   "source": [
    "h3 = hists3['avg_top_pt']\n",
    "h4 = hists4['avg_top_pt']\n",
    "fig, ax = plt.subplots(1,1)\n",
    "hep.histplot(h3, ax=ax, stack=False, yerr=True, label=r\"LO+1 jet (sample 1)\")\n",
    "hep.histplot(h4, ax=ax, stack=False, yerr=True, label=r\"LO+1 jet (sample 2)\")\n",
    "ax.legend(loc = 'upper right', fontsize = 'small')\n",
    "ax.set_ylabel(avg_ylabel, fontsize='medium')\n",
    "plt.figtext(0.78, 0.89,\"(13 TeV)\", fontsize = 'small')\n",
    "plt.figtext(0.14, 0.89, r\"$pp \\rightarrow t\\bar{t} \\rightarrow l^+ \\nu_l b \\;\\; l^- \\bar{\\nu_l} \\bar{b}$\", fontsize='small')\n",
    "plt.figtext(0.25, 0.83, \"Reweighted to Pt2\", fontsize='small')\n",
    "figname = \"LHCEFT_pt2_avgTopPt.pdf\"\n",
    "fig.savefig(figname)\n",
    "print(\"plot saved to: \", figname)\n",
    "plt.close(fig)"
   ]
  },
  {
   "cell_type": "code",
   "execution_count": 17,
   "id": "eebc1318-5817-476d-a3e0-3757625b2e8f",
   "metadata": {},
   "outputs": [
    {
     "name": "stdout",
     "output_type": "stream",
     "text": [
      "plot saved to:  LHCEFT_pt2_l0pt.pdf\n"
     ]
    }
   ],
   "source": [
    "h3 = hists3['l0pt']\n",
    "h4 = hists4['l0pt']\n",
    "fig, ax = plt.subplots(1,1)\n",
    "hep.histplot(h3, ax=ax, stack=False, yerr=True, label=r\"LO+1 jet (sample 1)\")\n",
    "hep.histplot(h4, ax=ax, stack=False, yerr=True, label=r\"LO+1 jet (sample 2)\")\n",
    "ax.legend(loc = 'upper right', fontsize = 'small')\n",
    "ax.set_ylabel(l0pt_ylabel, fontsize='medium')\n",
    "plt.figtext(0.78, 0.89,\"(13 TeV)\", fontsize = 'small')\n",
    "plt.figtext(0.14, 0.89, r\"$pp \\rightarrow t\\bar{t} \\rightarrow l^+ \\nu_l b \\;\\; l^- \\bar{\\nu_l} \\bar{b}$\", fontsize='small')\n",
    "plt.figtext(0.27, 0.83, \"Reweighted to Pt2\", fontsize='small')\n",
    "figname = \"LHCEFT_pt2_l0pt.pdf\"\n",
    "fig.savefig(figname)\n",
    "print(\"plot saved to: \", figname)\n",
    "plt.close(fig)"
   ]
  },
  {
   "cell_type": "code",
   "execution_count": 18,
   "id": "b449e008-eb2c-49b7-b745-2be7245094e6",
   "metadata": {},
   "outputs": [
    {
     "name": "stdout",
     "output_type": "stream",
     "text": [
      "plot saved to:  LHCEFT_pt2_drLeps.pdf\n"
     ]
    }
   ],
   "source": [
    "h3 = hists3['dr_leps']\n",
    "h4 = hists4['dr_leps']\n",
    "fig, ax = plt.subplots(1,1)\n",
    "hep.histplot(h3, ax=ax, stack=False, yerr=True, label=r\"LO+1 jet (sample 1)\")\n",
    "hep.histplot(h4, ax=ax, stack=False, yerr=True, label=r\"LO+1 jet (sample 2)\")\n",
    "ax.legend(loc = 'upper right', fontsize = 'small')\n",
    "ax.set_ylabel(dr_ylabel, fontsize='medium')\n",
    "plt.figtext(0.78, 0.89,\"(13 TeV)\", fontsize = 'small')\n",
    "plt.figtext(0.14, 0.89, r\"$pp \\rightarrow t\\bar{t} \\rightarrow l^+ \\nu_l b \\;\\; l^- \\bar{\\nu_l} \\bar{b}$\", fontsize='small')\n",
    "plt.figtext(0.15, 0.83, \"Reweighted to Pt2\", fontsize='small')\n",
    "figname = \"LHCEFT_pt2_drLeps.pdf\"\n",
    "fig.savefig(figname)\n",
    "print(\"plot saved to: \", figname)\n",
    "plt.close(fig)"
   ]
  }
 ],
 "metadata": {
  "kernelspec": {
   "display_name": "ttbarEFT-env",
   "language": "python",
   "name": "ttbareft-env"
  },
  "language_info": {
   "codemirror_mode": {
    "name": "ipython",
    "version": 3
   },
   "file_extension": ".py",
   "mimetype": "text/x-python",
   "name": "python",
   "nbconvert_exporter": "python",
   "pygments_lexer": "ipython3",
   "version": "3.9.18"
  }
 },
 "nbformat": 4,
 "nbformat_minor": 5
}
