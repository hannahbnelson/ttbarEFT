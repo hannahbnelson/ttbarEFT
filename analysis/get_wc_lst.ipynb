{
 "cells": [
  {
   "cell_type": "code",
   "execution_count": 1,
   "id": "47571300-641d-40bc-a093-ff75f7452c61",
   "metadata": {},
   "outputs": [],
   "source": [
    "#!/usr/bin/env python\n",
    "import argparse\n",
    "import json\n",
    "import time\n",
    "import cloudpickle\n",
    "import gzip\n",
    "import os\n",
    "import importlib\n",
    "\n",
    "import numpy as np\n",
    "from coffea import processor\n",
    "from coffea.nanoevents import NanoAODSchema\n",
    "\n",
    "from topcoffea.modules import utils"
   ]
  },
  {
   "cell_type": "code",
   "execution_count": 3,
   "id": "6ead3df2-e102-461a-b54b-41b5b4a3af1e",
   "metadata": {},
   "outputs": [],
   "source": [
    "fname = '/cms/cephfs/data/store/user/hnelson2/mc/central_mini2nano_test/v9/nanoAOD_TTto2L2Nu_1Jets_smeft_MTT_0to700_UL18/NAOD-00000_4.root'"
   ]
  },
  {
   "cell_type": "code",
   "execution_count": 4,
   "id": "86300136-b075-4b43-b890-790a8238a26e",
   "metadata": {},
   "outputs": [],
   "source": [
    "wc_lst = utils.get_list_of_wc_names(fname)"
   ]
  },
  {
   "cell_type": "code",
   "execution_count": 5,
   "id": "fcb008f0-540f-412b-84b9-f01f36063c35",
   "metadata": {},
   "outputs": [
    {
     "name": "stdout",
     "output_type": "stream",
     "text": [
      "['cQd1', 'ctj1', 'cQj31', 'ctj8', 'ctd1', 'ctd8', 'ctGRe', 'ctGIm', 'cQj11', 'cQj18', 'ctu8', 'cQd8', 'ctu1', 'cQu1', 'cQj38', 'cQu8']\n"
     ]
    }
   ],
   "source": [
    "print(wc_lst)"
   ]
  },
  {
   "cell_type": "code",
   "execution_count": null,
   "id": "ebde4af6-df02-4e0c-903b-24a98eeb644c",
   "metadata": {},
   "outputs": [],
   "source": []
  }
 ],
 "metadata": {
  "kernelspec": {
   "display_name": "ttbarEFT",
   "language": "python",
   "name": "ttbareft"
  },
  "language_info": {
   "codemirror_mode": {
    "name": "ipython",
    "version": 3
   },
   "file_extension": ".py",
   "mimetype": "text/x-python",
   "name": "python",
   "nbconvert_exporter": "python",
   "pygments_lexer": "ipython3",
   "version": "3.9.19"
  }
 },
 "nbformat": 4,
 "nbformat_minor": 5
}
