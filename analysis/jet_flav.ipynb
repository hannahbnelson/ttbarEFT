{
 "cells": [
  {
   "cell_type": "code",
   "execution_count": 11,
   "id": "0222a536-4504-4fe7-a770-db1c4c35f721",
   "metadata": {},
   "outputs": [],
   "source": [
    "import pickle #read pickle file\n",
    "import coffea\n",
    "from coffea import hist\n",
    "from topcoffea.modules.HistEFT import HistEFT\n",
    "from coffea.analysis_tools import PackedSelection\n",
    "import topcoffea.modules.eft_helper as efth\n",
    "import gzip #read zipped pickle file\n",
    "import matplotlib.pyplot as plt #plot histograms\n",
    "from matplotlib.backends.backend_pdf import PdfPages\n",
    "import topcoffea.modules.utils as utils\n",
    "import mplhep as hep\n",
    "import numpy as np\n",
    "import awkward as ak\n",
    "np.seterr(divide='ignore', invalid='ignore', over='ignore')\n",
    "\n",
    "# import hist\n",
    "# from hist import Hist\n",
    "\n",
    "from coffea.nanoevents import NanoEventsFactory, NanoAODSchema\n",
    "NanoAODSchema.warn_missing_crossrefs = False"
   ]
  },
  {
   "cell_type": "code",
   "execution_count": 55,
   "id": "10017cb5-fc63-475d-bb48-57b14a8b8aa7",
   "metadata": {},
   "outputs": [],
   "source": [
    "hep.style.use(\"CMS\")\n",
    "params = {'axes.labelsize': 20,\n",
    "          'axes.titlesize': 20,\n",
    "          'legend.fontsize':20}\n",
    "plt.rcParams.update(params)\n",
    "\n",
    "wc_pts = {\"ctGIm\": 10.0, \"ctGRe\":10.0, \"cQj38\": 0.0, \"cQj18\": 0.0,\n",
    "            \"cQu8\": 0.0, \"cQd8\": 0.0, \"ctj8\": 0.0, \"ctu8\": 0.0,\n",
    "            \"ctd8\": 0.0, \"cQj31\": 0.0, \"cQj11\": 0.0, \"cQu1\": 0.0,\n",
    "            \"cQd1\": 0.0, \"ctj1\": 0.0, \"ctu1\": 0.0, \"ctd1\": 0.0}\n",
    "\n",
    "couplings = {'ctGIm': 0.7, 'ctGRe':0.7, 'cQj38':9.0, 'cQj18':7.0,\n",
    "            'cQu8':9.5, 'cQd8':12.0, 'ctj8':7.0, 'ctu8':9.0,\n",
    "            'ctd8':12.4, 'cQj31':3.0, 'cQj11':4.2, 'cQu1':5.5,\n",
    "            'cQd1':7.0, 'ctj1':4.4, 'ctu1':5.4, 'ctd1':7.0}"
   ]
  },
  {
   "cell_type": "code",
   "execution_count": 3,
   "id": "730abb7d-ee7e-4b46-b4b8-7f892d47c8f7",
   "metadata": {},
   "outputs": [],
   "source": [
    "# Clean the objects\n",
    "def is_clean(obj_A, obj_B, drmin=0.4):\n",
    "    objB_near, objB_DR = obj_A.nearest(obj_B, return_metric=True)\n",
    "    mask = ak.fill_none(objB_DR > drmin, True)\n",
    "    return (mask)"
   ]
  },
  {
   "cell_type": "code",
   "execution_count": 4,
   "id": "3a9f2925-b72f-42d5-b4ba-6f97a97d405f",
   "metadata": {},
   "outputs": [],
   "source": [
    "fname = \"/project01/ndcms/hnelson2/ttbarEFT/nanoGen/LHCEFT/TT01j2l_ref_djr/nanoGen_401.root\"\n",
    "# fname = \"/project01/ndcms/hnelson2/ttbarEFT/nanoGen/LHCEFT/TT01j2l_ref/nanoGen_1216.root\"\n",
    "# fname = \"/project01/ndcms/hnelson2/mc_samples/central_UL/10C33CC0-846D-134B-99EA-F7E4200E9A48.root\"\n",
    "# fname = \"/project01/ndcms/hnelson2/ttbarEFT/nanoGen/TT01j2l_S3/nanoGen_101.root\"\n",
    "# Load in events from root file\n",
    "events = NanoEventsFactory.from_root(\n",
    "    fname,\n",
    "    schemaclass=NanoAODSchema.v6,\n",
    "    metadata={\"dataset\": \"TT01j2l\"},\n",
    ").events()"
   ]
  },
  {
   "cell_type": "code",
   "execution_count": 5,
   "id": "773cba1d-915a-424f-af25-2eb63a3c8aa4",
   "metadata": {},
   "outputs": [
    {
     "name": "stdout",
     "output_type": "stream",
     "text": [
      "wc list:  ['cQd1', 'ctj1', 'cQj31', 'ctj8', 'ctd1', 'ctd8', 'ctGRe', 'ctGIm', 'cQj11', 'cQj18', 'ctu8', 'cQd8', 'ctu1', 'cQu1', 'cQj38', 'cQu8']\n"
     ]
    }
   ],
   "source": [
    "wc_lst = utils.get_list_of_wc_names(fname)\n",
    "print(\"wc list: \", wc_lst)\n",
    "\n",
    "dataset = events.metadata['dataset']"
   ]
  },
  {
   "cell_type": "code",
   "execution_count": 6,
   "id": "ef17b2b0-3896-44d1-a43b-6c4b940f2502",
   "metadata": {},
   "outputs": [],
   "source": [
    "# Extract the EFT quadratic coefficients and optionally use them to calculate the coefficients on the w**2 quartic function\n",
    "# eft_coeffs is never Jagged so convert immediately to numpy for ease of use.\n",
    "eft_coeffs = ak.to_numpy(events['EFTfitCoefficients']) if hasattr(events, \"EFTfitCoefficients\") else None"
   ]
  },
  {
   "cell_type": "code",
   "execution_count": 7,
   "id": "06af5f8e-cab0-4529-a04c-61d801e67f18",
   "metadata": {},
   "outputs": [],
   "source": [
    "if eft_coeffs is None:\n",
    "    event_weights = events[\"genWeight\"]\n",
    "else:\n",
    "    event_weights = np.ones_like(events['event'])"
   ]
  },
  {
   "cell_type": "code",
   "execution_count": 10,
   "id": "75db6d3c-ac2e-429b-85d7-f6b3d6ff5fa1",
   "metadata": {},
   "outputs": [],
   "source": [
    "######## Initialize objects  ########\n",
    "\n",
    "genpart = events.GenPart\n",
    "is_final_mask = genpart.hasFlags([\"fromHardProcess\",\"isLastCopy\"])\n",
    "ele  = genpart[is_final_mask & (abs(genpart.pdgId) == 11)]\n",
    "mu   = genpart[is_final_mask & (abs(genpart.pdgId) == 13)]\n",
    "jets = events.GenJet\n",
    "\n",
    "\n",
    "######## Lep selection  ########\n",
    "\n",
    "e_selec = ((ele.pt>20) & (abs(ele.eta)<2.5))\n",
    "m_selec = ((mu.pt>20) & (abs(mu.eta)<2.5))\n",
    "leps = ak.concatenate([ele[e_selec],mu[m_selec]],axis=1)\n",
    "leps = leps[ak.argsort(leps.pt, axis=-1, ascending=False)]\n",
    "\n",
    "\n",
    "######## Jet selection  ########\n",
    "\n",
    "jets = jets[(jets.pt>30) & (abs(jets.eta)<2.5)]\n",
    "jets_clean = jets[is_clean(jets, leps, drmin=0.4)]"
   ]
  },
  {
   "cell_type": "code",
   "execution_count": 12,
   "id": "329108e1-8a31-433d-8ed5-1538ad6c8791",
   "metadata": {},
   "outputs": [],
   "source": [
    "######## Event selections ########\n",
    "\n",
    "nleps = ak.num(leps)\n",
    "njets = ak.num(jets_clean)\n",
    "\n",
    "at_least_two_leps = ak.fill_none(nleps>=2,False)\n",
    "at_least_two_jets = ak.fill_none(njets>=2, False)\n",
    "\n",
    "selections = PackedSelection()\n",
    "selections.add('2l', at_least_two_leps)\n",
    "selections.add('2j', at_least_two_jets)\n",
    "event_selection_mask = selections.all('2l', '2j')"
   ]
  },
  {
   "cell_type": "code",
   "execution_count": 13,
   "id": "b4fdfb99-5871-4c09-9ae0-edae60d918eb",
   "metadata": {},
   "outputs": [],
   "source": [
    "if eft_coeffs is None:\n",
    "    genw = events[\"genWeight\"]\n",
    "else:\n",
    "    genw = np.ones_like(events['event'])"
   ]
  },
  {
   "cell_type": "code",
   "execution_count": 62,
   "id": "bfa61ffb-048e-4dc7-a333-792010da8fd2",
   "metadata": {},
   "outputs": [],
   "source": [
    "# Jet Flavor\n",
    "jet_flav = abs(jets_clean[event_selection_mask].partonFlavour)\n",
    "njets = ak.num(jets_clean[event_selection_mask])\n",
    "jet_flav_eft = np.repeat(eft_coeffs[event_selection_mask], njets, axis=0)\n",
    "jet_flav_weight = np.repeat(event_weights[event_selection_mask], njets, axis=0)"
   ]
  },
  {
   "cell_type": "code",
   "execution_count": 67,
   "id": "5abb5658-188f-4685-a5fd-5acad0fef06c",
   "metadata": {},
   "outputs": [],
   "source": [
    "histos = {\n",
    "    \"jet_flav\" : HistEFT(\"Events\", wc_lst, hist.Cat(\"sample\", \"sample\"), hist.Bin(\"jet_flav\", \"pdgID jet flavor\", 23, 0, 23)),\n",
    "}"
   ]
  },
  {
   "cell_type": "code",
   "execution_count": 68,
   "id": "59e16ab7-bce8-4788-8565-d454c348a638",
   "metadata": {},
   "outputs": [],
   "source": [
    "jet_flav_fill_info = {\n",
    "    \"jet_flav\": ak.flatten(jet_flav), \n",
    "    \"sample\": dataset,\n",
    "    \"weight\": jet_flav_weight, \n",
    "    \"eft_coeff\": jet_flav_eft,\n",
    "}"
   ]
  },
  {
   "cell_type": "code",
   "execution_count": 69,
   "id": "2a806c24-0d90-40e1-883e-f08e672ae42d",
   "metadata": {},
   "outputs": [],
   "source": [
    "histos[\"jet_flav\"].fill(**jet_flav_fill_info)"
   ]
  },
  {
   "cell_type": "code",
   "execution_count": 73,
   "id": "3b538e16-ff93-4870-a51d-f5ebe3c984ef",
   "metadata": {},
   "outputs": [
    {
     "name": "stdout",
     "output_type": "stream",
     "text": [
      "[0. 0. 0. 0. 0. 0. 0. 0. 0. 0. 0. 0. 0. 0. 0. 0.]\n"
     ]
    },
    {
     "data": {
      "text/plain": [
       "<matplotlib.legend.Legend at 0x7f4fb3d2a8b0>"
      ]
     },
     "execution_count": 73,
     "metadata": {},
     "output_type": "execute_result"
    },
    {
     "data": {
      "image/png": "[encoded data removed]",
      "text/plain": [
       "<Figure size 1000x1000 with 1 Axes>"
      ]
     },
     "metadata": {},
     "output_type": "display_data"
    }
   ],
   "source": [
    "h = histos['jet_flav']\n",
    "h.set_sm()\n",
    "# print(h._wcs)\n",
    "# h.set_wilson_coefficients(**couplings)\n",
    "print(h._wcs)\n",
    "fig, ax = plt.subplots(1,1)\n",
    "hist.plot1d(h, ax=ax, stack=False)\n",
    "ax.legend()"
   ]
  },
  {
   "cell_type": "code",
   "execution_count": null,
   "id": "88787e1e-c153-4377-ba2d-ea76286e57c4",
   "metadata": {},
   "outputs": [],
   "source": []
  },
  {
   "cell_type": "code",
   "execution_count": null,
   "id": "393023b2-1afd-4ddf-b7bb-585df1552c6a",
   "metadata": {},
   "outputs": [],
   "source": []
  }
 ],
 "metadata": {
  "kernelspec": {
   "display_name": "ttbarEFT-env",
   "language": "python",
   "name": "ttbareft-env"
  },
  "language_info": {
   "codemirror_mode": {
    "name": "ipython",
    "version": 3
   },
   "file_extension": ".py",
   "mimetype": "text/x-python",
   "name": "python",
   "nbconvert_exporter": "python",
   "pygments_lexer": "ipython3",
   "version": "3.9.18"
  }
 },
 "nbformat": 4,
 "nbformat_minor": 5
}
