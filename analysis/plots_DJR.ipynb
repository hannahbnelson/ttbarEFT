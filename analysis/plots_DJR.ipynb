{
 "cells": [
  {
   "cell_type": "code",
   "execution_count": 1,
   "id": "95ef0c33-b738-41a5-a9c1-5613334fabe5",
   "metadata": {},
   "outputs": [],
   "source": [
    "import numpy as np\n",
    "import awkward as ak\n",
    "\n",
    "import hist\n",
    "from topcoffea.modules.histEFT import HistEFT\n",
    "import topcoffea.modules.utils as utils\n",
    "\n",
    "import mplhep as hep\n",
    "import matplotlib.pyplot as plt"
   ]
  },
  {
   "cell_type": "code",
   "execution_count": 2,
   "id": "d4a962f6-a3b0-401e-9095-c1d6a616eaae",
   "metadata": {},
   "outputs": [],
   "source": [
    "hep.style.use(\"CMS\")\n",
    "params = {'axes.labelsize': 20,\n",
    "          'axes.titlesize': 20,\n",
    "          'legend.fontsize':20}\n",
    "plt.rcParams.update(params)"
   ]
  },
  {
   "cell_type": "code",
   "execution_count": 31,
   "id": "be0a58dd-7cb4-4ab1-80cb-6f13da657f03",
   "metadata": {},
   "outputs": [
    {
     "name": "stdout",
     "output_type": "stream",
     "text": [
      "{'djr_01_all': HistEFT(\n",
      "  StrCategory(['TT01j2l-SMEFT-mtt-0to700-UL18'], growth=True, name='process'),\n",
      "  Regular(80, 0, 4, name='djr_01_all', label='DJR 0 to 1'),\n",
      "  Integer(0, 153, name='quadratic_term'),\n",
      "  storage=Double()) # Sum: 1.0, 'djr_01_0p': HistEFT(\n",
      "  StrCategory(['TT01j2l-SMEFT-mtt-0to700-UL18'], growth=True, name='process'),\n",
      "  Regular(80, 0, 4, name='djr_01_0p', label='DJR 0 to 1'),\n",
      "  Integer(0, 153, name='quadratic_term'),\n",
      "  storage=Double()) # Sum: 1.0, 'djr_01_1p': HistEFT(\n",
      "  StrCategory(['TT01j2l-SMEFT-mtt-0to700-UL18'], growth=True, name='process'),\n",
      "  Regular(80, 0, 4, name='djr_01_1p', label='DJR 0 to 1'),\n",
      "  Integer(0, 153, name='quadratic_term'),\n",
      "  storage=Double()) # Sum: 1.0}\n"
     ]
    }
   ],
   "source": [
    "f16APV_low = \"UL16APV_0_700_DJR.pkl.gz\"\n",
    "f16APV_med = \"UL16APV_700_900_DJR.pkl.gz\"\n",
    "f16APV_high = \"UL16APV_900_Inf_DJR.pkl.gz\"\n",
    "\n",
    "f16_low = \"UL16_0_700_DJR.pkl.gz\"\n",
    "f16_med = \"UL16_700_900_DJR.pkl.gz\"\n",
    "f16_high = \"UL16_900_Inf_DJR.pkl.gz\"\n",
    "\n",
    "f17_low = \"UL17_0_700_DJR.pkl.gz\"\n",
    "f17_med = \"UL17_700_900_DJR.pkl.gz\"\n",
    "f17_high = \"UL17_900_Inf_DJR.pkl.gz\"\n",
    "\n",
    "f18_low = \"UL18_0_700_DJR.pkl.gz\"\n",
    "f18_med = \"UL18_700_900_DJR.pkl.gz\"\n",
    "f18_high = \"UL18_900_Inf_DJR.pkl.gz\"\n",
    "\n",
    "UL16APV_0_700 = utils.get_hist_from_pkl(f16APV_low, allow_empty=False)\n",
    "UL16APV_700_900 = utils.get_hist_from_pkl(f16APV_med, allow_empty=False)\n",
    "UL16APV_900_Inf = utils.get_hist_from_pkl(f16APV_high, allow_empty=False)\n",
    "\n",
    "UL16_0_700 = utils.get_hist_from_pkl(f16_low, allow_empty=False)\n",
    "UL16_700_900 = utils.get_hist_from_pkl(f16_med, allow_empty=False)\n",
    "UL16_900_Inf = utils.get_hist_from_pkl(f16_high, allow_empty=False)\n",
    "\n",
    "UL17_0_700 = utils.get_hist_from_pkl(f17_low, allow_empty=False)\n",
    "UL17_700_900 = utils.get_hist_from_pkl(f17_med, allow_empty=False)\n",
    "UL17_900_Inf = utils.get_hist_from_pkl(f17_high, allow_empty=False)\n",
    "\n",
    "UL18_0_700 = utils.get_hist_from_pkl(f18_low, allow_empty=False)\n",
    "UL18_700_900 = utils.get_hist_from_pkl(f18_med, allow_empty=False)\n",
    "UL18_900_Inf = utils.get_hist_from_pkl(f18_high, allow_empty=False)\n",
    "\n",
    "hist_list = {'UL16APV_0_700': UL16APV_0_700,\n",
    "             'UL16APV_700_900':UL16APV_700_900, \n",
    "             'UL16APV_900_Inf':UL16APV_900_Inf,\n",
    "             'UL16_0_700': UL16_0_700, \n",
    "             'UL16_700_900':UL16_700_900, \n",
    "             'UL16_900_Inf':UL16_900_Inf,\n",
    "             'UL17_0_700':UL17_0_700, \n",
    "             'UL17_700_900':UL17_700_900, \n",
    "             'UL17_900_Inf':UL17_900_Inf,\n",
    "             'UL18_0_700':UL18_0_700, \n",
    "             'UL18_700_900':UL18_700_900, \n",
    "             'UL18_900_Inf':UL18_900_Inf}\n",
    "\n",
    "print(UL18_0_700)"
   ]
  },
  {
   "cell_type": "code",
   "execution_count": 36,
   "id": "061da0f5-95ae-4444-b5f4-93634d8bf4b6",
   "metadata": {},
   "outputs": [],
   "source": [
    "st_pt = {\"ctGIm\": -0.5, \"ctGRe\":-0.5, \"cQj38\": 1.5, \"cQj18\": 1.5,\n",
    "          \"cQu8\": 1.5, \"cQd8\": 1.5, \"ctj8\": 1.5, \"ctu8\": 1.5,\n",
    "          \"ctd8\": 1.5, \"cQj31\": 1.5, \"cQj11\": 1.5, \"cQu1\": 1.5,\n",
    "          \"cQd1\": 1.5, \"ctj1\": 1.5, \"ctu1\": 1.5, \"ctd1\": 1.5}\n",
    "rwgt_pt1 = {\"ctGIm\": 1.0, \"ctGRe\":1.0, \"cQj38\": 3.0, \"cQj18\": 3.0,\n",
    "          \"cQu8\": 3.0, \"cQd8\": 3.0, \"ctj8\": 3.0, \"ctu8\": 3.0,\n",
    "          \"ctd8\": 3.0, \"cQj31\": 3.0, \"cQj11\": 3.0, \"cQu1\": 3.0,\n",
    "          \"cQd1\": 3.0, \"ctj1\": 3.0, \"ctu1\": 3.0, \"ctd1\": 3.0}\n",
    "SM = {}\n",
    "ctg = {\"ctGIm\":-1, \"ctGRe\":1}"
   ]
  },
  {
   "cell_type": "code",
   "execution_count": 19,
   "id": "5923f323-3125-477d-a5df-9f29a5e2ccd7",
   "metadata": {},
   "outputs": [],
   "source": [
    "def make_DJR_01_plot(hists, rwgt, label):\n",
    "    title=\"central\"+label\n",
    "    fig, ax = plt.subplots(1,1)\n",
    "    hists['djr_01_all'].as_hist(rwgt).plot1d(ax=ax, stack=False,yerr=False, label='Total')\n",
    "    hists['djr_01_0p'].as_hist(rwgt).plot1d(ax=ax, stack=False, yerr=False, label='0 partons')\n",
    "    hists['djr_01_1p'].as_hist(rwgt).plot1d(ax=ax, stack=False, yerr=False, label='1 parton')\n",
    "\n",
    "    ax.set_yscale('log')\n",
    "    ax.set_ylabel(\"Events\", fontsize='medium')\n",
    "    ax.legend(loc = 'upper right', fontsize = 'small')\n",
    "    plt.figtext(0.13, 0.9, title, fontsize='small')\n",
    "\n",
    "    return fig"
   ]
  },
  {
   "cell_type": "code",
   "execution_count": 33,
   "id": "0078a3c9-fec1-42e4-ba7b-ffac6f14e88c",
   "metadata": {},
   "outputs": [],
   "source": [
    "# Make DJR plots at the SM\n",
    "for h in hist_list.keys():\n",
    "    fig = make_DJR_01_plot(hist_list[h], SM, str(h)+\": Reweighted to SM\")\n",
    "    # fig.show()\n",
    "    figname = h+\"_DJR_SM.png\"\n",
    "    fig.savefig(figname)\n",
    "    plt.close(fig)"
   ]
  },
  {
   "cell_type": "code",
   "execution_count": 34,
   "id": "e1b1ba5b-4170-4d54-bdfc-86f142577694",
   "metadata": {},
   "outputs": [],
   "source": [
    "# Make DJR plots at the starting point\n",
    "for h in hist_list.keys():\n",
    "    fig = make_DJR_01_plot(hist_list[h], st_pt, str(h)+\": Reweighted to starting point\")\n",
    "    # fig.show()\n",
    "    figname = h+\"_DJR_stpt.png\"\n",
    "    fig.savefig(figname)\n",
    "    plt.close(fig)"
   ]
  },
  {
   "cell_type": "code",
   "execution_count": 35,
   "id": "8ffb5269-93e8-488d-a164-670cf3134f81",
   "metadata": {},
   "outputs": [],
   "source": [
    "# Make DJR plots at the ctg point\n",
    "for h in hist_list.keys():\n",
    "    fig = make_DJR_01_plot(hist_list[h], ctg, str(h)+\": Reweighted to ctG*=-1\")\n",
    "    # fig.show()\n",
    "    figname = h+\"_DJR_ctg.png\"\n",
    "    fig.savefig(figname)\n",
    "    plt.close(fig)"
   ]
  },
  {
   "cell_type": "code",
   "execution_count": 37,
   "id": "e5820492-12db-47dc-aebf-a596ea4c7f7e",
   "metadata": {},
   "outputs": [],
   "source": [
    "# Make DJR plots at the ctg point\n",
    "for h in hist_list.keys():\n",
    "    fig = make_DJR_01_plot(hist_list[h], rwgt_pt1, str(h)+\": Reweighted to rwgt point 1\")\n",
    "    # fig.show()\n",
    "    figname = h+\"_DJR_pt1.png\"\n",
    "    fig.savefig(figname)\n",
    "    plt.close(fig)"
   ]
  }
 ],
 "metadata": {
  "kernelspec": {
   "display_name": "ttbarEFT",
   "language": "python",
   "name": "ttbareft"
  },
  "language_info": {
   "codemirror_mode": {
    "name": "ipython",
    "version": 3
   },
   "file_extension": ".py",
   "mimetype": "text/x-python",
   "name": "python",
   "nbconvert_exporter": "python",
   "pygments_lexer": "ipython3",
   "version": "3.9.19"
  }
 },
 "nbformat": 4,
 "nbformat_minor": 5
}
