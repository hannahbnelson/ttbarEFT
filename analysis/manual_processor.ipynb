{
 "cells": [
  {
   "cell_type": "code",
   "execution_count": 1,
   "id": "14f686a3-e499-417f-9810-62dbdaff45be",
   "metadata": {},
   "outputs": [],
   "source": [
    "import pickle #read pickle file\n",
    "import coffea\n",
    "from topcoffea.modules.histEFT import HistEFT\n",
    "from coffea.analysis_tools import PackedSelection\n",
    "import topcoffea.modules.eft_helper as efth\n",
    "import gzip #read zipped pickle file\n",
    "import matplotlib.pyplot as plt #plot histograms\n",
    "from matplotlib.backends.backend_pdf import PdfPages\n",
    "import topcoffea.modules.utils as utils\n",
    "import mplhep as hep\n",
    "import numpy as np\n",
    "import awkward as ak\n",
    "np.seterr(divide='ignore', invalid='ignore', over='ignore')\n",
    "\n",
    "import hist\n",
    "from hist import Hist\n",
    "\n",
    "from coffea.nanoevents import NanoEventsFactory, NanoAODSchema\n",
    "NanoAODSchema.warn_missing_crossrefs = False\n",
    "\n",
    "from mt2 import mt2\n",
    "from coffea.nanoevents.methods import vector"
   ]
  },
  {
   "cell_type": "code",
   "execution_count": 69,
   "id": "41ec92ce-f5aa-4515-8a1f-669aab18d85b",
   "metadata": {},
   "outputs": [],
   "source": [
    "from mt2 import mt2_arxiv"
   ]
  },
  {
   "cell_type": "code",
   "execution_count": 67,
   "id": "b978777c-11fb-4c1a-95e6-2ce258e3ee7b",
   "metadata": {},
   "outputs": [
    {
     "ename": "ModuleNotFoundError",
     "evalue": "No module named 'ROOT'",
     "output_type": "error",
     "traceback": [
      "\u001b[0;31m---------------------------------------------------------------------------\u001b[0m",
      "\u001b[0;31mModuleNotFoundError\u001b[0m                       Traceback (most recent call last)",
      "Cell \u001b[0;32mIn[67], line 1\u001b[0m\n\u001b[0;32m----> 1\u001b[0m \u001b[38;5;28;01mfrom\u001b[39;00m \u001b[38;5;21;01mROOT\u001b[39;00m \u001b[38;5;28;01mimport\u001b[39;00m gROOT\n",
      "\u001b[0;31mModuleNotFoundError\u001b[0m: No module named 'ROOT'"
     ]
    }
   ],
   "source": []
  },
  {
   "cell_type": "code",
   "execution_count": 2,
   "id": "8cc49238-5071-489f-979b-c3718582529e",
   "metadata": {},
   "outputs": [],
   "source": [
    "hep.style.use(\"CMS\")\n",
    "params = {'axes.labelsize': 20,\n",
    "          'axes.titlesize': 20,\n",
    "          'legend.fontsize':20}\n",
    "plt.rcParams.update(params)"
   ]
  },
  {
   "cell_type": "code",
   "execution_count": 3,
   "id": "772c5bad-df5f-4eb6-a6c5-4394a2e483fb",
   "metadata": {},
   "outputs": [],
   "source": [
    "# Clean the objects\n",
    "def is_clean(obj_A, obj_B, drmin=0.4):\n",
    "    objB_near, objB_DR = obj_A.nearest(obj_B, return_metric=True)\n",
    "    mask = ak.fill_none(objB_DR > drmin, True)\n",
    "    return (mask)"
   ]
  },
  {
   "cell_type": "code",
   "execution_count": 57,
   "id": "7bf1b201-15a0-48d4-a195-36c9dd5d6130",
   "metadata": {},
   "outputs": [],
   "source": [
    "def make_mt2(l0, l1, met):\n",
    "    nevents = len(np.zeros_like(met))\n",
    "    misspart = ak.zip(\n",
    "        {\n",
    "            \"pt\": met.pt,\n",
    "            \"eta\": 0,\n",
    "            \"phi\": met.phi,\n",
    "            \"mass\": np.full(nevents, 0),\n",
    "        },\n",
    "        with_name=\"PtEtaPhiMLorentzVector\",\n",
    "        behavior=vector.behavior,\n",
    "    )\n",
    "\n",
    "    mt2_val = mt2(\n",
    "        l0.mass, l0.px, l0.py,                          # visible particle #1\n",
    "        l1.mass, l1.px, l1.py,                          # visible particle #2 \n",
    "        misspart.px, misspart.py,                       # missing transverse momentum\n",
    "        np.zeros_like(met.pt), np.zeros_like(met.pt)    # invisible masses\n",
    "    )\n",
    "\n",
    "    return mt2_val"
   ]
  },
  {
   "cell_type": "code",
   "execution_count": 5,
   "id": "a3bacd7d-19c2-41e9-ab73-143e59c5af8e",
   "metadata": {},
   "outputs": [],
   "source": [
    "fname = \"/cms/cephfs/data/store/user/hnelson2/mc/NanoGen/tW_April8/NanoGen_tW_new1/nanoGen_210.root\""
   ]
  },
  {
   "cell_type": "code",
   "execution_count": 6,
   "id": "e29e4314-51fa-4546-83a1-7de366326c2b",
   "metadata": {},
   "outputs": [],
   "source": [
    "# Load in events from root file\n",
    "events = NanoEventsFactory.from_root(\n",
    "    fname,\n",
    "    schemaclass=NanoAODSchema.v6,\n",
    "    metadata={\"dataset\": \"TT01j2l_ref\"},\n",
    ").events()"
   ]
  },
  {
   "cell_type": "code",
   "execution_count": 7,
   "id": "37628b6b-bc7b-41b7-a651-afb1cb0f501d",
   "metadata": {},
   "outputs": [
    {
     "name": "stdout",
     "output_type": "stream",
     "text": [
      "wc list:  ['cHtbRe', 'ctGRe', 'ctGIm', 'cHQ3', 'cbWRe', 'cQl3', 'cleQt3Re', 'ctWRe', 'cleQt1Re']\n"
     ]
    }
   ],
   "source": [
    "wc_lst = utils.get_list_of_wc_names(fname)\n",
    "print(\"wc list: \", wc_lst)\n",
    "\n",
    "dataset = events.metadata['dataset']"
   ]
  },
  {
   "cell_type": "code",
   "execution_count": 8,
   "id": "ae4eb4b0-0790-4663-98db-953595ced09d",
   "metadata": {},
   "outputs": [],
   "source": [
    "# Extract the EFT quadratic coefficients and optionally use them to calculate the coefficients on the w**2 quartic function\n",
    "# eft_coeffs is never Jagged so convert immediately to numpy for ease of use.\n",
    "eft_coeffs = ak.to_numpy(events['EFTfitCoefficients']) if hasattr(events, \"EFTfitCoefficients\") else None"
   ]
  },
  {
   "cell_type": "code",
   "execution_count": 9,
   "id": "6250cd83-011d-4c3e-871c-e188e27f84e2",
   "metadata": {},
   "outputs": [],
   "source": [
    "if eft_coeffs is None:\n",
    "    event_weights = events[\"genWeight\"]\n",
    "else:\n",
    "    event_weights = np.ones_like(events['event'])"
   ]
  },
  {
   "cell_type": "code",
   "execution_count": 15,
   "id": "0172a9d9-86db-4593-b78a-ec47d73d0c00",
   "metadata": {},
   "outputs": [],
   "source": [
    "######## Initialize objects  ########\n",
    "genpart = events.GenPart\n",
    "is_final_mask = genpart.hasFlags([\"fromHardProcess\",\"isLastCopy\"])\n",
    "ele  = genpart[is_final_mask & (abs(genpart.pdgId) == 11)]\n",
    "mu   = genpart[is_final_mask & (abs(genpart.pdgId) == 13)]\n",
    "nu_ele = genpart[is_final_mask & (abs(genpart.pdgId) == 12)]\n",
    "nu_mu = genpart[is_final_mask & (abs(genpart.pdgId) == 14)]\n",
    "nu = ak.concatenate([nu_ele,nu_mu],axis=1)\n",
    "jets = events.GenJet\n",
    "\n",
    "######## Lep selection  ########\n",
    "e_selec = ((ele.pt>20) & (abs(ele.eta)<2.5))\n",
    "m_selec = ((mu.pt>20) & (abs(mu.eta)<2.5))\n",
    "leps = ak.concatenate([ele[e_selec],mu[m_selec]],axis=1)\n",
    "leps = leps[ak.argsort(leps.pt, axis=-1, ascending=False)]\n",
    "\n",
    "######## Jet selection  ########\n",
    "jets = jets[(jets.pt>30) & (abs(jets.eta)<2.5)]\n",
    "jets_clean = jets[is_clean(jets, leps, drmin=0.4) & is_clean(jets, nu, drmin=0.4)]"
   ]
  },
  {
   "cell_type": "code",
   "execution_count": 11,
   "id": "78bda88e-8d73-4e3c-879f-31e7f82d2fc3",
   "metadata": {},
   "outputs": [],
   "source": [
    "######## Event selections ########\n",
    "nleps = ak.num(leps)\n",
    "njets = ak.num(jets_clean)\n",
    "at_least_two_leps = ak.fill_none(nleps>=2,False)\n",
    "at_least_one_jet = ak.fill_none(njets>=1,False)\n",
    "\n",
    "selections = PackedSelection()\n",
    "selections.add('2l', at_least_two_leps)\n",
    "selections.add('1j', at_least_one_jet)\n",
    "event_selection_mask = selections.all('2l', '1j')"
   ]
  },
  {
   "cell_type": "code",
   "execution_count": 12,
   "id": "0c1ae527-f5b3-4157-b534-8890b3b68248",
   "metadata": {},
   "outputs": [],
   "source": [
    "leps_cut = leps[event_selection_mask]\n",
    "# print(leps_cut[:,0].E)\n",
    "# print(leps_cut[:,0].pt)\n",
    "# print(leps_cut[:,0].eta)\n",
    "# print(leps_cut[:,0].phi)"
   ]
  },
  {
   "cell_type": "code",
   "execution_count": 44,
   "id": "9b69dea7-7c00-4e0c-bacb-835a3a52f195",
   "metadata": {},
   "outputs": [
    {
     "data": {
      "text/plain": [
       "<Array [16.5, -17.1, -170, ... 11.3, -18.4] type='4281 * float32'>"
      ]
     },
     "execution_count": 44,
     "metadata": {},
     "output_type": "execute_result"
    }
   ],
   "source": [
    "leps_cut[:,1].py"
   ]
  },
  {
   "cell_type": "code",
   "execution_count": 40,
   "id": "ed9f1389-73cf-422c-93f4-25a441b7d056",
   "metadata": {},
   "outputs": [
    {
     "data": {
      "text/plain": [
       "0"
      ]
     },
     "execution_count": 40,
     "metadata": {},
     "output_type": "execute_result"
    }
   ],
   "source": [
    "len(leps_cut[:,0][leps_cut[:,0].mass !=0])"
   ]
  },
  {
   "cell_type": "code",
   "execution_count": 62,
   "id": "000962e7-c7e2-439c-8408-e4313bfa66c2",
   "metadata": {},
   "outputs": [
    {
     "name": "stdout",
     "output_type": "stream",
     "text": [
      "[80.2, 9.7, -21.6, 64.6, -33.7, 39.2, ... -91.5, 42.2, -58.9, -23.2, 28.2, 42.5]\n"
     ]
    }
   ],
   "source": [
    "met  = events.GenMET[event_selection_mask]\n",
    "print(met.px)\n",
    "\n",
    "nevents = len(np.zeros_like(met))\n",
    "misspart = ak.zip(\n",
    "    {\n",
    "        \"pt\": met.pt,\n",
    "        \"eta\": 0,\n",
    "        \"phi\": met.phi,\n",
    "        \"mass\": np.full(nevents, 0),\n",
    "    },\n",
    "    with_name=\"PtEtaPhiMLorentzVector\",\n",
    "    behavior=vector.behavior,\n",
    ")"
   ]
  },
  {
   "cell_type": "code",
   "execution_count": 65,
   "id": "518fcf6d-2d99-4c7b-836f-861f61d41bd0",
   "metadata": {},
   "outputs": [
    {
     "name": "stdout",
     "output_type": "stream",
     "text": [
      "0.0, -62.19723453508825, 76.50274077938606, 0.0, 54.42772004730086, 16.505076623746838, 80.16275818329795, -69.01592790126294, 0, 0\n"
     ]
    }
   ],
   "source": [
    "print(f\"{leps_cut[:,0][0].mass}, {leps_cut[:,0][0].px}, {leps_cut[:,0][0].py}, {leps_cut[:,1][0].mass}, {leps_cut[:,1][0].px}, {leps_cut[:,1][0].py}, {misspart[0].px}, {misspart[0].py}, 0, 0\")"
   ]
  },
  {
   "cell_type": "code",
   "execution_count": 68,
   "id": "34d2520a-ae58-46dc-b575-e6bc6f74e2b4",
   "metadata": {},
   "outputs": [
    {
     "data": {
      "text/plain": [
       "-1.3857048749923706"
      ]
     },
     "execution_count": 68,
     "metadata": {},
     "output_type": "execute_result"
    }
   ],
   "source": [
    "mt2(0.0, -62.19723453508825, 76.50274077938606, 0.0, 54.42772004730086, 16.505076623746838, 80.16275818329795, -69.01592790126294, 0, 0, 0)"
   ]
  },
  {
   "cell_type": "code",
   "execution_count": 72,
   "id": "7e716eae-1681-4831-af22-eeb7472cf4bd",
   "metadata": {},
   "outputs": [
    {
     "data": {
      "text/plain": [
       "63.60707182095828"
      ]
     },
     "execution_count": 72,
     "metadata": {},
     "output_type": "execute_result"
    }
   ],
   "source": [
    "mt2_arxiv(0.0, -62.19723453508825, 76.50274077938606, 0.0, 54.42772004730086, 16.505076623746838, 80.16275818329795, -69.01592790126294, 0, 0)"
   ]
  },
  {
   "cell_type": "code",
   "execution_count": 60,
   "id": "1f762fb5-a9c3-47ad-8b43-673397f044b4",
   "metadata": {},
   "outputs": [
    {
     "data": {
      "text/plain": [
       "4281"
      ]
     },
     "execution_count": 60,
     "metadata": {},
     "output_type": "execute_result"
    }
   ],
   "source": [
    "len(met[met.pt>0])"
   ]
  },
  {
   "cell_type": "code",
   "execution_count": 58,
   "id": "874cbcca-fa98-4e9f-9a88-6d1050600772",
   "metadata": {},
   "outputs": [
    {
     "name": "stdout",
     "output_type": "stream",
     "text": [
      "[-1.39, -1.39, -1.39, -1.39, -1.39, -1.39, ... -1.39, -1.39, -1.39, -1.39, -1.39]\n"
     ]
    }
   ],
   "source": [
    "mt2_var = make_mt2(leps_cut[:,0], leps_cut[:,1], met)\n",
    "print(mt2_var)"
   ]
  },
  {
   "cell_type": "code",
   "execution_count": 16,
   "id": "f5dd9712-309b-49dc-892d-043d8c08a6e8",
   "metadata": {},
   "outputs": [],
   "source": [
    "proc_axis = hist.axis.StrCategory([], name=\"process\", growth=True)\n",
    "histos = {\n",
    "    \"mt2\" : HistEFT(\n",
    "                proc_axis, \n",
    "                hist.axis.Regular(bins=50, start=0, stop=500, name=\"mt2\", label=\"$m_{T2}$ [GeV]\"),\n",
    "                wc_names=wc_lst, \n",
    "                label=\"Events\"),\n",
    "    \"l0pt\" : HistEFT(\n",
    "                proc_axis, \n",
    "                hist.axis.Regular(bins=40, start=0, stop=400, name='l0pt', label='leading lepton $p_T$ [GeV]'),\n",
    "                wc_names=wc_lst, \n",
    "                label=\"Events\"),\n",
    "}"
   ]
  },
  {
   "cell_type": "code",
   "execution_count": 22,
   "id": "8efe9f61-1982-4659-94d2-cb4cd9819cd6",
   "metadata": {},
   "outputs": [],
   "source": [
    "histos['mt2'].fill(**{\"mt2\":mt2_var, \n",
    "                    \"process\":'tW', \n",
    "                    \"weight\": event_weights[event_selection_mask], \n",
    "                    \"eft_coeff\": eft_coeffs[event_selection_mask]})"
   ]
  },
  {
   "cell_type": "code",
   "execution_count": 23,
   "id": "a79282d3-09b5-4e52-a321-20085060a7c9",
   "metadata": {},
   "outputs": [
    {
     "data": {
      "text/plain": [
       "array([[0., 0., 0., 0., 0., 0., 0., 0., 0., 0., 0., 0., 0., 0., 0., 0.,\n",
       "        0., 0., 0., 0., 0., 0., 0., 0., 0., 0., 0., 0., 0., 0., 0., 0.,\n",
       "        0., 0., 0., 0., 0., 0., 0., 0., 0., 0., 0., 0., 0., 0., 0., 0.,\n",
       "        0., 0.]])"
      ]
     },
     "execution_count": 23,
     "metadata": {},
     "output_type": "execute_result"
    }
   ],
   "source": [
    "histos['mt2'].as_hist({}).values()"
   ]
  },
  {
   "cell_type": "code",
   "execution_count": null,
   "id": "ffdbdcf1-fa46-4f8c-a394-d3b6ee921bf9",
   "metadata": {},
   "outputs": [],
   "source": [
    "njets_fill_info = {\n",
    "    \"njets\": njets_cut, \n",
    "    \"sample\": dataset,\n",
    "    \"weight\": event_weights[event_selection_mask], \n",
    "    \"eft_coeff\": eft_coeffs,\n",
    "}"
   ]
  },
  {
   "cell_type": "code",
   "execution_count": null,
   "id": "2b640df6-d6a5-40d2-bf0c-6e2fe02919af",
   "metadata": {},
   "outputs": [],
   "source": [
    "histos[\"jet_flav\"].fill(**jet_flav_fill_info)\n",
    "histos[\"njets\"].fill(**njets_fill_info)"
   ]
  },
  {
   "cell_type": "code",
   "execution_count": null,
   "id": "506ac500-ebba-4846-8ebc-829b94731c26",
   "metadata": {},
   "outputs": [],
   "source": [
    "h = histos['njets']\n",
    "# h.set_sm()\n",
    "# h.set_wilson_coefficients(**couplings)\n",
    "# print(h._wcs)\n",
    "fig, ax = plt.subplots(1,1)\n",
    "hist.plot1d(h, ax=ax, stack=False)\n",
    "ax.legend()"
   ]
  },
  {
   "cell_type": "code",
   "execution_count": null,
   "id": "1ee066b0-d797-479d-bebb-945b7bfb24e6",
   "metadata": {},
   "outputs": [],
   "source": []
  }
 ],
 "metadata": {
  "kernelspec": {
   "display_name": "ttbarEFT",
   "language": "python",
   "name": "ttbareft"
  },
  "language_info": {
   "codemirror_mode": {
    "name": "ipython",
    "version": 3
   },
   "file_extension": ".py",
   "mimetype": "text/x-python",
   "name": "python",
   "nbconvert_exporter": "python",
   "pygments_lexer": "ipython3",
   "version": "3.9.19"
  }
 },
 "nbformat": 4,
 "nbformat_minor": 5
}
