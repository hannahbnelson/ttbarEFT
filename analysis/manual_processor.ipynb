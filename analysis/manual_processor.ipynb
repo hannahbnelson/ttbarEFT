{
 "cells": [
  {
   "cell_type": "code",
   "execution_count": 1,
   "id": "14f686a3-e499-417f-9810-62dbdaff45be",
   "metadata": {},
   "outputs": [
    {
     "name": "stderr",
     "output_type": "stream",
     "text": [
      "/afs/crc.nd.edu/user/h/hnelson2/miniconda3/envs/ttbarEFT-env/lib/python3.9/site-packages/coffea/util.py:154: FutureWarning: In coffea version v2023.3.0 (target date: 31 Mar 2023), this will be an error.\n",
      "(Set coffea.deprecations_as_errors = True to get a stack trace now.)\n",
      "ImportError: coffea.hist is deprecated\n",
      "  warnings.warn(message, FutureWarning)\n"
     ]
    }
   ],
   "source": [
    "import pickle #read pickle file\n",
    "import coffea\n",
    "from coffea import hist\n",
    "from topcoffea.modules.HistEFT import HistEFT\n",
    "from coffea.analysis_tools import PackedSelection\n",
    "import topcoffea.modules.eft_helper as efth\n",
    "import gzip #read zipped pickle file\n",
    "import matplotlib.pyplot as plt #plot histograms\n",
    "from matplotlib.backends.backend_pdf import PdfPages\n",
    "import topcoffea.modules.utils as utils\n",
    "import mplhep as hep\n",
    "import numpy as np\n",
    "import awkward as ak\n",
    "np.seterr(divide='ignore', invalid='ignore', over='ignore')\n",
    "\n",
    "# import hist\n",
    "# from hist import Hist\n",
    "\n",
    "from coffea.nanoevents import NanoEventsFactory, NanoAODSchema\n",
    "NanoAODSchema.warn_missing_crossrefs = False"
   ]
  },
  {
   "cell_type": "code",
   "execution_count": 2,
   "id": "8cc49238-5071-489f-979b-c3718582529e",
   "metadata": {},
   "outputs": [],
   "source": [
    "hep.style.use(\"CMS\")\n",
    "params = {'axes.labelsize': 20,\n",
    "          'axes.titlesize': 20,\n",
    "          'legend.fontsize':20}\n",
    "plt.rcParams.update(params)\n",
    "\n",
    "wc_pts = {\"ctGIm\": 10.0, \"ctGRe\":10.0, \"cQj38\": 0.0, \"cQj18\": 0.0,\n",
    "            \"cQu8\": 0.0, \"cQd8\": 0.0, \"ctj8\": 0.0, \"ctu8\": 0.0,\n",
    "            \"ctd8\": 0.0, \"cQj31\": 0.0, \"cQj11\": 0.0, \"cQu1\": 0.0,\n",
    "            \"cQd1\": 0.0, \"ctj1\": 0.0, \"ctu1\": 0.0, \"ctd1\": 0.0}\n",
    "\n",
    "couplings = {'ctGIm': 0.7, 'ctGRe':0.7, 'cQj38':9.0, 'cQj18':7.0,\n",
    "            'cQu8':9.5, 'cQd8':12.0, 'ctj8':7.0, 'ctu8':9.0,\n",
    "            'ctd8':12.4, 'cQj31':3.0, 'cQj11':4.2, 'cQu1':5.5,\n",
    "            'cQd1':7.0, 'ctj1':4.4, 'ctu1':5.4, 'ctd1':7.0}"
   ]
  },
  {
   "cell_type": "code",
   "execution_count": 3,
   "id": "772c5bad-df5f-4eb6-a6c5-4394a2e483fb",
   "metadata": {},
   "outputs": [],
   "source": [
    "# Clean the objects\n",
    "def is_clean(obj_A, obj_B, drmin=0.4):\n",
    "    objB_near, objB_DR = obj_A.nearest(obj_B, return_metric=True)\n",
    "    mask = ak.fill_none(objB_DR > drmin, True)\n",
    "    return (mask)"
   ]
  },
  {
   "cell_type": "code",
   "execution_count": 4,
   "id": "e29e4314-51fa-4546-83a1-7de366326c2b",
   "metadata": {},
   "outputs": [],
   "source": [
    "# fname = \"/project01/ndcms/hnelson2/ttbarEFT/nanoGen/LHCEFT/TT01j2l_ref_djr/nanoGen_401.root\"\n",
    "fname = \"/project01/ndcms/hnelson2/ttbarEFT/nanoGen/LHCEFT/TT01j2l_ref/nanoGen_1216.root\"\n",
    "# fname = \"/project01/ndcms/hnelson2/mc_samples/central_UL/10C33CC0-846D-134B-99EA-F7E4200E9A48.root\"\n",
    "# fname = \"/project01/ndcms/hnelson2/ttbarEFT/nanoGen/TT01j2l_S3/nanoGen_101.root\"\n",
    "# fname = \"/afs/crc.nd.edu/user/h/hnelson2/cmssw/noEFT/CMSSW_10_6_26/src/nanoGen.root\"\n",
    "# Load in events from root file\n",
    "events = NanoEventsFactory.from_root(\n",
    "    fname,\n",
    "    schemaclass=NanoAODSchema.v6,\n",
    "    metadata={\"dataset\": \"TT01j2l_ref\"},\n",
    ").events()"
   ]
  },
  {
   "cell_type": "code",
   "execution_count": 5,
   "id": "37628b6b-bc7b-41b7-a651-afb1cb0f501d",
   "metadata": {},
   "outputs": [
    {
     "name": "stdout",
     "output_type": "stream",
     "text": [
      "wc list:  ['cQd1', 'ctj1', 'cQj31', 'ctj8', 'ctd1', 'ctd8', 'ctGRe', 'ctGIm', 'cQj11', 'cQj18', 'ctu8', 'cQd8', 'ctu1', 'cQu1', 'cQj38', 'cQu8']\n"
     ]
    }
   ],
   "source": [
    "wc_lst = utils.get_list_of_wc_names(fname)\n",
    "print(\"wc list: \", wc_lst)\n",
    "\n",
    "dataset = events.metadata['dataset']"
   ]
  },
  {
   "cell_type": "code",
   "execution_count": 6,
   "id": "ae4eb4b0-0790-4663-98db-953595ced09d",
   "metadata": {},
   "outputs": [],
   "source": [
    "# Extract the EFT quadratic coefficients and optionally use them to calculate the coefficients on the w**2 quartic function\n",
    "# eft_coeffs is never Jagged so convert immediately to numpy for ease of use.\n",
    "eft_coeffs = ak.to_numpy(events['EFTfitCoefficients']) if hasattr(events, \"EFTfitCoefficients\") else None"
   ]
  },
  {
   "cell_type": "code",
   "execution_count": 7,
   "id": "6250cd83-011d-4c3e-871c-e188e27f84e2",
   "metadata": {},
   "outputs": [],
   "source": [
    "if eft_coeffs is None:\n",
    "    event_weights = events[\"genWeight\"]\n",
    "else:\n",
    "    event_weights = np.ones_like(events['event'])"
   ]
  },
  {
   "cell_type": "code",
   "execution_count": 8,
   "id": "b9768cb5-27b0-47d2-8ed4-2075bd30e5cd",
   "metadata": {},
   "outputs": [],
   "source": [
    "genpart = events.GenPart\n",
    "is_final_mask = genpart.hasFlags([\"fromHardProcess\",\"isLastCopy\"])\n",
    "ele  = genpart[is_final_mask & (abs(genpart.pdgId) == 11)]\n",
    "mu   = genpart[is_final_mask & (abs(genpart.pdgId) == 13)]"
   ]
  },
  {
   "cell_type": "code",
   "execution_count": 41,
   "id": "0172a9d9-86db-4593-b78a-ec47d73d0c00",
   "metadata": {},
   "outputs": [],
   "source": [
    "######## Initialize objects  ########\n",
    "\n",
    "genpart = events.GenPart\n",
    "is_final_mask = genpart.hasFlags([\"fromHardProcess\",\"isLastCopy\"])\n",
    "# is_final_mask = genpart.hasFlags([\"fromHardProcess\"])\n",
    "ele  = genpart[is_final_mask & (abs(genpart.pdgId) == 11)]\n",
    "mu   = genpart[is_final_mask & (abs(genpart.pdgId) == 13)]\n",
    "jets = events.GenJet\n",
    "\n",
    "\n",
    "######## Lep selection  ########\n",
    "\n",
    "e_selec = ((ele.pt>20) & (abs(ele.eta)<2.5))\n",
    "m_selec = ((mu.pt>20) & (abs(mu.eta)<2.5))\n",
    "leps = ak.concatenate([ele[e_selec],mu[m_selec]],axis=1)\n",
    "leps = leps[ak.argsort(leps.pt, axis=-1, ascending=False)]\n",
    "\n",
    "\n",
    "######## Jet selection  ########\n",
    "\n",
    "jets = jets[(jets.pt>30) & (abs(jets.eta)<2.5)]\n",
    "jets_clean = jets[is_clean(jets, leps, drmin=0.4)]"
   ]
  },
  {
   "cell_type": "code",
   "execution_count": 42,
   "id": "78bda88e-8d73-4e3c-879f-31e7f82d2fc3",
   "metadata": {},
   "outputs": [],
   "source": [
    "######## Event selections ########\n",
    "\n",
    "nleps = ak.num(leps)\n",
    "njets = ak.num(jets_clean)\n",
    "\n",
    "at_least_two_leps = ak.fill_none(nleps>=2,False)\n",
    "at_least_two_jets = ak.fill_none(njets>=2, False)\n",
    "\n",
    "selections = PackedSelection()\n",
    "selections.add('2l', at_least_two_leps)\n",
    "selections.add('2j', at_least_two_jets)\n",
    "event_selection_mask = selections.all('2l', '2j')"
   ]
  },
  {
   "cell_type": "code",
   "execution_count": 43,
   "id": "ec113af0-1733-4e5c-866d-6d6d31c8b418",
   "metadata": {},
   "outputs": [],
   "source": [
    "# Jet Flavor\n",
    "jet_flav = abs(jets_clean[event_selection_mask].partonFlavour)\n",
    "njets_cut = ak.num(jets_clean[event_selection_mask])\n",
    "# jet_flav_eft = np.repeat(eft_coeffs[event_selection_mask], njets_cut, axis=0)\n",
    "# jet_flav_weight = np.repeat(event_weights[event_selection_mask], njets_cut, axis=0)"
   ]
  },
  {
   "cell_type": "code",
   "execution_count": 44,
   "id": "f5dd9712-309b-49dc-892d-043d8c08a6e8",
   "metadata": {},
   "outputs": [],
   "source": [
    "histos = {\n",
    "    \"jet_flav\" : HistEFT(\"Events\", wc_lst, hist.Cat(\"sample\", \"sample\"), hist.Bin(\"jet_flav\", \"pdgID jet flavor\", 23, 0, 23)),\n",
    "    \"njets\": HistEFT(\"Events\", wc_lst, hist.Cat(\"sample\", \"sample\"), hist.Bin(\"njets\", \"njets\", 8, 0, 8)),\n",
    "}"
   ]
  },
  {
   "cell_type": "code",
   "execution_count": 45,
   "id": "8efe9f61-1982-4659-94d2-cb4cd9819cd6",
   "metadata": {},
   "outputs": [
    {
     "ename": "NameError",
     "evalue": "name 'jet_flav_weight' is not defined",
     "output_type": "error",
     "traceback": [
      "\u001b[0;31m---------------------------------------------------------------------------\u001b[0m",
      "\u001b[0;31mNameError\u001b[0m                                 Traceback (most recent call last)",
      "Cell \u001b[0;32mIn[45], line 4\u001b[0m\n\u001b[1;32m      1\u001b[0m jet_flav_fill_info \u001b[38;5;241m=\u001b[39m {\n\u001b[1;32m      2\u001b[0m     \u001b[38;5;124m\"\u001b[39m\u001b[38;5;124mjet_flav\u001b[39m\u001b[38;5;124m\"\u001b[39m: ak\u001b[38;5;241m.\u001b[39mflatten(jet_flav), \n\u001b[1;32m      3\u001b[0m     \u001b[38;5;124m\"\u001b[39m\u001b[38;5;124msample\u001b[39m\u001b[38;5;124m\"\u001b[39m: dataset,\n\u001b[0;32m----> 4\u001b[0m     \u001b[38;5;124m\"\u001b[39m\u001b[38;5;124mweight\u001b[39m\u001b[38;5;124m\"\u001b[39m: \u001b[43mjet_flav_weight\u001b[49m, \n\u001b[1;32m      5\u001b[0m     \u001b[38;5;124m\"\u001b[39m\u001b[38;5;124meft_coeff\u001b[39m\u001b[38;5;124m\"\u001b[39m: jet_flav_eft, \n\u001b[1;32m      6\u001b[0m }\n",
      "\u001b[0;31mNameError\u001b[0m: name 'jet_flav_weight' is not defined"
     ]
    }
   ],
   "source": [
    "jet_flav_fill_info = {\n",
    "    \"jet_flav\": ak.flatten(jet_flav), \n",
    "    \"sample\": dataset,\n",
    "    \"weight\": jet_flav_weight, \n",
    "    \"eft_coeff\": jet_flav_eft, \n",
    "}"
   ]
  },
  {
   "cell_type": "code",
   "execution_count": null,
   "id": "ffdbdcf1-fa46-4f8c-a394-d3b6ee921bf9",
   "metadata": {},
   "outputs": [],
   "source": [
    "njets_fill_info = {\n",
    "    \"njets\": njets_cut, \n",
    "    \"sample\": dataset,\n",
    "    \"weight\": event_weights[event_selection_mask], \n",
    "    \"eft_coeff\": eft_coeffs,\n",
    "}"
   ]
  },
  {
   "cell_type": "code",
   "execution_count": null,
   "id": "2b640df6-d6a5-40d2-bf0c-6e2fe02919af",
   "metadata": {},
   "outputs": [],
   "source": [
    "histos[\"jet_flav\"].fill(**jet_flav_fill_info)\n",
    "histos[\"njets\"].fill(**njets_fill_info)"
   ]
  },
  {
   "cell_type": "code",
   "execution_count": null,
   "id": "506ac500-ebba-4846-8ebc-829b94731c26",
   "metadata": {},
   "outputs": [],
   "source": [
    "h = histos['njets']\n",
    "# h.set_sm()\n",
    "# h.set_wilson_coefficients(**couplings)\n",
    "# print(h._wcs)\n",
    "fig, ax = plt.subplots(1,1)\n",
    "hist.plot1d(h, ax=ax, stack=False)\n",
    "ax.legend()"
   ]
  },
  {
   "cell_type": "code",
   "execution_count": null,
   "id": "1ee066b0-d797-479d-bebb-945b7bfb24e6",
   "metadata": {},
   "outputs": [],
   "source": []
  }
 ],
 "metadata": {
  "kernelspec": {
   "display_name": "ttbarEFT-env",
   "language": "python",
   "name": "ttbareft-env"
  },
  "language_info": {
   "codemirror_mode": {
    "name": "ipython",
    "version": 3
   },
   "file_extension": ".py",
   "mimetype": "text/x-python",
   "name": "python",
   "nbconvert_exporter": "python",
   "pygments_lexer": "ipython3",
   "version": "3.9.18"
  }
 },
 "nbformat": 4,
 "nbformat_minor": 5
}
