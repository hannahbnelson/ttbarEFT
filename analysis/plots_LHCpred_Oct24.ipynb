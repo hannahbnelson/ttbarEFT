{
 "cells": [
  {
   "cell_type": "code",
   "execution_count": 1,
   "id": "720bc5bf-2758-4af9-b63d-2e2a99ad9ab8",
   "metadata": {},
   "outputs": [],
   "source": [
    "import numpy as np\n",
    "import awkward as ak\n",
    "\n",
    "import hist\n",
    "from topcoffea.modules.histEFT import HistEFT\n",
    "import topcoffea.modules.utils as utils\n",
    "\n",
    "import mplhep as hep\n",
    "import matplotlib.pyplot as plt"
   ]
  },
  {
   "cell_type": "code",
   "execution_count": 2,
   "id": "ca42bdda-21df-4a46-8efe-5ad9be3991e7",
   "metadata": {},
   "outputs": [],
   "source": [
    "hep.style.use(\"CMS\")\n",
    "params = {'axes.labelsize': 20,\n",
    "          'axes.titlesize': 20,\n",
    "          'legend.fontsize':20, \n",
    "          'lines.markersize':5}\n",
    "plt.rcParams.update(params)"
   ]
  },
  {
   "cell_type": "code",
   "execution_count": 3,
   "id": "2d1ee7fa-5eea-4b19-ac78-865bc7d691f8",
   "metadata": {},
   "outputs": [],
   "source": [
    "dr_ylabel = r\"$d\\sigma \\: [pb] \\; / \\; d\\Delta R \\: [bin]$\"\n",
    "avg_ylabel = r\"$d\\sigma \\: [pb] \\; / \\; d p_T \\: [GeV]$\"\n",
    "l0pt_ylabel = r\"$d\\sigma \\: [pb] \\; / \\; d p_T \\: [GeV]$\""
   ]
  },
  {
   "cell_type": "code",
   "execution_count": 4,
   "id": "9a295443-fb40-4fdd-9f27-64622e5f9251",
   "metadata": {},
   "outputs": [
    {
     "name": "stdout",
     "output_type": "stream",
     "text": [
      "{'avg_top_pt': Hist(Regular(50, 0, 500, name='average top $p_T$ [GeV]'), storage=Weight()) # Sum: WeightedSum(value=12.203, variance=0.0819834) (WeightedSum(value=12.2193, variance=0.0821044) with flow), 'l0pt': Hist(Regular(50, 0, 500, name='leading lepton $p_T$ [GeV]'), storage=Weight()) # Sum: WeightedSum(value=12.2182, variance=0.0821044) (WeightedSum(value=12.2193, variance=0.0821044) with flow), 'dr_leps': Hist(Regular(30, 0, 6, name='$\\\\Delta R$ (leading lepton, subleading lepton)'), storage=Weight()) # Sum: WeightedSum(value=12.2193, variance=0.0821044), 'mtt': Hist(Regular(80, 0, 2000, name='invariant mass of tops'), storage=Weight()) # Sum: WeightedSum(value=12.2038, variance=0.0820085) (WeightedSum(value=12.2193, variance=0.0821044) with flow), 'njets': Hist(Regular(10, 0, 10, name='njets'), storage=Weight()) # Sum: WeightedSum(value=12.2193, variance=0.0821044)}\n"
     ]
    }
   ],
   "source": [
    "fin1 = \"LHCEFT_1410_S1_SM.pkl.gz\"\n",
    "fin2 = \"LHCEFT_1410_S2_SM.pkl.gz\"\n",
    "fin3 = \"LHCEFT_1410_noEFT_SM.pkl.gz\"\n",
    "hists1 = utils.get_hist_from_pkl(fin1, allow_empty=False)\n",
    "hists2 = utils.get_hist_from_pkl(fin2, allow_empty=False)\n",
    "hists3 = utils.get_hist_from_pkl(fin3, allow_empty=False)\n",
    "print(hists1)"
   ]
  },
  {
   "cell_type": "code",
   "execution_count": 5,
   "id": "9771a90e-cbeb-4960-bc30-5e562f5eeac8",
   "metadata": {},
   "outputs": [],
   "source": [
    "def get_ratio_uncertainty(num_hist, denom_hist):\n",
    "    xvals = num_hist.axes.centers[0]\n",
    "    yvals_num = num_hist.values()\n",
    "    yvals_denom = denom_hist.values()\n",
    "    sigma_num = num_hist.variances()\n",
    "    sigma_denom = denom_hist.variances()\n",
    "\n",
    "    ratio = np.divide(yvals_num, yvals_denom)\n",
    "\n",
    "    # calculation for error propagation for ratio = yavls_num/yvals_denom\n",
    "    # generally, z=x/y; sigmaz = abs(z)sqrt((sigmax/x)^2+(sigmay/y)^2)\n",
    "    sigma_y = np.multiply(np.abs(ratio), np.sqrt(np.add(np.square(np.divide(sigma_num, yvals_num)), np.square(np.divide(sigma_denom, yvals_denom)))))\n",
    "\n",
    "    return sigma_y"
   ]
  },
  {
   "cell_type": "code",
   "execution_count": 6,
   "id": "e08dfd9b-a354-4f0b-8d00-0c6b85db846c",
   "metadata": {},
   "outputs": [],
   "source": [
    "def get_ratio_points(hist1, histSM):\n",
    "    num = hist1.values()\n",
    "    centers = hist1.axes.centers[0]\n",
    "    denomSM = histSM.values()\n",
    "    ratio = np.divide(num, denomSM)\n",
    "\n",
    "    return centers, ratio"
   ]
  },
  {
   "cell_type": "code",
   "execution_count": 7,
   "id": "5f202036-2cc1-4dd0-80b7-d99cedc7c7d6",
   "metadata": {},
   "outputs": [
    {
     "name": "stderr",
     "output_type": "stream",
     "text": [
      "/tmp/ipykernel_5402/522512218.py:5: RuntimeWarning: divide by zero encountered in divide\n",
      "  ratio = np.divide(num, denomSM)\n",
      "/tmp/ipykernel_5402/113102824.py:8: RuntimeWarning: divide by zero encountered in divide\n",
      "  ratio = np.divide(yvals_num, yvals_denom)\n",
      "/tmp/ipykernel_5402/113102824.py:12: RuntimeWarning: invalid value encountered in divide\n",
      "  sigma_y = np.multiply(np.abs(ratio), np.sqrt(np.add(np.square(np.divide(sigma_num, yvals_num)), np.square(np.divide(sigma_denom, yvals_denom)))))\n"
     ]
    },
    {
     "name": "stdout",
     "output_type": "stream",
     "text": [
      "plot saved to:  redoLHCEFT_SM_avgtoppt.pdf\n"
     ]
    }
   ],
   "source": [
    "h1 = hists1['avg_top_pt']\n",
    "h2 = hists2['avg_top_pt']\n",
    "h3 = hists3['avg_top_pt']\n",
    "\n",
    "centers1, ratio1 = get_ratio_points(h1, h3)\n",
    "centers2, ratio2 = get_ratio_points(h2, h3)\n",
    "uncert1 = get_ratio_uncertainty(h1, h3)\n",
    "uncert2 = get_ratio_uncertainty(h2, h3)\n",
    "\n",
    "fig, (ax, rax) = plt.subplots(\n",
    "        nrows=2,\n",
    "        ncols=1,\n",
    "        figsize=(10,12),\n",
    "        gridspec_kw={\"height_ratios\": (3, 1)},\n",
    "        sharex=True\n",
    "    )\n",
    "\n",
    "fig.subplots_adjust(hspace=.1)\n",
    "\n",
    "hep.histplot(h1, ax=ax, stack=False, yerr=True, label=r\"LO+1 jet (sample 1)\")\n",
    "hep.histplot(h2, ax=ax, stack=False, yerr=True, label=r\"LO+1 jet (sample 2)\")\n",
    "hep.histplot(h3, ax=ax, stack=False, yerr=True, label=r\"LO+1 jet (SM)\")\n",
    "ax.legend(loc = 'upper right', fontsize = 'small')\n",
    "ax.set_ylabel(avg_ylabel, fontsize='medium')\n",
    "ax.set_xlabel(\"\")\n",
    "plt.figtext(0.78, 0.89,\"(13 TeV)\", fontsize = 'small')\n",
    "plt.figtext(0.14, 0.89, r\"$pp \\rightarrow t\\bar{t} \\rightarrow l^+ \\nu_l b \\;\\; l^- \\bar{\\nu_l} \\bar{b}$\", fontsize='small')\n",
    "plt.figtext(0.25, 0.83, \"Reweighted to SM\", fontsize='small')\n",
    "\n",
    "rax.scatter(centers1, ratio1)\n",
    "rax.scatter(centers2, ratio2)\n",
    "rax.errorbar(centers1, ratio1, yerr = None, xerr = uncert1, capsize=5, ls='none')\n",
    "rax.errorbar(centers2, ratio2, yerr = None, xerr = uncert2, capsize=5, ls='none')\n",
    "\n",
    "rax.set_ylabel(\"Ratio EFT/SM\", fontsize='small')\n",
    "rax.set_xlabel(r\"average top $p_T$ [GeV]\", fontsize='small')\n",
    "rax.set_ylim([0, 2])\n",
    "\n",
    "rax.set_yticks([0,0.5,1,1.5,2])\n",
    "rax.minorticks_on()\n",
    "rax.grid(axis='y')\n",
    "\n",
    "# fig.show()\n",
    "figname = \"redoLHCEFT_SM_avgtoppt.pdf\"\n",
    "fig.savefig(figname)\n",
    "print(\"plot saved to: \", figname)\n",
    "plt.close(fig)"
   ]
  },
  {
   "cell_type": "code",
   "execution_count": 8,
   "id": "2686989c-be12-401a-bef3-f88ab49add8e",
   "metadata": {},
   "outputs": [
    {
     "name": "stderr",
     "output_type": "stream",
     "text": [
      "/tmp/ipykernel_5402/522512218.py:5: RuntimeWarning: divide by zero encountered in divide\n",
      "  ratio = np.divide(num, denomSM)\n",
      "/tmp/ipykernel_5402/522512218.py:5: RuntimeWarning: invalid value encountered in divide\n",
      "  ratio = np.divide(num, denomSM)\n",
      "/tmp/ipykernel_5402/113102824.py:8: RuntimeWarning: divide by zero encountered in divide\n",
      "  ratio = np.divide(yvals_num, yvals_denom)\n",
      "/tmp/ipykernel_5402/113102824.py:8: RuntimeWarning: invalid value encountered in divide\n",
      "  ratio = np.divide(yvals_num, yvals_denom)\n",
      "/tmp/ipykernel_5402/113102824.py:12: RuntimeWarning: invalid value encountered in divide\n",
      "  sigma_y = np.multiply(np.abs(ratio), np.sqrt(np.add(np.square(np.divide(sigma_num, yvals_num)), np.square(np.divide(sigma_denom, yvals_denom)))))\n"
     ]
    },
    {
     "name": "stdout",
     "output_type": "stream",
     "text": [
      "plot saved to:  redoLHCEFT_SM_l0pt.pdf\n"
     ]
    }
   ],
   "source": [
    "h1 = hists1['l0pt']\n",
    "h2 = hists2['l0pt']\n",
    "h3 = hists3['l0pt']\n",
    "\n",
    "centers1, ratio1 = get_ratio_points(h1, h3)\n",
    "centers2, ratio2 = get_ratio_points(h2, h3)\n",
    "uncert1 = get_ratio_uncertainty(h1, h3)\n",
    "uncert2 = get_ratio_uncertainty(h2, h3)\n",
    "\n",
    "fig, (ax, rax) = plt.subplots(\n",
    "        nrows=2,\n",
    "        ncols=1,\n",
    "        figsize=(10,12),\n",
    "        gridspec_kw={\"height_ratios\": (3, 1)},\n",
    "        sharex=True\n",
    "    )\n",
    "fig.subplots_adjust(hspace=.1)\n",
    "\n",
    "hep.histplot(h1, ax=ax, stack=False, yerr=True, label=r\"LO+1 jet (sample 1)\")\n",
    "hep.histplot(h2, ax=ax, stack=False, yerr=True, label=r\"LO+1 jet (sample 2)\")\n",
    "hep.histplot(h3, ax=ax, stack=False, yerr=True, label=r\"LO+1 jet (SM)\")\n",
    "ax.legend(loc = 'upper right', fontsize = 'small')\n",
    "ax.set_ylabel(l0pt_ylabel, fontsize='medium')\n",
    "ax.set_xlabel(\"\")\n",
    "\n",
    "plt.figtext(0.78, 0.89,\"(13 TeV)\", fontsize = 'small')\n",
    "plt.figtext(0.14, 0.89, r\"$pp \\rightarrow t\\bar{t} \\rightarrow l^+ \\nu_l b \\;\\; l^- \\bar{\\nu_l} \\bar{b}$\", fontsize='small')\n",
    "plt.figtext(0.27, 0.83, \"Reweighted to SM\", fontsize='small')\n",
    "\n",
    "rax.scatter(centers1, ratio1)\n",
    "rax.scatter(centers2, ratio2)\n",
    "rax.errorbar(centers1, ratio1, yerr = None, xerr = uncert1, capsize=5, ls='none')\n",
    "rax.errorbar(centers2, ratio2, yerr = None, xerr = uncert2, capsize=5, ls='none')\n",
    "\n",
    "rax.set_ylabel(\"Ratio EFT/SM\", fontsize='small')\n",
    "rax.set_xlabel(r\"leading lepton $p_T$ [GeV]\", fontsize='small')\n",
    "rax.set_ylim([0, 3])\n",
    "\n",
    "rax.set_yticks([0,0.5,1,1.5,2, 2.5, 3])\n",
    "rax.minorticks_on()\n",
    "rax.grid(axis='y')\n",
    "\n",
    "# fig.show()\n",
    "figname = \"redoLHCEFT_SM_l0pt.pdf\"\n",
    "fig.savefig(figname)\n",
    "print(\"plot saved to: \", figname)\n",
    "plt.close(fig)"
   ]
  },
  {
   "cell_type": "code",
   "execution_count": 9,
   "id": "205c373f-98e0-492b-80c3-6d9fe962a904",
   "metadata": {},
   "outputs": [
    {
     "name": "stderr",
     "output_type": "stream",
     "text": [
      "/tmp/ipykernel_5402/522512218.py:5: RuntimeWarning: divide by zero encountered in divide\n",
      "  ratio = np.divide(num, denomSM)\n",
      "/tmp/ipykernel_5402/522512218.py:5: RuntimeWarning: invalid value encountered in divide\n",
      "  ratio = np.divide(num, denomSM)\n",
      "/tmp/ipykernel_5402/113102824.py:8: RuntimeWarning: divide by zero encountered in divide\n",
      "  ratio = np.divide(yvals_num, yvals_denom)\n",
      "/tmp/ipykernel_5402/113102824.py:8: RuntimeWarning: invalid value encountered in divide\n",
      "  ratio = np.divide(yvals_num, yvals_denom)\n",
      "/tmp/ipykernel_5402/113102824.py:12: RuntimeWarning: invalid value encountered in divide\n",
      "  sigma_y = np.multiply(np.abs(ratio), np.sqrt(np.add(np.square(np.divide(sigma_num, yvals_num)), np.square(np.divide(sigma_denom, yvals_denom)))))\n"
     ]
    },
    {
     "name": "stdout",
     "output_type": "stream",
     "text": [
      "plot saved to:  redoLHCEFT_SM_drleps.pdf\n"
     ]
    }
   ],
   "source": [
    "h1 = hists1['dr_leps']\n",
    "h2 = hists2['dr_leps']\n",
    "h3 = hists3['dr_leps']\n",
    "\n",
    "centers1, ratio1 = get_ratio_points(h1, h3)\n",
    "centers2, ratio2 = get_ratio_points(h2, h3)\n",
    "uncert1 = get_ratio_uncertainty(h1, h3)\n",
    "uncert2 = get_ratio_uncertainty(h2, h3)\n",
    "\n",
    "fig, (ax, rax) = plt.subplots(\n",
    "        nrows=2,\n",
    "        ncols=1,\n",
    "        figsize=(10,12),\n",
    "        gridspec_kw={\"height_ratios\": (3, 1)},\n",
    "        sharex=True\n",
    "    )\n",
    "fig.subplots_adjust(hspace=.1)\n",
    "\n",
    "hep.histplot(h1, ax=ax, stack=False, yerr=True, label=r\"LO+1 jet (sample 1)\")\n",
    "hep.histplot(h2, ax=ax, stack=False, yerr=True, label=r\"LO+1 jet (sample 2)\")\n",
    "hep.histplot(h3, ax=ax, stack=False, yerr=True, label=r\"LO+1 jet (SM)\")\n",
    "\n",
    "ax.legend(loc = 'upper right', fontsize = 18)\n",
    "ax.set_ylabel(dr_ylabel, fontsize='medium')\n",
    "ax.set_xlabel(\"\")\n",
    "\n",
    "plt.figtext(0.78, 0.89,\"(13 TeV)\", fontsize = 'small')\n",
    "plt.figtext(0.14, 0.89, r\"$pp \\rightarrow t\\bar{t} \\rightarrow l^+ \\nu_l b \\;\\; l^- \\bar{\\nu_l} \\bar{b}$\", fontsize='small')\n",
    "plt.figtext(0.15, 0.83, \"Reweighted to SM\", fontsize='small')\n",
    "\n",
    "rax.scatter(centers1, ratio1)\n",
    "rax.scatter(centers2, ratio2)\n",
    "rax.errorbar(centers1, ratio1, yerr = None, xerr = uncert1, capsize=5, ls='none')\n",
    "rax.errorbar(centers2, ratio2, yerr = None, xerr = uncert2, capsize=5, ls='none')\n",
    "\n",
    "rax.set_ylabel(\"Ratio EFT/SM\", fontsize='small')\n",
    "rax.set_xlabel(r\"$\\Delta$ R (leading lepton, subleading lepton)\", fontsize='small')\n",
    "# rax.set_ylim([0, 3])\n",
    "\n",
    "rax.set_yticks([0,0.5,1,1.5,2])\n",
    "rax.grid(axis='y')\n",
    "\n",
    "# fig.show()\n",
    "figname = \"redoLHCEFT_SM_drleps.pdf\"\n",
    "fig.savefig(figname)\n",
    "print(\"plot saved to: \", figname)\n",
    "plt.close(fig)"
   ]
  },
  {
   "cell_type": "code",
   "execution_count": 10,
   "id": "d1155aad-ab2c-42bf-a73b-6d0637812e8b",
   "metadata": {},
   "outputs": [],
   "source": [
    "fin4 = \"LHCEFT_1410_S1_pt1.pkl.gz\"\n",
    "fin5 = \"LHCEFT_1410_S2_pt1.pkl.gz\"\n",
    "fin6 = \"LHCEFT_1410_noEFT_SM.pkl.gz\"\n",
    "hists4 = utils.get_hist_from_pkl(fin4, allow_empty=False)\n",
    "hists5 = utils.get_hist_from_pkl(fin5, allow_empty=False)\n",
    "hists6 = utils.get_hist_from_pkl(fin6, allow_empty=False)"
   ]
  },
  {
   "cell_type": "code",
   "execution_count": 11,
   "id": "b51db059-7d5f-4073-aaf2-5199b209ec12",
   "metadata": {},
   "outputs": [
    {
     "name": "stderr",
     "output_type": "stream",
     "text": [
      "/tmp/ipykernel_5402/522512218.py:5: RuntimeWarning: divide by zero encountered in divide\n",
      "  ratio = np.divide(num, denomSM)\n",
      "/tmp/ipykernel_5402/113102824.py:8: RuntimeWarning: divide by zero encountered in divide\n",
      "  ratio = np.divide(yvals_num, yvals_denom)\n",
      "/tmp/ipykernel_5402/113102824.py:12: RuntimeWarning: invalid value encountered in divide\n",
      "  sigma_y = np.multiply(np.abs(ratio), np.sqrt(np.add(np.square(np.divide(sigma_num, yvals_num)), np.square(np.divide(sigma_denom, yvals_denom)))))\n",
      "/tmp/ipykernel_5402/967686744.py:42: UserWarning: FigureCanvasAgg is non-interactive, and thus cannot be shown\n",
      "  fig.show()\n"
     ]
    },
    {
     "name": "stdout",
     "output_type": "stream",
     "text": [
      "plot saved to:  redoLHCEFT_pt2_avgtoppt.pdf\n"
     ]
    }
   ],
   "source": [
    "h1 = hists4['avg_top_pt']\n",
    "h2 = hists5['avg_top_pt']\n",
    "h3 = hists6['avg_top_pt']\n",
    "\n",
    "centers1, ratio1 = get_ratio_points(h1, h3)\n",
    "centers2, ratio2 = get_ratio_points(h2, h3)\n",
    "uncert1 = get_ratio_uncertainty(h1, h3)\n",
    "uncert2 = get_ratio_uncertainty(h2, h3)\n",
    "\n",
    "fig, (ax, rax) = plt.subplots(\n",
    "        nrows=2,\n",
    "        ncols=1,\n",
    "        figsize=(10,12),\n",
    "        gridspec_kw={\"height_ratios\": (3, 1)},\n",
    "        sharex=True\n",
    "    )\n",
    "\n",
    "fig.subplots_adjust(hspace=.1)\n",
    "\n",
    "hep.histplot(h1, ax=ax, stack=False, yerr=True, label=r\"LO+1 jet (sample 1)\")\n",
    "hep.histplot(h2, ax=ax, stack=False, yerr=True, label=r\"LO+1 jet (sample 2)\")\n",
    "hep.histplot(h3, ax=ax, stack=False, yerr=True, label=r\"LO+1 jet (SM)\")\n",
    "ax.legend(loc = 'upper right', fontsize = 'small')\n",
    "ax.set_ylabel(avg_ylabel, fontsize='medium')\n",
    "ax.set_xlabel(\"\")\n",
    "plt.figtext(0.78, 0.89,\"(13 TeV)\", fontsize = 'small')\n",
    "plt.figtext(0.14, 0.89, r\"$pp \\rightarrow t\\bar{t} \\rightarrow l^+ \\nu_l b \\;\\; l^- \\bar{\\nu_l} \\bar{b}$\", fontsize='small')\n",
    "plt.figtext(0.25, 0.83, \"Reweighted to Pt2\", fontsize='small')\n",
    "\n",
    "rax.scatter(centers1, ratio1)\n",
    "rax.scatter(centers2, ratio2)\n",
    "rax.errorbar(centers1, ratio1, yerr = None, xerr = uncert1, capsize=5, ls='none')\n",
    "rax.errorbar(centers2, ratio2, yerr = None, xerr = uncert2, capsize=5, ls='none')\n",
    "\n",
    "rax.set_ylabel(\"Ratio EFT/SM\", fontsize='small')\n",
    "rax.set_xlabel(r\"average top $p_T$ [GeV]\", fontsize='small')\n",
    "rax.set_ylim([0, 12])\n",
    "\n",
    "rax.set_yticks([0,2,4,6,8,10,12])\n",
    "rax.grid(axis='y')\n",
    "\n",
    "fig.show()\n",
    "\n",
    "# fig.show()\n",
    "figname = \"redoLHCEFT_pt2_avgtoppt.pdf\"\n",
    "fig.savefig(figname)\n",
    "print(\"plot saved to: \", figname)\n",
    "plt.close(fig)"
   ]
  },
  {
   "cell_type": "code",
   "execution_count": 12,
   "id": "7f440bc5-5736-4aee-8087-bcaa0d541a77",
   "metadata": {},
   "outputs": [
    {
     "name": "stderr",
     "output_type": "stream",
     "text": [
      "/tmp/ipykernel_5402/522512218.py:5: RuntimeWarning: divide by zero encountered in divide\n",
      "  ratio = np.divide(num, denomSM)\n",
      "/tmp/ipykernel_5402/522512218.py:5: RuntimeWarning: invalid value encountered in divide\n",
      "  ratio = np.divide(num, denomSM)\n",
      "/tmp/ipykernel_5402/113102824.py:8: RuntimeWarning: divide by zero encountered in divide\n",
      "  ratio = np.divide(yvals_num, yvals_denom)\n",
      "/tmp/ipykernel_5402/113102824.py:8: RuntimeWarning: invalid value encountered in divide\n",
      "  ratio = np.divide(yvals_num, yvals_denom)\n",
      "/tmp/ipykernel_5402/113102824.py:12: RuntimeWarning: invalid value encountered in divide\n",
      "  sigma_y = np.multiply(np.abs(ratio), np.sqrt(np.add(np.square(np.divide(sigma_num, yvals_num)), np.square(np.divide(sigma_denom, yvals_denom)))))\n"
     ]
    },
    {
     "name": "stdout",
     "output_type": "stream",
     "text": [
      "plot saved to:  redoLHCEFT_pt2_l0pt.pdf\n"
     ]
    }
   ],
   "source": [
    "h1 = hists4['l0pt']\n",
    "h2 = hists5['l0pt']\n",
    "h3 = hists6['l0pt']\n",
    "\n",
    "centers1, ratio1 = get_ratio_points(h1, h3)\n",
    "centers2, ratio2 = get_ratio_points(h2, h3)\n",
    "uncert1 = get_ratio_uncertainty(h1, h3)\n",
    "uncert2 = get_ratio_uncertainty(h2, h3)\n",
    "\n",
    "fig, (ax, rax) = plt.subplots(\n",
    "        nrows=2,\n",
    "        ncols=1,\n",
    "        figsize=(10,12),\n",
    "        gridspec_kw={\"height_ratios\": (3, 1)},\n",
    "        sharex=True\n",
    "    )\n",
    "fig.subplots_adjust(hspace=.1)\n",
    "\n",
    "hep.histplot(h1, ax=ax, stack=False, yerr=True, label=r\"LO+1 jet (sample 1)\")\n",
    "hep.histplot(h2, ax=ax, stack=False, yerr=True, label=r\"LO+1 jet (sample 2)\")\n",
    "hep.histplot(h3, ax=ax, stack=False, yerr=True, label=r\"LO+1 jet (SM)\")\n",
    "ax.legend(loc = 'upper right', fontsize = 'small')\n",
    "ax.set_ylabel(l0pt_ylabel, fontsize='medium')\n",
    "ax.set_xlabel(\"\")\n",
    "\n",
    "plt.figtext(0.78, 0.89,\"(13 TeV)\", fontsize = 'small')\n",
    "plt.figtext(0.14, 0.89, r\"$pp \\rightarrow t\\bar{t} \\rightarrow l^+ \\nu_l b \\;\\; l^- \\bar{\\nu_l} \\bar{b}$\", fontsize='small')\n",
    "plt.figtext(0.25, 0.83, \"Reweighted to Pt2\", fontsize='small')\n",
    "\n",
    "rax.scatter(centers1, ratio1)\n",
    "rax.scatter(centers2, ratio2)\n",
    "rax.errorbar(centers1, ratio1, yerr = None, xerr = uncert1, capsize=5, ls='none')\n",
    "rax.errorbar(centers2, ratio2, yerr = None, xerr = uncert2, capsize=5, ls='none')\n",
    "\n",
    "rax.set_ylabel(\"Ratio EFT/SM\", fontsize='small')\n",
    "rax.set_xlabel(r\"leading lepton $p_T$ [GeV]\", fontsize='small')\n",
    "rax.set_ylim([0, 20])\n",
    "\n",
    "rax.set_yticks([0,5,10,15,20])\n",
    "rax.grid(axis='y')\n",
    "\n",
    "# fig.show()\n",
    "figname = \"redoLHCEFT_pt2_l0pt.pdf\"\n",
    "fig.savefig(figname)\n",
    "print(\"plot saved to: \", figname)\n",
    "plt.close(fig)"
   ]
  },
  {
   "cell_type": "code",
   "execution_count": 13,
   "id": "96403346-4350-4f18-a257-cdfc176bca42",
   "metadata": {},
   "outputs": [
    {
     "name": "stderr",
     "output_type": "stream",
     "text": [
      "/tmp/ipykernel_5402/522512218.py:5: RuntimeWarning: divide by zero encountered in divide\n",
      "  ratio = np.divide(num, denomSM)\n",
      "/tmp/ipykernel_5402/522512218.py:5: RuntimeWarning: invalid value encountered in divide\n",
      "  ratio = np.divide(num, denomSM)\n",
      "/tmp/ipykernel_5402/113102824.py:8: RuntimeWarning: divide by zero encountered in divide\n",
      "  ratio = np.divide(yvals_num, yvals_denom)\n",
      "/tmp/ipykernel_5402/113102824.py:8: RuntimeWarning: invalid value encountered in divide\n",
      "  ratio = np.divide(yvals_num, yvals_denom)\n",
      "/tmp/ipykernel_5402/113102824.py:12: RuntimeWarning: invalid value encountered in divide\n",
      "  sigma_y = np.multiply(np.abs(ratio), np.sqrt(np.add(np.square(np.divide(sigma_num, yvals_num)), np.square(np.divide(sigma_denom, yvals_denom)))))\n"
     ]
    },
    {
     "name": "stdout",
     "output_type": "stream",
     "text": [
      "plot saved to:  redoLHCEFT_pt_drleps.pdf\n"
     ]
    }
   ],
   "source": [
    "h1 = hists4['dr_leps']\n",
    "h2 = hists5['dr_leps']\n",
    "h3 = hists6['dr_leps']\n",
    "\n",
    "centers1, ratio1 = get_ratio_points(h1, h3)\n",
    "centers2, ratio2 = get_ratio_points(h2, h3)\n",
    "uncert1 = get_ratio_uncertainty(h1, h3)\n",
    "uncert2 = get_ratio_uncertainty(h2, h3)\n",
    "\n",
    "fig, (ax, rax) = plt.subplots(\n",
    "        nrows=2,\n",
    "        ncols=1,\n",
    "        figsize=(10,12),\n",
    "        gridspec_kw={\"height_ratios\": (3, 1)},\n",
    "        sharex=True\n",
    "    )\n",
    "fig.subplots_adjust(hspace=.1)\n",
    "\n",
    "hep.histplot(h1, ax=ax, stack=False, yerr=True, label=r\"LO+1 jet (sample 1)\")\n",
    "hep.histplot(h2, ax=ax, stack=False, yerr=True, label=r\"LO+1 jet (sample 2)\")\n",
    "hep.histplot(h3, ax=ax, stack=False, yerr=True, label=r\"LO+1 jet (SM)\")\n",
    "\n",
    "ax.legend(loc = 'upper right', fontsize = 18)\n",
    "ax.set_ylabel(dr_ylabel, fontsize='medium')\n",
    "ax.set_xlabel(\"\")\n",
    "\n",
    "plt.figtext(0.78, 0.89,\"(13 TeV)\", fontsize = 'small')\n",
    "plt.figtext(0.14, 0.89, r\"$pp \\rightarrow t\\bar{t} \\rightarrow l^+ \\nu_l b \\;\\; l^- \\bar{\\nu_l} \\bar{b}$\", fontsize='small')\n",
    "plt.figtext(0.25, 0.83, \"Reweighted to Pt2\", fontsize='small')\n",
    "\n",
    "rax.scatter(centers1, ratio1)\n",
    "rax.scatter(centers2, ratio2)\n",
    "rax.errorbar(centers1, ratio1, yerr = None, xerr = uncert1, capsize=5, ls='none')\n",
    "rax.errorbar(centers2, ratio2, yerr = None, xerr = uncert2, capsize=5, ls='none')\n",
    "\n",
    "rax.set_ylabel(\"Ratio EFT/SM\", fontsize='small')\n",
    "rax.set_xlabel(r\"$\\Delta$ R (leading lepton, subleading lepton)\", fontsize='small')\n",
    "rax.set_ylim([0, 10])\n",
    "\n",
    "rax.set_yticks([0,2,4,6,8, 10])\n",
    "rax.grid(axis='y')\n",
    "\n",
    "# fig.show()\n",
    "figname = \"redoLHCEFT_pt_drleps.pdf\"\n",
    "fig.savefig(figname)\n",
    "print(\"plot saved to: \", figname)\n",
    "plt.close(fig)"
   ]
  }
 ],
 "metadata": {
  "kernelspec": {
   "display_name": "ttbarEFT",
   "language": "python",
   "name": "ttbareft"
  },
  "language_info": {
   "codemirror_mode": {
    "name": "ipython",
    "version": 3
   },
   "file_extension": ".py",
   "mimetype": "text/x-python",
   "name": "python",
   "nbconvert_exporter": "python",
   "pygments_lexer": "ipython3",
   "version": "3.9.19"
  }
 },
 "nbformat": 4,
 "nbformat_minor": 5
}
