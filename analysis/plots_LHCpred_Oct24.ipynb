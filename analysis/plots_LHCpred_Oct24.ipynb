{
 "cells": [
  {
   "cell_type": "code",
   "execution_count": 37,
   "id": "720bc5bf-2758-4af9-b63d-2e2a99ad9ab8",
   "metadata": {},
   "outputs": [],
   "source": [
    "import numpy as np\n",
    "import awkward as ak\n",
    "\n",
    "import hist\n",
    "from topcoffea.modules.histEFT import HistEFT\n",
    "import topcoffea.modules.utils as utils\n",
    "\n",
    "import mplhep as hep\n",
    "import matplotlib.pyplot as plt"
   ]
  },
  {
   "cell_type": "code",
   "execution_count": 124,
   "id": "ca42bdda-21df-4a46-8efe-5ad9be3991e7",
   "metadata": {},
   "outputs": [],
   "source": [
    "hep.style.use(\"CMS\")\n",
    "params = {'axes.labelsize': 20,\n",
    "          'axes.titlesize': 20,\n",
    "          'legend.fontsize':20, \n",
    "          'lines.markersize':5}\n",
    "plt.rcParams.update(params)"
   ]
  },
  {
   "cell_type": "code",
   "execution_count": 3,
   "id": "2d1ee7fa-5eea-4b19-ac78-865bc7d691f8",
   "metadata": {},
   "outputs": [],
   "source": [
    "dr_ylabel = r\"$d\\sigma \\: [pb] \\; / \\; d\\Delta R \\: [bin]$\"\n",
    "avg_ylabel = r\"$d\\sigma \\: [pb] \\; / \\; d p_T \\: [GeV]$\"\n",
    "l0pt_ylabel = r\"$d\\sigma \\: [pb] \\; / \\; d p_T \\: [GeV]$\""
   ]
  },
  {
   "cell_type": "code",
   "execution_count": 138,
   "id": "9a295443-fb40-4fdd-9f27-64622e5f9251",
   "metadata": {},
   "outputs": [
    {
     "name": "stdout",
     "output_type": "stream",
     "text": [
      "{'avg_top_pt': Hist(Regular(50, 0, 500, name='average top $p_T$ [GeV]'), storage=Weight()) # Sum: WeightedSum(value=11.632, variance=0.0744905) (WeightedSum(value=11.6475, variance=0.0746004) with flow), 'l0pt': Hist(Regular(50, 0, 500, name='leading lepton $p_T$ [GeV]'), storage=Weight()) # Sum: WeightedSum(value=11.6465, variance=0.0746004) (WeightedSum(value=11.6475, variance=0.0746004) with flow), 'dr_leps': Hist(Regular(30, 0, 6, name='$\\\\Delta R$ (leading lepton, subleading lepton)'), storage=Weight()) # Sum: WeightedSum(value=11.6475, variance=0.0746004), 'mtt': Hist(Regular(80, 0, 2000, name='invariant mass of tops'), storage=Weight()) # Sum: WeightedSum(value=11.6328, variance=0.0745132) (WeightedSum(value=11.6475, variance=0.0746004) with flow), 'njets': Hist(Regular(10, 0, 10, name='njets'), storage=Weight()) # Sum: WeightedSum(value=11.6475, variance=0.0746004)}\n"
     ]
    }
   ],
   "source": [
    "fin1 = \"LHCEFT_1410_S1_SM.pkl.gz\"\n",
    "fin2 = \"LHCEFT_1410_S2_SM.pkl.gz\"\n",
    "fin3 = \"LHCEFT_1410_noEFT_SM.pkl.gz\"\n",
    "hists1 = utils.get_hist_from_pkl(fin1, allow_empty=False)\n",
    "hists2 = utils.get_hist_from_pkl(fin2, allow_empty=False)\n",
    "hists3 = utils.get_hist_from_pkl(fin3, allow_empty=False)\n",
    "print(hists1)"
   ]
  },
  {
   "cell_type": "code",
   "execution_count": 126,
   "id": "824c2a82-69c5-49fd-82ef-2ec0ee081fb9",
   "metadata": {},
   "outputs": [],
   "source": [
    "# h1 = hists1['avg_top_pt']\n",
    "# h2 = hists2['avg_top_pt']\n",
    "# h3 = hists3['avg_top_pt']\n",
    "# fig, ax = plt.subplots(1,1)\n",
    "# hep.histplot(h1, ax=ax, stack=False, yerr=True, label=r\"LO+1 jet (sample 1)\")\n",
    "# hep.histplot(h2, ax=ax, stack=False, yerr=True, label=r\"LO+1 jet (sample 2)\")\n",
    "# hep.histplot(h3, ax=ax, stack=False, yerr=True, label=r\"LO+1 jet (SM)\")\n",
    "# ax.legend(loc = 'upper right', fontsize = 'small')\n",
    "# ax.set_ylabel(avg_ylabel, fontsize='medium')\n",
    "# plt.figtext(0.78, 0.89,\"(13 TeV)\", fontsize = 'small')\n",
    "# plt.figtext(0.14, 0.89, r\"$pp \\rightarrow t\\bar{t} \\rightarrow l^+ \\nu_l b \\;\\; l^- \\bar{\\nu_l} \\bar{b}$\", fontsize='small')\n",
    "# plt.figtext(0.25, 0.83, \"Reweighted to SM\", fontsize='small')\n",
    "# figname = \"LHCEFT_SM_avgTopPt.pdf\"\n",
    "# # fig.savefig(figname)\n",
    "# print(\"plot saved to: \", figname)\n",
    "# # plt.close(fig)"
   ]
  },
  {
   "cell_type": "code",
   "execution_count": 177,
   "id": "5f202036-2cc1-4dd0-80b7-d99cedc7c7d6",
   "metadata": {},
   "outputs": [
    {
     "name": "stderr",
     "output_type": "stream",
     "text": [
      "/tmp/ipykernel_3605748/2427249649.py:37: RuntimeWarning: divide by zero encountered in divide\n",
      "  rax.scatter(centers1, np.divide(num1, denom1), linewidths=0.5)\n",
      "/tmp/ipykernel_3605748/2427249649.py:41: RuntimeWarning: divide by zero encountered in divide\n",
      "  rax.scatter(centers2, np.divide(num2, denom1))\n"
     ]
    },
    {
     "name": "stdout",
     "output_type": "stream",
     "text": [
      "plot saved to:  redoLHCEFT_SM_avgtoppt.pdf\n"
     ]
    }
   ],
   "source": [
    "h1 = hists1['avg_top_pt']\n",
    "h2 = hists2['avg_top_pt']\n",
    "h3 = hists3['avg_top_pt']\n",
    "\n",
    "fig, (ax, rax) = plt.subplots(\n",
    "        nrows=2,\n",
    "        ncols=1,\n",
    "        figsize=(10,12),\n",
    "        gridspec_kw={\"height_ratios\": (3, 1)},\n",
    "        sharex=True\n",
    "    )\n",
    "\n",
    "fig.subplots_adjust(hspace=.1)\n",
    "\n",
    "hep.histplot(h1, ax=ax, stack=False, yerr=True, label=r\"LO+1 jet (sample 1)\")\n",
    "hep.histplot(h2, ax=ax, stack=False, yerr=True, label=r\"LO+1 jet (sample 2)\")\n",
    "hep.histplot(h3, ax=ax, stack=False, yerr=True, label=r\"LO+1 jet (SM)\")\n",
    "ax.legend(loc = 'upper right', fontsize = 'small')\n",
    "ax.set_ylabel(avg_ylabel, fontsize='medium')\n",
    "ax.set_xlabel(\"\")\n",
    "plt.figtext(0.78, 0.89,\"(13 TeV)\", fontsize = 'small')\n",
    "plt.figtext(0.14, 0.89, r\"$pp \\rightarrow t\\bar{t} \\rightarrow l^+ \\nu_l b \\;\\; l^- \\bar{\\nu_l} \\bar{b}$\", fontsize='small')\n",
    "plt.figtext(0.25, 0.83, \"Reweighted to SM\", fontsize='small')\n",
    "\n",
    "# num1 = h1.values()[:-10]\n",
    "# denom1 = h3.values()[:-10]\n",
    "# centers1 = h1.axes.centers[0][:-10]\n",
    "# rax.scatter(centers1, np.divide(num1, denom1), linewidths=0.5)\n",
    "\n",
    "# num2 = h2.values()[:-10]\n",
    "# centers2 = h2.axes.centers[0][:-10]\n",
    "# rax.scatter(centers2, np.divide(num2, denom1))\n",
    "\n",
    "num1 = h1.values()\n",
    "denom1 = h3.values()\n",
    "centers1 = h1.axes.centers[0]\n",
    "rax.scatter(centers1, np.divide(num1, denom1), linewidths=0.5)\n",
    "\n",
    "num2 = h2.values()\n",
    "centers2 = h2.axes.centers[0]\n",
    "rax.scatter(centers2, np.divide(num2, denom1))\n",
    "\n",
    "rax.set_ylabel(\"Ratio EFT/SM\", fontsize='small')\n",
    "rax.set_xlabel(r\"average top $p_T$ [GeV]\", fontsize='small')\n",
    "rax.set_ylim([0, 2])\n",
    "\n",
    "# fig.show()\n",
    "figname = \"redoLHCEFT_SM_avgtoppt.pdf\"\n",
    "fig.savefig(figname)\n",
    "print(\"plot saved to: \", figname)\n",
    "plt.close(fig)"
   ]
  },
  {
   "cell_type": "code",
   "execution_count": 178,
   "id": "2686989c-be12-401a-bef3-f88ab49add8e",
   "metadata": {},
   "outputs": [
    {
     "name": "stdout",
     "output_type": "stream",
     "text": [
      "plot saved to:  redoLHCEFT_SM_l0pt.pdf\n"
     ]
    },
    {
     "name": "stderr",
     "output_type": "stream",
     "text": [
      "/tmp/ipykernel_3605748/2115146082.py:28: RuntimeWarning: divide by zero encountered in divide\n",
      "  rax.scatter(centers1, np.divide(num1, denom1), linewidths=0.5)\n",
      "/tmp/ipykernel_3605748/2115146082.py:28: RuntimeWarning: invalid value encountered in divide\n",
      "  rax.scatter(centers1, np.divide(num1, denom1), linewidths=0.5)\n",
      "/tmp/ipykernel_3605748/2115146082.py:32: RuntimeWarning: divide by zero encountered in divide\n",
      "  rax.scatter(centers2, np.divide(num2, denom1))\n",
      "/tmp/ipykernel_3605748/2115146082.py:32: RuntimeWarning: invalid value encountered in divide\n",
      "  rax.scatter(centers2, np.divide(num2, denom1))\n"
     ]
    }
   ],
   "source": [
    "h1 = hists1['l0pt']\n",
    "h2 = hists2['l0pt']\n",
    "h3 = hists3['l0pt']\n",
    "\n",
    "fig, (ax, rax) = plt.subplots(\n",
    "        nrows=2,\n",
    "        ncols=1,\n",
    "        figsize=(10,12),\n",
    "        gridspec_kw={\"height_ratios\": (3, 1)},\n",
    "        sharex=True\n",
    "    )\n",
    "fig.subplots_adjust(hspace=.1)\n",
    "\n",
    "hep.histplot(h1, ax=ax, stack=False, yerr=True, label=r\"LO+1 jet (sample 1)\")\n",
    "hep.histplot(h2, ax=ax, stack=False, yerr=True, label=r\"LO+1 jet (sample 2)\")\n",
    "hep.histplot(h3, ax=ax, stack=False, yerr=True, label=r\"LO+1 jet (SM)\")\n",
    "ax.legend(loc = 'upper right', fontsize = 'small')\n",
    "ax.set_ylabel(l0pt_ylabel, fontsize='medium')\n",
    "ax.set_xlabel(\"\")\n",
    "\n",
    "plt.figtext(0.78, 0.89,\"(13 TeV)\", fontsize = 'small')\n",
    "plt.figtext(0.14, 0.89, r\"$pp \\rightarrow t\\bar{t} \\rightarrow l^+ \\nu_l b \\;\\; l^- \\bar{\\nu_l} \\bar{b}$\", fontsize='small')\n",
    "plt.figtext(0.27, 0.83, \"Reweighted to SM\", fontsize='small')\n",
    "\n",
    "num1 = h1.values()\n",
    "denom1 = h3.values()\n",
    "centers1 = h1.axes.centers[0]\n",
    "rax.scatter(centers1, np.divide(num1, denom1), linewidths=0.5)\n",
    "\n",
    "num2 = h2.values()\n",
    "centers2 = h2.axes.centers[0]\n",
    "rax.scatter(centers2, np.divide(num2, denom1))\n",
    "\n",
    "rax.set_ylabel(\"Ratio EFT/SM\", fontsize='small')\n",
    "rax.set_xlabel(r\"leading lepton $p_T$ [GeV]\", fontsize='small')\n",
    "rax.set_ylim([0, 3])\n",
    "\n",
    "# fig.show()\n",
    "figname = \"redoLHCEFT_SM_l0pt.pdf\"\n",
    "fig.savefig(figname)\n",
    "print(\"plot saved to: \", figname)\n",
    "plt.close(fig)"
   ]
  },
  {
   "cell_type": "code",
   "execution_count": 179,
   "id": "205c373f-98e0-492b-80c3-6d9fe962a904",
   "metadata": {},
   "outputs": [
    {
     "name": "stdout",
     "output_type": "stream",
     "text": [
      "plot saved to:  redoLHCEFT_SM_drleps.pdf\n"
     ]
    },
    {
     "name": "stderr",
     "output_type": "stream",
     "text": [
      "/tmp/ipykernel_3605748/3695836344.py:29: RuntimeWarning: divide by zero encountered in divide\n",
      "  rax.scatter(centers1, np.divide(num1, denom1), linewidths=0.5)\n",
      "/tmp/ipykernel_3605748/3695836344.py:29: RuntimeWarning: invalid value encountered in divide\n",
      "  rax.scatter(centers1, np.divide(num1, denom1), linewidths=0.5)\n",
      "/tmp/ipykernel_3605748/3695836344.py:33: RuntimeWarning: divide by zero encountered in divide\n",
      "  rax.scatter(centers2, np.divide(num2, denom1))\n",
      "/tmp/ipykernel_3605748/3695836344.py:33: RuntimeWarning: invalid value encountered in divide\n",
      "  rax.scatter(centers2, np.divide(num2, denom1))\n"
     ]
    }
   ],
   "source": [
    "h1 = hists1['dr_leps']\n",
    "h2 = hists2['dr_leps']\n",
    "h3 = hists3['dr_leps']\n",
    "\n",
    "fig, (ax, rax) = plt.subplots(\n",
    "        nrows=2,\n",
    "        ncols=1,\n",
    "        figsize=(10,12),\n",
    "        gridspec_kw={\"height_ratios\": (3, 1)},\n",
    "        sharex=True\n",
    "    )\n",
    "fig.subplots_adjust(hspace=.1)\n",
    "\n",
    "hep.histplot(h1, ax=ax, stack=False, yerr=True, label=r\"LO+1 jet (sample 1)\")\n",
    "hep.histplot(h2, ax=ax, stack=False, yerr=True, label=r\"LO+1 jet (sample 2)\")\n",
    "hep.histplot(h3, ax=ax, stack=False, yerr=True, label=r\"LO+1 jet (SM)\")\n",
    "\n",
    "ax.legend(loc = 'upper right', fontsize = 18)\n",
    "ax.set_ylabel(dr_ylabel, fontsize='medium')\n",
    "ax.set_xlabel(\"\")\n",
    "\n",
    "plt.figtext(0.78, 0.89,\"(13 TeV)\", fontsize = 'small')\n",
    "plt.figtext(0.14, 0.89, r\"$pp \\rightarrow t\\bar{t} \\rightarrow l^+ \\nu_l b \\;\\; l^- \\bar{\\nu_l} \\bar{b}$\", fontsize='small')\n",
    "plt.figtext(0.15, 0.83, \"Reweighted to SM\", fontsize='small')\n",
    "\n",
    "num1 = h1.values()\n",
    "denom1 = h3.values()\n",
    "centers1 = h1.axes.centers[0]\n",
    "rax.scatter(centers1, np.divide(num1, denom1), linewidths=0.5)\n",
    "\n",
    "num2 = h2.values()\n",
    "centers2 = h2.axes.centers[0]\n",
    "rax.scatter(centers2, np.divide(num2, denom1))\n",
    "\n",
    "rax.set_ylabel(\"Ratio EFT/SM\", fontsize='small')\n",
    "rax.set_xlabel(r\"$\\Delta$ R (leading lepton, subleading lepton)\", fontsize='small')\n",
    "# rax.set_ylim([0, 3])\n",
    "\n",
    "# fig.show()\n",
    "figname = \"redoLHCEFT_SM_drleps.pdf\"\n",
    "fig.savefig(figname)\n",
    "print(\"plot saved to: \", figname)\n",
    "plt.close(fig)"
   ]
  },
  {
   "cell_type": "code",
   "execution_count": 180,
   "id": "d1155aad-ab2c-42bf-a73b-6d0637812e8b",
   "metadata": {},
   "outputs": [],
   "source": [
    "fin4 = \"LHCEFT_1410_S1_pt1.pkl.gz\"\n",
    "fin5 = \"LHCEFT_1410_S2_pt1.pkl.gz\"\n",
    "fin6 = \"LHCEFT_1410_noEFT_SM.pkl.gz\"\n",
    "hists4 = utils.get_hist_from_pkl(fin4, allow_empty=False)\n",
    "hists5 = utils.get_hist_from_pkl(fin5, allow_empty=False)\n",
    "hists6 = utils.get_hist_from_pkl(fin6, allow_empty=False)"
   ]
  },
  {
   "cell_type": "code",
   "execution_count": 181,
   "id": "b51db059-7d5f-4073-aaf2-5199b209ec12",
   "metadata": {},
   "outputs": [
    {
     "name": "stdout",
     "output_type": "stream",
     "text": [
      "plot saved to:  redoLHCEFT_pt2_avgtoppt.pdf\n"
     ]
    },
    {
     "name": "stderr",
     "output_type": "stream",
     "text": [
      "/tmp/ipykernel_3605748/1149237736.py:28: RuntimeWarning: divide by zero encountered in divide\n",
      "  rax.scatter(centers1, np.divide(num1, denom1))\n",
      "/tmp/ipykernel_3605748/1149237736.py:32: RuntimeWarning: divide by zero encountered in divide\n",
      "  rax.scatter(centers2, np.divide(num2, denom1))\n",
      "/tmp/ipykernel_3605748/1149237736.py:38: UserWarning: FigureCanvasAgg is non-interactive, and thus cannot be shown\n",
      "  fig.show()\n"
     ]
    }
   ],
   "source": [
    "h1 = hists4['avg_top_pt']\n",
    "h2 = hists5['avg_top_pt']\n",
    "h3 = hists6['avg_top_pt']\n",
    "\n",
    "fig, (ax, rax) = plt.subplots(\n",
    "        nrows=2,\n",
    "        ncols=1,\n",
    "        figsize=(10,12),\n",
    "        gridspec_kw={\"height_ratios\": (3, 1)},\n",
    "        sharex=True\n",
    "    )\n",
    "\n",
    "fig.subplots_adjust(hspace=.1)\n",
    "\n",
    "hep.histplot(h1, ax=ax, stack=False, yerr=True, label=r\"LO+1 jet (sample 1)\")\n",
    "hep.histplot(h2, ax=ax, stack=False, yerr=True, label=r\"LO+1 jet (sample 2)\")\n",
    "hep.histplot(h3, ax=ax, stack=False, yerr=True, label=r\"LO+1 jet (SM)\")\n",
    "ax.legend(loc = 'upper right', fontsize = 'small')\n",
    "ax.set_ylabel(avg_ylabel, fontsize='medium')\n",
    "ax.set_xlabel(\"\")\n",
    "plt.figtext(0.78, 0.89,\"(13 TeV)\", fontsize = 'small')\n",
    "plt.figtext(0.14, 0.89, r\"$pp \\rightarrow t\\bar{t} \\rightarrow l^+ \\nu_l b \\;\\; l^- \\bar{\\nu_l} \\bar{b}$\", fontsize='small')\n",
    "plt.figtext(0.25, 0.83, \"Reweighted to Pt2\", fontsize='small')\n",
    "\n",
    "num1 = h1.values()\n",
    "denom1 = h3.values()\n",
    "centers1 = h1.axes.centers[0]\n",
    "rax.scatter(centers1, np.divide(num1, denom1))\n",
    "\n",
    "num2 = h2.values()\n",
    "centers2 = h2.axes.centers[0]\n",
    "rax.scatter(centers2, np.divide(num2, denom1))\n",
    "\n",
    "rax.set_ylabel(\"Ratio EFT/SM\", fontsize='small')\n",
    "rax.set_xlabel(r\"average top $p_T$ [GeV]\", fontsize='small')\n",
    "rax.set_ylim([0, 12])\n",
    "\n",
    "fig.show()\n",
    "\n",
    "# fig.show()\n",
    "figname = \"redoLHCEFT_pt2_avgtoppt.pdf\"\n",
    "fig.savefig(figname)\n",
    "print(\"plot saved to: \", figname)\n",
    "plt.close(fig)"
   ]
  },
  {
   "cell_type": "code",
   "execution_count": 182,
   "id": "7f440bc5-5736-4aee-8087-bcaa0d541a77",
   "metadata": {},
   "outputs": [
    {
     "name": "stdout",
     "output_type": "stream",
     "text": [
      "plot saved to:  redoLHCEFT_pt2_l0pt.pdf\n"
     ]
    },
    {
     "name": "stderr",
     "output_type": "stream",
     "text": [
      "/tmp/ipykernel_3605748/3984088244.py:28: RuntimeWarning: divide by zero encountered in divide\n",
      "  rax.scatter(centers1, np.divide(num1, denom1), linewidths=0.5)\n",
      "/tmp/ipykernel_3605748/3984088244.py:28: RuntimeWarning: invalid value encountered in divide\n",
      "  rax.scatter(centers1, np.divide(num1, denom1), linewidths=0.5)\n",
      "/tmp/ipykernel_3605748/3984088244.py:32: RuntimeWarning: divide by zero encountered in divide\n",
      "  rax.scatter(centers2, np.divide(num2, denom1))\n",
      "/tmp/ipykernel_3605748/3984088244.py:32: RuntimeWarning: invalid value encountered in divide\n",
      "  rax.scatter(centers2, np.divide(num2, denom1))\n"
     ]
    }
   ],
   "source": [
    "h1 = hists4['l0pt']\n",
    "h2 = hists5['l0pt']\n",
    "h3 = hists6['l0pt']\n",
    "\n",
    "fig, (ax, rax) = plt.subplots(\n",
    "        nrows=2,\n",
    "        ncols=1,\n",
    "        figsize=(10,12),\n",
    "        gridspec_kw={\"height_ratios\": (3, 1)},\n",
    "        sharex=True\n",
    "    )\n",
    "fig.subplots_adjust(hspace=.1)\n",
    "\n",
    "hep.histplot(h1, ax=ax, stack=False, yerr=True, label=r\"LO+1 jet (sample 1)\")\n",
    "hep.histplot(h2, ax=ax, stack=False, yerr=True, label=r\"LO+1 jet (sample 2)\")\n",
    "hep.histplot(h3, ax=ax, stack=False, yerr=True, label=r\"LO+1 jet (SM)\")\n",
    "ax.legend(loc = 'upper right', fontsize = 'small')\n",
    "ax.set_ylabel(l0pt_ylabel, fontsize='medium')\n",
    "ax.set_xlabel(\"\")\n",
    "\n",
    "plt.figtext(0.78, 0.89,\"(13 TeV)\", fontsize = 'small')\n",
    "plt.figtext(0.14, 0.89, r\"$pp \\rightarrow t\\bar{t} \\rightarrow l^+ \\nu_l b \\;\\; l^- \\bar{\\nu_l} \\bar{b}$\", fontsize='small')\n",
    "plt.figtext(0.25, 0.83, \"Reweighted to Pt2\", fontsize='small')\n",
    "\n",
    "num1 = h1.values()\n",
    "denom1 = h3.values()\n",
    "centers1 = h1.axes.centers[0]\n",
    "rax.scatter(centers1, np.divide(num1, denom1), linewidths=0.5)\n",
    "\n",
    "num2 = h2.values()\n",
    "centers2 = h2.axes.centers[0]\n",
    "rax.scatter(centers2, np.divide(num2, denom1))\n",
    "\n",
    "rax.set_ylabel(\"Ratio EFT/SM\", fontsize='small')\n",
    "rax.set_xlabel(r\"leading lepton $p_T$ [GeV]\", fontsize='small')\n",
    "rax.set_ylim([0, 20])\n",
    "\n",
    "# fig.show()\n",
    "figname = \"redoLHCEFT_pt2_l0pt.pdf\"\n",
    "fig.savefig(figname)\n",
    "print(\"plot saved to: \", figname)\n",
    "plt.close(fig)"
   ]
  },
  {
   "cell_type": "code",
   "execution_count": 183,
   "id": "96403346-4350-4f18-a257-cdfc176bca42",
   "metadata": {},
   "outputs": [
    {
     "name": "stdout",
     "output_type": "stream",
     "text": [
      "plot saved to:  redoLHCEFT_pt_drleps.pdf\n"
     ]
    },
    {
     "name": "stderr",
     "output_type": "stream",
     "text": [
      "/tmp/ipykernel_3605748/3971123945.py:29: RuntimeWarning: divide by zero encountered in divide\n",
      "  rax.scatter(centers1, np.divide(num1, denom1), linewidths=0.5)\n",
      "/tmp/ipykernel_3605748/3971123945.py:29: RuntimeWarning: invalid value encountered in divide\n",
      "  rax.scatter(centers1, np.divide(num1, denom1), linewidths=0.5)\n",
      "/tmp/ipykernel_3605748/3971123945.py:33: RuntimeWarning: divide by zero encountered in divide\n",
      "  rax.scatter(centers2, np.divide(num2, denom1))\n",
      "/tmp/ipykernel_3605748/3971123945.py:33: RuntimeWarning: invalid value encountered in divide\n",
      "  rax.scatter(centers2, np.divide(num2, denom1))\n"
     ]
    }
   ],
   "source": [
    "h1 = hists4['dr_leps']\n",
    "h2 = hists5['dr_leps']\n",
    "h3 = hists6['dr_leps']\n",
    "\n",
    "fig, (ax, rax) = plt.subplots(\n",
    "        nrows=2,\n",
    "        ncols=1,\n",
    "        figsize=(10,12),\n",
    "        gridspec_kw={\"height_ratios\": (3, 1)},\n",
    "        sharex=True\n",
    "    )\n",
    "fig.subplots_adjust(hspace=.1)\n",
    "\n",
    "hep.histplot(h1, ax=ax, stack=False, yerr=True, label=r\"LO+1 jet (sample 1)\")\n",
    "hep.histplot(h2, ax=ax, stack=False, yerr=True, label=r\"LO+1 jet (sample 2)\")\n",
    "hep.histplot(h3, ax=ax, stack=False, yerr=True, label=r\"LO+1 jet (SM)\")\n",
    "\n",
    "ax.legend(loc = 'upper right', fontsize = 18)\n",
    "ax.set_ylabel(dr_ylabel, fontsize='medium')\n",
    "ax.set_xlabel(\"\")\n",
    "\n",
    "plt.figtext(0.78, 0.89,\"(13 TeV)\", fontsize = 'small')\n",
    "plt.figtext(0.14, 0.89, r\"$pp \\rightarrow t\\bar{t} \\rightarrow l^+ \\nu_l b \\;\\; l^- \\bar{\\nu_l} \\bar{b}$\", fontsize='small')\n",
    "plt.figtext(0.25, 0.83, \"Reweighted to Pt2\", fontsize='small')\n",
    "\n",
    "num1 = h1.values()\n",
    "denom1 = h3.values()\n",
    "centers1 = h1.axes.centers[0]\n",
    "rax.scatter(centers1, np.divide(num1, denom1), linewidths=0.5)\n",
    "\n",
    "num2 = h2.values()\n",
    "centers2 = h2.axes.centers[0]\n",
    "rax.scatter(centers2, np.divide(num2, denom1))\n",
    "\n",
    "rax.set_ylabel(\"Ratio EFT/SM\", fontsize='small')\n",
    "rax.set_xlabel(r\"$\\Delta$ R (leading lepton, subleading lepton)\", fontsize='small')\n",
    "rax.set_ylim([0, 10])\n",
    "\n",
    "# fig.show()\n",
    "figname = \"redoLHCEFT_pt_drleps.pdf\"\n",
    "fig.savefig(figname)\n",
    "print(\"plot saved to: \", figname)\n",
    "plt.close(fig)"
   ]
  },
  {
   "cell_type": "code",
   "execution_count": null,
   "id": "37706910-1622-46df-8623-3424fd1c2bbc",
   "metadata": {},
   "outputs": [],
   "source": []
  }
 ],
 "metadata": {
  "kernelspec": {
   "display_name": "ttbarEFT",
   "language": "python",
   "name": "ttbareft"
  },
  "language_info": {
   "codemirror_mode": {
    "name": "ipython",
    "version": 3
   },
   "file_extension": ".py",
   "mimetype": "text/x-python",
   "name": "python",
   "nbconvert_exporter": "python",
   "pygments_lexer": "ipython3",
   "version": "3.9.19"
  }
 },
 "nbformat": 4,
 "nbformat_minor": 5
}
