{
 "cells": [
  {
   "cell_type": "code",
   "execution_count": 48,
   "id": "720bc5bf-2758-4af9-b63d-2e2a99ad9ab8",
   "metadata": {},
   "outputs": [],
   "source": [
    "import numpy as np\n",
    "import awkward as ak\n",
    "import uproot\n",
    "\n",
    "import hist\n",
    "import topcoffea.modules.utils as utils\n",
    "\n",
    "import mplhep as hep\n",
    "import matplotlib.pyplot as plt"
   ]
  },
  {
   "cell_type": "code",
   "execution_count": 49,
   "id": "ca42bdda-21df-4a46-8efe-5ad9be3991e7",
   "metadata": {},
   "outputs": [],
   "source": [
    "hep.style.use(\"CMS\")\n",
    "params = {'axes.labelsize': 20,\n",
    "          'axes.titlesize': 20,\n",
    "          'legend.fontsize':20, \n",
    "          'lines.markersize':5}\n",
    "plt.rcParams.update(params)"
   ]
  },
  {
   "cell_type": "code",
   "execution_count": 50,
   "id": "9771a90e-cbeb-4960-bc30-5e562f5eeac8",
   "metadata": {},
   "outputs": [],
   "source": [
    "def get_ratio_uncertainty(num_hist, denom_hist):\n",
    "    xvals = num_hist.axes.centers[0]\n",
    "    yvals_num = num_hist.values()\n",
    "    yvals_denom = denom_hist.values()\n",
    "    sigma_num = np.sqrt(num_hist.variances())\n",
    "    sigma_denom = np.sqrt(denom_hist.variances())\n",
    "\n",
    "    ratio = np.divide(yvals_num, yvals_denom)\n",
    "\n",
    "    # calculation for error propagation for ratio = yavls_num/yvals_denom\n",
    "    # generally, z=x/y; sigmaz = abs(z)sqrt((sigmax/x)^2+(sigmay/y)^2)\n",
    "    sigma_y = np.multiply(np.abs(ratio), np.sqrt(np.add(np.square(np.divide(sigma_num, yvals_num)), np.square(np.divide(sigma_denom, yvals_denom)))))\n",
    "\n",
    "    return sigma_y"
   ]
  },
  {
   "cell_type": "code",
   "execution_count": 51,
   "id": "e08dfd9b-a354-4f0b-8d00-0c6b85db846c",
   "metadata": {},
   "outputs": [],
   "source": [
    "def get_ratio_points(hist1, histSM):\n",
    "    num = hist1.values()\n",
    "    centers = hist1.axes.centers[0]\n",
    "    denomSM = histSM.values()\n",
    "    ratio = np.divide(num, denomSM)\n",
    "\n",
    "    return centers, ratio"
   ]
  },
  {
   "cell_type": "code",
   "execution_count": 56,
   "id": "5ead4fdb-9e36-4330-ba64-844f7770353e",
   "metadata": {},
   "outputs": [],
   "source": [
    "def make_plot_with_ratio(h_num, h_denom, label_num, label_denom, xlabel, title):\n",
    "    ## get ratios and uncertainties\n",
    "    centers, ratio = get_ratio_points(h_num, h_denom)\n",
    "    uncert = get_ratio_uncertainty(h_num, h_denom)\n",
    "\n",
    "    ## Initialize figure and axes\n",
    "    # fig, ax = plt.subplots()\n",
    "    fig, (ax, rax) = plt.subplots(\n",
    "        nrows=2,\n",
    "        ncols=1,\n",
    "        figsize=(10,12),\n",
    "        gridspec_kw={\"height_ratios\": (3, 1)},\n",
    "        sharex=True\n",
    "    )\n",
    "    fig.subplots_adjust(hspace=.1)\n",
    "\n",
    "    ## Plot histograms and ratio plot\n",
    "    hep.histplot(h_num, ax=ax, stack=False, yerr=True, label=label_num)\n",
    "    hep.histplot(h_denom, ax=ax, stack=False, yerr=True, label=label_num)\n",
    "    rax.scatter(centers, ratio)\n",
    "    rax.errorbar(centers, ratio, xerr = None, yerr = uncert, capsize=5, ls='none')\n",
    "\n",
    "    ## Formatting\n",
    "    ax.legend(loc = 'upper right', fontsize = 'small')\n",
    "    ax.set_ylabel(\"Events\", fontsize='medium')\n",
    "    ax.set_xlabel(\"\")\n",
    "    rax.set_ylabel(\"Ratio\", fontsize='medium')\n",
    "    rax.set_xlabel(xlabel, fontsize=\"medium\")\n",
    "    rax.set_ylim([0, 2])\n",
    "    rax.grid(axis='y')\n",
    "    plt.figtext(0.13, 0.9, title, fontsize='small')\n",
    "\n",
    "    return fig"
   ]
  },
  {
   "cell_type": "code",
   "execution_count": 57,
   "id": "7b613470-e2ae-41f2-81e9-7efb27585d16",
   "metadata": {},
   "outputs": [
    {
     "name": "stdout",
     "output_type": "stream",
     "text": [
      "{'njets': Hist(Regular(10, 0, 10, name='njets'), storage=Weight()) # Sum: WeightedSum(value=13.7115, variance=0.00960224), 'nleps': Hist(Regular(10, 0, 10, name='nleps'), storage=Weight()) # Sum: WeightedSum(value=13.7115, variance=0.00960224), 'ntops': Hist(Regular(10, 0, 10, name='ntops'), storage=Weight()) # Sum: WeightedSum(value=13.7115, variance=0.00960224), 'mtt': Hist(Regular(30, 0, 1500, name='mtt', label='GEN invariant mass of tops [GeV]'), storage=Weight()) # Sum: WeightedSum(value=13.7115, variance=0.00960224), 'lhe_mtt': Hist(Regular(30, 0, 1500, name='lhe_mtt', label='LHE invariant mass of tops [GeV]'), storage=Weight()) # Sum: WeightedSum(value=13.7115, variance=0.00960224), 'mll': Hist(Regular(16, 0, 800, name='mll', label='invariant mass of leptons [GeV]'), storage=Weight()) # Sum: WeightedSum(value=13.7115, variance=0.00960224), 'dr_leps': Hist(Regular(24, 0, 6, name='$\\\\Delta R$ (leading lepton, subleading lepton)'), storage=Weight()) # Sum: WeightedSum(value=13.7115, variance=0.00960224), 'l0pt': Hist(Regular(20, 0, 400, name='leading lepton $p_T$ [GeV]'), storage=Weight()) # Sum: WeightedSum(value=13.708, variance=0.00959982) (WeightedSum(value=13.7115, variance=0.00960224) with flow), 'tops_pt': Hist(Regular(35, 0, 700, name='tops_pt', label='$p_T$ of the sum of the tops [GeV]'), storage=Weight()) # Sum: WeightedSum(value=13.6807, variance=0.00958068) (WeightedSum(value=13.7115, variance=0.00960224) with flow), 'avg_top_pt': Hist(Regular(20, 0, 400, name='avg_top_pt', label='average top $p_T$ [GeV]'), storage=Weight()) # Sum: WeightedSum(value=13.6932, variance=0.00958947) (WeightedSum(value=13.7115, variance=0.00960224) with flow)}\n"
     ]
    }
   ],
   "source": [
    "fin1 = \"2810_ttbarEFT_0_700.pkl.gz\"\n",
    "fin2 = \"2810_ttbarEFT_700_900.pkl.gz\"\n",
    "fin3 = \"2810_ttbarEFT_900_Inf.pkl.gz\"\n",
    "fin4 = \"2810_ttbarEFT_nanogen.pkl.gz\"\n",
    "hists1 = utils.get_hist_from_pkl(fin1, allow_empty=False)\n",
    "hists2 = utils.get_hist_from_pkl(fin2, allow_empty=False)\n",
    "hists3 = utils.get_hist_from_pkl(fin3, allow_empty=False)\n",
    "hists4 = utils.get_hist_from_pkl(fin4, allow_empty=False)\n",
    "print(hists1)"
   ]
  },
  {
   "cell_type": "code",
   "execution_count": 58,
   "id": "36c207dd-1e18-4497-a1bd-75f3579798b8",
   "metadata": {},
   "outputs": [
    {
     "name": "stderr",
     "output_type": "stream",
     "text": [
      "/tmp/ipykernel_26038/522512218.py:5: RuntimeWarning: invalid value encountered in divide\n",
      "  ratio = np.divide(num, denomSM)\n",
      "/tmp/ipykernel_26038/3457844619.py:8: RuntimeWarning: invalid value encountered in divide\n",
      "  ratio = np.divide(yvals_num, yvals_denom)\n",
      "/tmp/ipykernel_26038/3457844619.py:12: RuntimeWarning: invalid value encountered in divide\n",
      "  sigma_y = np.multiply(np.abs(ratio), np.sqrt(np.add(np.square(np.divide(sigma_num, yvals_num)), np.square(np.divide(sigma_denom, yvals_denom)))))\n",
      "/tmp/ipykernel_26038/522512218.py:5: RuntimeWarning: invalid value encountered in divide\n",
      "  ratio = np.divide(num, denomSM)\n",
      "/tmp/ipykernel_26038/3457844619.py:8: RuntimeWarning: invalid value encountered in divide\n",
      "  ratio = np.divide(yvals_num, yvals_denom)\n",
      "/tmp/ipykernel_26038/3457844619.py:12: RuntimeWarning: invalid value encountered in divide\n",
      "  sigma_y = np.multiply(np.abs(ratio), np.sqrt(np.add(np.square(np.divide(sigma_num, yvals_num)), np.square(np.divide(sigma_denom, yvals_denom)))))\n",
      "/tmp/ipykernel_26038/522512218.py:5: RuntimeWarning: invalid value encountered in divide\n",
      "  ratio = np.divide(num, denomSM)\n",
      "/tmp/ipykernel_26038/3457844619.py:8: RuntimeWarning: invalid value encountered in divide\n",
      "  ratio = np.divide(yvals_num, yvals_denom)\n",
      "/tmp/ipykernel_26038/3457844619.py:12: RuntimeWarning: invalid value encountered in divide\n",
      "  sigma_y = np.multiply(np.abs(ratio), np.sqrt(np.add(np.square(np.divide(sigma_num, yvals_num)), np.square(np.divide(sigma_denom, yvals_denom)))))\n",
      "/tmp/ipykernel_26038/522512218.py:5: RuntimeWarning: invalid value encountered in divide\n",
      "  ratio = np.divide(num, denomSM)\n",
      "/tmp/ipykernel_26038/3457844619.py:8: RuntimeWarning: invalid value encountered in divide\n",
      "  ratio = np.divide(yvals_num, yvals_denom)\n",
      "/tmp/ipykernel_26038/3457844619.py:12: RuntimeWarning: invalid value encountered in divide\n",
      "  sigma_y = np.multiply(np.abs(ratio), np.sqrt(np.add(np.square(np.divide(sigma_num, yvals_num)), np.square(np.divide(sigma_denom, yvals_denom)))))\n",
      "/tmp/ipykernel_26038/522512218.py:5: RuntimeWarning: invalid value encountered in divide\n",
      "  ratio = np.divide(num, denomSM)\n",
      "/tmp/ipykernel_26038/3457844619.py:8: RuntimeWarning: invalid value encountered in divide\n",
      "  ratio = np.divide(yvals_num, yvals_denom)\n",
      "/tmp/ipykernel_26038/3457844619.py:12: RuntimeWarning: invalid value encountered in divide\n",
      "  sigma_y = np.multiply(np.abs(ratio), np.sqrt(np.add(np.square(np.divide(sigma_num, yvals_num)), np.square(np.divide(sigma_denom, yvals_denom)))))\n",
      "/tmp/ipykernel_26038/522512218.py:5: RuntimeWarning: divide by zero encountered in divide\n",
      "  ratio = np.divide(num, denomSM)\n",
      "/tmp/ipykernel_26038/522512218.py:5: RuntimeWarning: invalid value encountered in divide\n",
      "  ratio = np.divide(num, denomSM)\n",
      "/tmp/ipykernel_26038/3457844619.py:8: RuntimeWarning: divide by zero encountered in divide\n",
      "  ratio = np.divide(yvals_num, yvals_denom)\n",
      "/tmp/ipykernel_26038/3457844619.py:8: RuntimeWarning: invalid value encountered in divide\n",
      "  ratio = np.divide(yvals_num, yvals_denom)\n",
      "/tmp/ipykernel_26038/3457844619.py:12: RuntimeWarning: invalid value encountered in divide\n",
      "  sigma_y = np.multiply(np.abs(ratio), np.sqrt(np.add(np.square(np.divide(sigma_num, yvals_num)), np.square(np.divide(sigma_denom, yvals_denom)))))\n",
      "/tmp/ipykernel_26038/522512218.py:5: RuntimeWarning: invalid value encountered in divide\n",
      "  ratio = np.divide(num, denomSM)\n",
      "/tmp/ipykernel_26038/3457844619.py:8: RuntimeWarning: invalid value encountered in divide\n",
      "  ratio = np.divide(yvals_num, yvals_denom)\n",
      "/tmp/ipykernel_26038/3457844619.py:12: RuntimeWarning: invalid value encountered in divide\n",
      "  sigma_y = np.multiply(np.abs(ratio), np.sqrt(np.add(np.square(np.divide(sigma_num, yvals_num)), np.square(np.divide(sigma_denom, yvals_denom)))))\n"
     ]
    }
   ],
   "source": [
    "## add together central sample mass ranges for total central sample\n",
    "for name in hists1:\n",
    "    h_central = hists1[name]+hists2[name]+hists3[name]\n",
    "    h_nanogen = hists4[name]\n",
    "    fig = make_plot_with_ratio(h_central, h_nanogen, \"central\", \"nanogen\", name, \"Reweighted to starting point\")\n",
    "    figname = \"2810_\"+name+\"_stpt.png\"\n",
    "    fig.savefig(figname)\n",
    "    plt.close(fig)"
   ]
  },
  {
   "cell_type": "code",
   "execution_count": 59,
   "id": "ef5f19c5-2336-4f8b-bc4d-7e5a65cba8cf",
   "metadata": {},
   "outputs": [
    {
     "name": "stdout",
     "output_type": "stream",
     "text": [
      "{'njets': Hist(Regular(10, 0, 10, name='njets'), storage=Weight()) # Sum: WeightedSum(value=10.2417, variance=0.00582706), 'nleps': Hist(Regular(10, 0, 10, name='nleps'), storage=Weight()) # Sum: WeightedSum(value=10.2417, variance=0.00582706), 'ntops': Hist(Regular(10, 0, 10, name='ntops'), storage=Weight()) # Sum: WeightedSum(value=10.2417, variance=0.00582706), 'mtt': Hist(Regular(30, 0, 1500, name='mtt', label='GEN invariant mass of tops [GeV]'), storage=Weight()) # Sum: WeightedSum(value=10.2417, variance=0.00582706), 'lhe_mtt': Hist(Regular(30, 0, 1500, name='lhe_mtt', label='LHE invariant mass of tops [GeV]'), storage=Weight()) # Sum: WeightedSum(value=10.2417, variance=0.00582706), 'mll': Hist(Regular(16, 0, 800, name='mll', label='invariant mass of leptons [GeV]'), storage=Weight()) # Sum: WeightedSum(value=10.2417, variance=0.00582706), 'dr_leps': Hist(Regular(24, 0, 6, name='$\\\\Delta R$ (leading lepton, subleading lepton)'), storage=Weight()) # Sum: WeightedSum(value=10.2417, variance=0.00582706), 'l0pt': Hist(Regular(20, 0, 400, name='leading lepton $p_T$ [GeV]'), storage=Weight()) # Sum: WeightedSum(value=10.2411, variance=0.00582693) (WeightedSum(value=10.2417, variance=0.00582706) with flow), 'tops_pt': Hist(Regular(35, 0, 700, name='tops_pt', label='$p_T$ of the sum of the tops [GeV]'), storage=Weight()) # Sum: WeightedSum(value=10.2364, variance=0.00582506) (WeightedSum(value=10.2417, variance=0.00582706) with flow), 'avg_top_pt': Hist(Regular(20, 0, 400, name='avg_top_pt', label='average top $p_T$ [GeV]'), storage=Weight()) # Sum: WeightedSum(value=10.2402, variance=0.00582681) (WeightedSum(value=10.2417, variance=0.00582706) with flow)}\n"
     ]
    }
   ],
   "source": [
    "fin1 = \"2810_ttbarEFT_0_700_SM.pkl.gz\"\n",
    "fin2 = \"2810_ttbarEFT_700_900_SM.pkl.gz\"\n",
    "fin3 = \"2810_ttbarEFT_900_Inf_SM.pkl.gz\"\n",
    "fin4 = \"2810_ttbarEFT_nanogen_SM.pkl.gz\"\n",
    "hists1 = utils.get_hist_from_pkl(fin1, allow_empty=False)\n",
    "hists2 = utils.get_hist_from_pkl(fin2, allow_empty=False)\n",
    "hists3 = utils.get_hist_from_pkl(fin3, allow_empty=False)\n",
    "hists4 = utils.get_hist_from_pkl(fin4, allow_empty=False)\n",
    "print(hists1)"
   ]
  },
  {
   "cell_type": "code",
   "execution_count": 60,
   "id": "b97d7ed4-4956-4fbf-9ca0-73ce20ee4869",
   "metadata": {},
   "outputs": [
    {
     "name": "stderr",
     "output_type": "stream",
     "text": [
      "/tmp/ipykernel_26038/522512218.py:5: RuntimeWarning: invalid value encountered in divide\n",
      "  ratio = np.divide(num, denomSM)\n",
      "/tmp/ipykernel_26038/3457844619.py:8: RuntimeWarning: invalid value encountered in divide\n",
      "  ratio = np.divide(yvals_num, yvals_denom)\n",
      "/tmp/ipykernel_26038/3457844619.py:12: RuntimeWarning: invalid value encountered in divide\n",
      "  sigma_y = np.multiply(np.abs(ratio), np.sqrt(np.add(np.square(np.divide(sigma_num, yvals_num)), np.square(np.divide(sigma_denom, yvals_denom)))))\n",
      "/tmp/ipykernel_26038/522512218.py:5: RuntimeWarning: invalid value encountered in divide\n",
      "  ratio = np.divide(num, denomSM)\n",
      "/tmp/ipykernel_26038/3457844619.py:8: RuntimeWarning: invalid value encountered in divide\n",
      "  ratio = np.divide(yvals_num, yvals_denom)\n",
      "/tmp/ipykernel_26038/3457844619.py:12: RuntimeWarning: invalid value encountered in divide\n",
      "  sigma_y = np.multiply(np.abs(ratio), np.sqrt(np.add(np.square(np.divide(sigma_num, yvals_num)), np.square(np.divide(sigma_denom, yvals_denom)))))\n",
      "/tmp/ipykernel_26038/522512218.py:5: RuntimeWarning: invalid value encountered in divide\n",
      "  ratio = np.divide(num, denomSM)\n",
      "/tmp/ipykernel_26038/3457844619.py:8: RuntimeWarning: invalid value encountered in divide\n",
      "  ratio = np.divide(yvals_num, yvals_denom)\n",
      "/tmp/ipykernel_26038/3457844619.py:12: RuntimeWarning: invalid value encountered in divide\n",
      "  sigma_y = np.multiply(np.abs(ratio), np.sqrt(np.add(np.square(np.divide(sigma_num, yvals_num)), np.square(np.divide(sigma_denom, yvals_denom)))))\n",
      "/tmp/ipykernel_26038/522512218.py:5: RuntimeWarning: invalid value encountered in divide\n",
      "  ratio = np.divide(num, denomSM)\n",
      "/tmp/ipykernel_26038/3457844619.py:8: RuntimeWarning: invalid value encountered in divide\n",
      "  ratio = np.divide(yvals_num, yvals_denom)\n",
      "/tmp/ipykernel_26038/3457844619.py:12: RuntimeWarning: invalid value encountered in divide\n",
      "  sigma_y = np.multiply(np.abs(ratio), np.sqrt(np.add(np.square(np.divide(sigma_num, yvals_num)), np.square(np.divide(sigma_denom, yvals_denom)))))\n",
      "/tmp/ipykernel_26038/522512218.py:5: RuntimeWarning: invalid value encountered in divide\n",
      "  ratio = np.divide(num, denomSM)\n",
      "/tmp/ipykernel_26038/3457844619.py:8: RuntimeWarning: invalid value encountered in divide\n",
      "  ratio = np.divide(yvals_num, yvals_denom)\n",
      "/tmp/ipykernel_26038/3457844619.py:12: RuntimeWarning: invalid value encountered in divide\n",
      "  sigma_y = np.multiply(np.abs(ratio), np.sqrt(np.add(np.square(np.divide(sigma_num, yvals_num)), np.square(np.divide(sigma_denom, yvals_denom)))))\n",
      "/tmp/ipykernel_26038/522512218.py:5: RuntimeWarning: divide by zero encountered in divide\n",
      "  ratio = np.divide(num, denomSM)\n",
      "/tmp/ipykernel_26038/522512218.py:5: RuntimeWarning: invalid value encountered in divide\n",
      "  ratio = np.divide(num, denomSM)\n",
      "/tmp/ipykernel_26038/3457844619.py:8: RuntimeWarning: divide by zero encountered in divide\n",
      "  ratio = np.divide(yvals_num, yvals_denom)\n",
      "/tmp/ipykernel_26038/3457844619.py:8: RuntimeWarning: invalid value encountered in divide\n",
      "  ratio = np.divide(yvals_num, yvals_denom)\n",
      "/tmp/ipykernel_26038/3457844619.py:12: RuntimeWarning: invalid value encountered in divide\n",
      "  sigma_y = np.multiply(np.abs(ratio), np.sqrt(np.add(np.square(np.divide(sigma_num, yvals_num)), np.square(np.divide(sigma_denom, yvals_denom)))))\n",
      "/tmp/ipykernel_26038/522512218.py:5: RuntimeWarning: invalid value encountered in divide\n",
      "  ratio = np.divide(num, denomSM)\n",
      "/tmp/ipykernel_26038/3457844619.py:8: RuntimeWarning: invalid value encountered in divide\n",
      "  ratio = np.divide(yvals_num, yvals_denom)\n",
      "/tmp/ipykernel_26038/3457844619.py:12: RuntimeWarning: invalid value encountered in divide\n",
      "  sigma_y = np.multiply(np.abs(ratio), np.sqrt(np.add(np.square(np.divide(sigma_num, yvals_num)), np.square(np.divide(sigma_denom, yvals_denom)))))\n"
     ]
    }
   ],
   "source": [
    "## add together central sample mass ranges for total central sample\n",
    "for name in hists1:\n",
    "    h_central = hists1[name]+hists2[name]+hists3[name]\n",
    "    h_nanogen = hists4[name]\n",
    "    fig = make_plot_with_ratio(h_central, h_nanogen, \"central\", \"nanogen\", name, \"Reweighted to SM\")\n",
    "    figname = \"2810_\"+name+\"_SM.png\"\n",
    "    fig.savefig(figname)\n",
    "    plt.close(fig)"
   ]
  },
  {
   "cell_type": "code",
   "execution_count": null,
   "id": "934a192c-8d80-4622-b2bf-e65e0558391f",
   "metadata": {},
   "outputs": [],
   "source": []
  }
 ],
 "metadata": {
  "kernelspec": {
   "display_name": "ttbarEFT",
   "language": "python",
   "name": "ttbareft"
  },
  "language_info": {
   "codemirror_mode": {
    "name": "ipython",
    "version": 3
   },
   "file_extension": ".py",
   "mimetype": "text/x-python",
   "name": "python",
   "nbconvert_exporter": "python",
   "pygments_lexer": "ipython3",
   "version": "3.9.19"
  }
 },
 "nbformat": 4,
 "nbformat_minor": 5
}
