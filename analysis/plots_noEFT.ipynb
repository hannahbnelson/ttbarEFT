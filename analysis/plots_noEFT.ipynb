{
 "cells": [
  {
   "cell_type": "code",
   "execution_count": 4,
   "id": "720bc5bf-2758-4af9-b63d-2e2a99ad9ab8",
   "metadata": {},
   "outputs": [],
   "source": [
    "import numpy as np\n",
    "import awkward as ak\n",
    "import uproot\n",
    "\n",
    "import hist\n",
    "import topcoffea.modules.utils as utils\n",
    "\n",
    "import mplhep as hep\n",
    "import matplotlib.pyplot as plt"
   ]
  },
  {
   "cell_type": "code",
   "execution_count": 5,
   "id": "ca42bdda-21df-4a46-8efe-5ad9be3991e7",
   "metadata": {},
   "outputs": [],
   "source": [
    "hep.style.use(\"CMS\")\n",
    "params = {'axes.labelsize': 20,\n",
    "          'axes.titlesize': 20,\n",
    "          'legend.fontsize':20, \n",
    "          'lines.markersize':5}\n",
    "plt.rcParams.update(params)"
   ]
  },
  {
   "cell_type": "code",
   "execution_count": 1,
   "id": "9771a90e-cbeb-4960-bc30-5e562f5eeac8",
   "metadata": {},
   "outputs": [],
   "source": [
    "def get_ratio_uncertainty(num_hist, denom_hist):\n",
    "    xvals = num_hist.axes.centers[0]\n",
    "    yvals_num = num_hist.values()\n",
    "    yvals_denom = denom_hist.values()\n",
    "    sigma_num = np.sqrt(num_hist.variances())\n",
    "    sigma_denom = np.sqrt(denom_hist.variances())\n",
    "\n",
    "    ratio = np.divide(yvals_num, yvals_denom)\n",
    "\n",
    "    # calculation for error propagation for ratio = yavls_num/yvals_denom\n",
    "    # generally, z=x/y; sigma_z = abs(z)sqrt((sigma_x/x)^2+(sigma_y/y)^2)\n",
    "    sigma_y = np.multiply(np.abs(ratio), np.sqrt(np.add(np.square(np.divide(sigma_num, yvals_num)), np.square(np.divide(sigma_denom, yvals_denom)))))\n",
    "\n",
    "    return sigma_y"
   ]
  },
  {
   "cell_type": "code",
   "execution_count": 2,
   "id": "e08dfd9b-a354-4f0b-8d00-0c6b85db846c",
   "metadata": {},
   "outputs": [],
   "source": [
    "def get_ratio_points(hist1, histSM):\n",
    "    num = hist1.values()\n",
    "    centers = hist1.axes.centers[0]\n",
    "    denomSM = histSM.values()\n",
    "    ratio = np.divide(num, denomSM)\n",
    "\n",
    "    return centers, ratio"
   ]
  },
  {
   "cell_type": "code",
   "execution_count": 3,
   "id": "5ead4fdb-9e36-4330-ba64-844f7770353e",
   "metadata": {},
   "outputs": [],
   "source": [
    "def make_plot_with_ratio(h_num, h_denom, label_num, label_denom, xlabel, title):\n",
    "    ## get ratios and uncertainties\n",
    "    centers, ratio = get_ratio_points(h_num, h_denom)\n",
    "    uncert = get_ratio_uncertainty(h_num, h_denom)\n",
    "\n",
    "    ## Initialize figure and axes\n",
    "    # fig, ax = plt.subplots()\n",
    "    fig, (ax, rax) = plt.subplots(\n",
    "        nrows=2,\n",
    "        ncols=1,\n",
    "        figsize=(10,12),\n",
    "        gridspec_kw={\"height_ratios\": (3, 1)},\n",
    "        sharex=True\n",
    "    )\n",
    "    fig.subplots_adjust(hspace=.1)\n",
    "\n",
    "    ## Plot histograms and ratio plot\n",
    "    hep.histplot(h_num, ax=ax, stack=False, yerr=True, label=label_num)\n",
    "    hep.histplot(h_denom, ax=ax, stack=False, yerr=True, label=label_denom)\n",
    "    rax.scatter(centers, ratio)\n",
    "    rax.errorbar(centers, ratio, xerr = None, yerr = uncert, capsize=5, ls='none')\n",
    "\n",
    "    ## Formatting\n",
    "    ax.legend(loc = 'upper right', fontsize = 'small')\n",
    "    ax.set_ylabel(\"Events\", fontsize='medium')\n",
    "    ax.set_xlabel(\"\")\n",
    "    rax.set_ylabel(\"Ratio\", fontsize='medium')\n",
    "    rax.set_xlabel(xlabel, fontsize=\"medium\")\n",
    "    rax.set_ylim([0, 2])\n",
    "    rax.grid(axis='y')\n",
    "    plt.figtext(0.13, 0.9, title, fontsize='small')\n",
    "\n",
    "    return fig"
   ]
  },
  {
   "cell_type": "markdown",
   "id": "00c6885b-7f4e-4488-b06f-72e95bc7bb7d",
   "metadata": {},
   "source": [
    "# October 28"
   ]
  },
  {
   "cell_type": "code",
   "execution_count": null,
   "id": "7b613470-e2ae-41f2-81e9-7efb27585d16",
   "metadata": {},
   "outputs": [],
   "source": [
    "## pickle files produced with gen_hist_processor.py, histograms reweighted to the starting point\n",
    "fin1 = \"2810_ttbarEFT_0_700.pkl.gz\"\n",
    "fin2 = \"2810_ttbarEFT_700_900.pkl.gz\"\n",
    "fin3 = \"2810_ttbarEFT_900_Inf.pkl.gz\"\n",
    "fin4 = \"2810_ttbarEFT_nanogen.pkl.gz\"\n",
    "hists1 = utils.get_hist_from_pkl(fin1, allow_empty=False)\n",
    "hists2 = utils.get_hist_from_pkl(fin2, allow_empty=False)\n",
    "hists3 = utils.get_hist_from_pkl(fin3, allow_empty=False)\n",
    "hists4 = utils.get_hist_from_pkl(fin4, allow_empty=False)\n",
    "print(hists1)"
   ]
  },
  {
   "cell_type": "code",
   "execution_count": null,
   "id": "36c207dd-1e18-4497-a1bd-75f3579798b8",
   "metadata": {},
   "outputs": [],
   "source": [
    "# making histograms reweighted to the starting point\n",
    "for name in hists1:\n",
    "    h_central = hists1[name]+hists2[name]+hists3[name]\n",
    "    h_nanogen = hists4[name]\n",
    "    fig = make_plot_with_ratio(h_central, h_nanogen, \"central\", \"nanogen\", name, \"Reweighted to starting point\")\n",
    "    figname = \"2810_\"+name+\"_stpt.png\"\n",
    "    # fig.savefig(figname)\n",
    "    # plt.close(fig)"
   ]
  },
  {
   "cell_type": "code",
   "execution_count": null,
   "id": "ef5f19c5-2336-4f8b-bc4d-7e5a65cba8cf",
   "metadata": {},
   "outputs": [],
   "source": [
    "## pickle files produced with gen_hist_processor.py, histograms reweighted to the SM\n",
    "fin1 = \"2810_ttbarEFT_0_700_SM.pkl.gz\"\n",
    "fin2 = \"2810_ttbarEFT_700_900_SM.pkl.gz\"\n",
    "fin3 = \"2810_ttbarEFT_900_Inf_SM.pkl.gz\"\n",
    "fin4 = \"2810_ttbarEFT_nanogen_SM.pkl.gz\"\n",
    "hists1 = utils.get_hist_from_pkl(fin1, allow_empty=False)\n",
    "hists2 = utils.get_hist_from_pkl(fin2, allow_empty=False)\n",
    "hists3 = utils.get_hist_from_pkl(fin3, allow_empty=False)\n",
    "hists4 = utils.get_hist_from_pkl(fin4, allow_empty=False)\n",
    "print(hists1)"
   ]
  },
  {
   "cell_type": "code",
   "execution_count": null,
   "id": "b97d7ed4-4956-4fbf-9ca0-73ce20ee4869",
   "metadata": {},
   "outputs": [],
   "source": [
    "## making histograms reweighted to the SM\n",
    "for name in hists1:\n",
    "    h_central = hists1[name]+hists2[name]+hists3[name]\n",
    "    h_nanogen = hists4[name]\n",
    "    fig = make_plot_with_ratio(h_central, h_nanogen, \"central\", \"nanogen\", name, \"Reweighted to SM\")\n",
    "    figname = \"2810_\"+name+\"_SM.png\"\n",
    "    # fig.savefig(figname)\n",
    "    # plt.close(fig)"
   ]
  },
  {
   "cell_type": "code",
   "execution_count": null,
   "id": "934a192c-8d80-4622-b2bf-e65e0558391f",
   "metadata": {},
   "outputs": [],
   "source": [
    "## pickle files produced with gen_hist_eventweights_processor.py\n",
    "fin1 = \"2910_eventweights_0_700.pkl.gz\"\n",
    "fin2 = \"2910_eventweights_700_900.pkl.gz\"\n",
    "fin3 = \"2910_eventweights_900_Inf.pkl.gz\"\n",
    "fin4 = \"2910_eventweights_nanogen.pkl.gz\"\n",
    "hists1 = utils.get_hist_from_pkl(fin1, allow_empty=False)\n",
    "hists2 = utils.get_hist_from_pkl(fin2, allow_empty=False)\n",
    "hists3 = utils.get_hist_from_pkl(fin3, allow_empty=False)\n",
    "hists4 = utils.get_hist_from_pkl(fin4, allow_empty=False)\n",
    "print(hists1)"
   ]
  },
  {
   "cell_type": "code",
   "execution_count": null,
   "id": "4d7acd29-cc80-4e31-89fa-eb585d3f38ab",
   "metadata": {},
   "outputs": [],
   "source": [
    "name = 'weights_SM_log'\n",
    "h1 = hists1[name]\n",
    "h2 = hists2[name]\n",
    "h3 = hists3[name]\n",
    "h4 = hists4[name]\n",
    "\n",
    "fig, ax = plt.subplots()\n",
    "hep.histplot(h1, ax=ax, stack=False, yerr=False, label=\"mtt_0_700\")\n",
    "hep.histplot(h2, ax=ax, stack=False, yerr=False, label=\"mtt_700_900\")\n",
    "hep.histplot(h3, ax=ax, stack=False, yerr=False, label=\"mtt_900_Inf\")\n",
    "hep.histplot(h4, ax=ax, stack=False, yerr=False, label=\"nanogen\")\n",
    "\n",
    "ax.legend(loc = 'upper left', fontsize = 'small')\n",
    "ax.set_xlim([-6,1])\n",
    "plt.show()\n",
    "# fig.savefig(\"2910_eventweights_SMlog.png\")"
   ]
  },
  {
   "cell_type": "code",
   "execution_count": null,
   "id": "5b498276-513a-4e66-b755-f5195168face",
   "metadata": {},
   "outputs": [],
   "source": [
    "name = 'weights_stpt_log'\n",
    "h1 = hists1[name]\n",
    "h2 = hists2[name]\n",
    "h3 = hists3[name]\n",
    "h4 = hists4[name]\n",
    "\n",
    "fig, ax = plt.subplots()\n",
    "hep.histplot(h1, ax=ax, stack=False, yerr=False, label=\"mtt_0_700\")\n",
    "hep.histplot(h2, ax=ax, stack=False, yerr=False, label=\"mtt_700_900\")\n",
    "hep.histplot(h3, ax=ax, stack=False, yerr=False, label=\"mtt_900_Inf\")\n",
    "hep.histplot(h4, ax=ax, stack=False, yerr=False, label=\"nanogen\")\n",
    "\n",
    "ax.legend(loc = 'upper left', fontsize = 'small')\n",
    "ax.set_xlim([-6,1])\n",
    "plt.show()\n",
    "# fig.savefig(\"2910_eventweights_stptlog.png\")"
   ]
  },
  {
   "cell_type": "code",
   "execution_count": null,
   "id": "7dcb4da4-1655-49ca-89c1-2305195bd0d3",
   "metadata": {},
   "outputs": [],
   "source": [
    "name = 'weights_pt1_log'\n",
    "h1 = hists1[name]\n",
    "h2 = hists2[name]\n",
    "h3 = hists3[name]\n",
    "h4 = hists4[name]\n",
    "\n",
    "fig, ax = plt.subplots()\n",
    "hep.histplot(h1, ax=ax, stack=False, yerr=False, label=\"mtt_0_700\")\n",
    "hep.histplot(h2, ax=ax, stack=False, yerr=False, label=\"mtt_700_900\")\n",
    "hep.histplot(h3, ax=ax, stack=False, yerr=False, label=\"mtt_900_Inf\")\n",
    "hep.histplot(h4, ax=ax, stack=False, yerr=False, label=\"nanogen\")\n",
    "\n",
    "ax.legend(loc = 'upper left', fontsize = 'small')\n",
    "ax.set_xlim([-6,1])\n",
    "plt.show()\n",
    "# fig.savefig(\"2910_eventweights_pt1log.png\")"
   ]
  },
  {
   "cell_type": "code",
   "execution_count": null,
   "id": "dd8ecd7b-d7a9-4491-b44f-e30824aad560",
   "metadata": {},
   "outputs": [],
   "source": [
    "name = 'weights_pt3_log'\n",
    "h1 = hists1[name]\n",
    "h2 = hists2[name]\n",
    "h3 = hists3[name]\n",
    "h4 = hists4[name]\n",
    "\n",
    "fig, ax = plt.subplots()\n",
    "hep.histplot(h1, ax=ax, stack=False, yerr=False, label=\"mtt_0_700\")\n",
    "hep.histplot(h2, ax=ax, stack=False, yerr=False, label=\"mtt_700_900\")\n",
    "hep.histplot(h3, ax=ax, stack=False, yerr=False, label=\"mtt_900_Inf\")\n",
    "hep.histplot(h4, ax=ax, stack=False, yerr=False, label=\"nanogen\")\n",
    "\n",
    "ax.legend(loc = 'upper left', fontsize = 'small')\n",
    "# ax.set_xlim([-6,1])\n",
    "plt.show()\n",
    "# fig.savefig(\"2910_eventweights_pt3log.png\")"
   ]
  },
  {
   "cell_type": "code",
   "execution_count": null,
   "id": "8372ad96-d75a-4ccb-bfd5-ce3ecac6b081",
   "metadata": {},
   "outputs": [],
   "source": [
    "name = 'weights_pt5_log'\n",
    "h1 = hists1[name]\n",
    "h2 = hists2[name]\n",
    "h3 = hists3[name]\n",
    "h4 = hists4[name]\n",
    "\n",
    "fig, ax = plt.subplots()\n",
    "hep.histplot(h1, ax=ax, stack=False, yerr=False, label=\"mtt_0_700\")\n",
    "hep.histplot(h2, ax=ax, stack=False, yerr=False, label=\"mtt_700_900\")\n",
    "hep.histplot(h3, ax=ax, stack=False, yerr=False, label=\"mtt_900_Inf\")\n",
    "hep.histplot(h4, ax=ax, stack=False, yerr=False, label=\"nanogen\")\n",
    "\n",
    "ax.legend(loc = 'upper left', fontsize = 'small')\n",
    "# ax.set_xlim([-6,1])\n",
    "plt.show()\n",
    "# fig.savefig(\"2910_eventweights_pt5log.png\")"
   ]
  },
  {
   "cell_type": "markdown",
   "id": "9a1a3dcb-22b2-4d3a-a248-8b60d1664f6a",
   "metadata": {},
   "source": [
    "## November 5-6, 2024\n",
    "### Kinematic plots"
   ]
  },
  {
   "cell_type": "code",
   "execution_count": 18,
   "id": "611ab613-2dcf-4d10-a22e-a8c767c339b8",
   "metadata": {},
   "outputs": [],
   "source": [
    "f16APV_low_stpt = \"UL16APV_0_700_kin_stpt.pkl.gz\"\t\n",
    "f16APV_med_stpt = \"UL16APV_700_900_kin_stpt.pkl.gz\" \n",
    "f16APV_high_stpt = \"UL16APV_900_Inf_kin_stpt.pkl.gz\"\n",
    "\n",
    "f16_low_stpt = \"UL16_0_700_kin_stpt.pkl.gz\"\t\n",
    "f16_med_stpt = \"UL16_700_900_kin_stpt.pkl.gz\" \n",
    "f16_high_stpt = \"UL16_900_Inf_kin_stpt.pkl.gz\"\n",
    "\n",
    "f17_low_stpt = \"UL17_0_700_kin_stpt.pkl.gz\"\n",
    "f17_med_stpt = \"UL17_700_900_kin_stpt.pkl.gz\"\n",
    "f17_high_stpt = \"UL17_900_Inf_kin_stpt.pkl.gz\"\n",
    "\n",
    "f18_low_stpt = \"UL18_0_700_kin_stpt.pkl.gz\"    \n",
    "f18_med_stpt = \"UL18_700_900_kin_stpt.pkl.gz\"\n",
    "f18_high_stpt = \"UL18_900_Inf_kin_stpt.pkl.gz\"\n",
    "\n",
    "fnanogen_stpt = \"2810_ttbarEFT_nanogen.pkl.gz\""
   ]
  },
  {
   "cell_type": "code",
   "execution_count": 19,
   "id": "11a6927b-1f38-41d8-bc60-7f645bcc794a",
   "metadata": {},
   "outputs": [],
   "source": [
    "h16APV_low_stpt = utils.get_hist_from_pkl(f16APV_low_stpt, allow_empty=False)\n",
    "h16APV_med_stpt = utils.get_hist_from_pkl(f16APV_med_stpt, allow_empty=False)\n",
    "h16APV_high_stpt = utils.get_hist_from_pkl(f16APV_high_stpt, allow_empty=False)\n",
    "\n",
    "h16_low_stpt = utils.get_hist_from_pkl(f16_low_stpt, allow_empty=False)\n",
    "h16_med_stpt = utils.get_hist_from_pkl(f16_med_stpt, allow_empty=False)\n",
    "h16_high_stpt = utils.get_hist_from_pkl(f16_high_stpt, allow_empty=False)\n",
    "\n",
    "h17_low_stpt = utils.get_hist_from_pkl(f17_low_stpt, allow_empty=False)\n",
    "h17_med_stpt = utils.get_hist_from_pkl(f17_med_stpt, allow_empty=False)\n",
    "h17_high_stpt = utils.get_hist_from_pkl(f17_high_stpt, allow_empty=False)\n",
    "\n",
    "h18_low_stpt = utils.get_hist_from_pkl(f18_low_stpt, allow_empty=False)\n",
    "h18_med_stpt = utils.get_hist_from_pkl(f18_med_stpt, allow_empty=False)\n",
    "h18_high_stpt = utils.get_hist_from_pkl(f18_high_stpt, allow_empty=False)\n",
    "\n",
    "hnanogen_stpt = utils.get_hist_from_pkl(fnanogen_stpt, allow_empty=False)"
   ]
  },
  {
   "cell_type": "code",
   "execution_count": 20,
   "id": "a821b904-47dc-45d1-89bc-8f10ed58cb2b",
   "metadata": {},
   "outputs": [],
   "source": [
    "f16APV_low_SM = \"UL16APV_0_700_kin_SM.pkl.gz\"\t\n",
    "f16APV_med_SM = \"UL16APV_700_900_kin_SM.pkl.gz\" \n",
    "f16APV_high_SM = \"UL16APV_900_Inf_kin_SM.pkl.gz\"\n",
    "\n",
    "f16_low_SM = \"UL16_0_700_kin_SM.pkl.gz\"\t\n",
    "f16_med_SM = \"UL16_700_900_kin_SM.pkl.gz\" \n",
    "f16_high_SM = \"UL16_900_Inf_kin_SM.pkl.gz\"\n",
    "\n",
    "f17_low_SM = \"UL17_0_700_kin_SM.pkl.gz\"\n",
    "f17_med_SM = \"UL17_700_900_kin_SM.pkl.gz\"\n",
    "f17_high_SM = \"UL17_900_Inf_kin_SM.pkl.gz\"\n",
    "\n",
    "f18_low_SM = \"UL18_0_700_kin_SM.pkl.gz\"    \n",
    "f18_med_SM = \"UL18_700_900_kin_SM.pkl.gz\"\n",
    "f18_high_SM = \"UL18_900_Inf_kin_SM.pkl.gz\"\n",
    "\n",
    "fnanogen_SM = \"2810_ttbarEFT_nanogen_SM.pkl.gz\""
   ]
  },
  {
   "cell_type": "code",
   "execution_count": 21,
   "id": "18eb20f1-95a0-4877-86d4-9ac22177d448",
   "metadata": {},
   "outputs": [],
   "source": [
    "h16APV_low_SM = utils.get_hist_from_pkl(f16APV_low_SM, allow_empty=False)\n",
    "h16APV_med_SM = utils.get_hist_from_pkl(f16APV_med_SM, allow_empty=False)\n",
    "h16APV_high_SM = utils.get_hist_from_pkl(f16APV_high_SM, allow_empty=False)\n",
    "\n",
    "h16_low_SM = utils.get_hist_from_pkl(f16_low_SM, allow_empty=False)\n",
    "h16_med_SM = utils.get_hist_from_pkl(f16_med_SM, allow_empty=False)\n",
    "h16_high_SM = utils.get_hist_from_pkl(f16_high_SM, allow_empty=False)\n",
    "\n",
    "h17_low_SM = utils.get_hist_from_pkl(f17_low_SM, allow_empty=False)\n",
    "h17_med_SM = utils.get_hist_from_pkl(f17_med_SM, allow_empty=False)\n",
    "h17_high_SM = utils.get_hist_from_pkl(f17_high_SM, allow_empty=False)\n",
    "\n",
    "h18_low_SM = utils.get_hist_from_pkl(f18_low_SM, allow_empty=False)\n",
    "h18_med_SM = utils.get_hist_from_pkl(f18_med_SM, allow_empty=False)\n",
    "h18_high_SM = utils.get_hist_from_pkl(f18_high_SM, allow_empty=False)\n",
    "\n",
    "hnanogen_SM = utils.get_hist_from_pkl(fnanogen_SM, allow_empty=False)"
   ]
  },
  {
   "cell_type": "code",
   "execution_count": 32,
   "id": "43e0dc88-7e2a-481a-99ab-fb05d3cb532c",
   "metadata": {},
   "outputs": [],
   "source": [
    "ULyear = \"UL18\""
   ]
  },
  {
   "cell_type": "code",
   "execution_count": 33,
   "id": "3fcaa82e-8115-4901-b752-7aec4aaa823a",
   "metadata": {},
   "outputs": [],
   "source": [
    "if ULyear == \"UL16APV\": \n",
    "    hists1 = h16APV_low_SM\n",
    "    hists2 = h16APV_med_SM\n",
    "    hists3 = h16APV_high_SM\n",
    "    hists4 = hnanogen_SM  \n",
    "elif ULyear == \"UL16\": \n",
    "    hists1 = h16_low_SM\n",
    "    hists2 = h16_med_SM\n",
    "    hists3 = h16_high_SM\n",
    "    hists4 = hnanogen_SM   \n",
    "elif ULyear == \"UL17\":\n",
    "    hists1 = h17_low_SM\n",
    "    hists2 = h17_med_SM\n",
    "    hists3 = h17_high_SM\n",
    "    hists4 = hnanogen_SM\n",
    "elif ULyear == \"UL18\":\n",
    "    hists1 = h18_low_SM\n",
    "    hists2 = h18_med_SM\n",
    "    hists3 = h18_high_SM\n",
    "    hists4 = hnanogen_SM\n",
    "else: \n",
    "    print(\"no valid ULyear set\")"
   ]
  },
  {
   "cell_type": "code",
   "execution_count": 113,
   "id": "34227ad7-ff90-4231-8578-3ab31642fc55",
   "metadata": {},
   "outputs": [
    {
     "name": "stderr",
     "output_type": "stream",
     "text": [
      "/tmp/ipykernel_2371603/522512218.py:5: RuntimeWarning: invalid value encountered in divide\n",
      "  ratio = np.divide(num, denomSM)\n",
      "/tmp/ipykernel_2371603/3457844619.py:8: RuntimeWarning: invalid value encountered in divide\n",
      "  ratio = np.divide(yvals_num, yvals_denom)\n",
      "/tmp/ipykernel_2371603/3457844619.py:12: RuntimeWarning: invalid value encountered in divide\n",
      "  sigma_y = np.multiply(np.abs(ratio), np.sqrt(np.add(np.square(np.divide(sigma_num, yvals_num)), np.square(np.divide(sigma_denom, yvals_denom)))))\n",
      "/tmp/ipykernel_2371603/522512218.py:5: RuntimeWarning: invalid value encountered in divide\n",
      "  ratio = np.divide(num, denomSM)\n",
      "/tmp/ipykernel_2371603/3457844619.py:8: RuntimeWarning: invalid value encountered in divide\n",
      "  ratio = np.divide(yvals_num, yvals_denom)\n",
      "/tmp/ipykernel_2371603/3457844619.py:12: RuntimeWarning: invalid value encountered in divide\n",
      "  sigma_y = np.multiply(np.abs(ratio), np.sqrt(np.add(np.square(np.divide(sigma_num, yvals_num)), np.square(np.divide(sigma_denom, yvals_denom)))))\n",
      "/tmp/ipykernel_2371603/522512218.py:5: RuntimeWarning: invalid value encountered in divide\n",
      "  ratio = np.divide(num, denomSM)\n",
      "/tmp/ipykernel_2371603/3457844619.py:8: RuntimeWarning: invalid value encountered in divide\n",
      "  ratio = np.divide(yvals_num, yvals_denom)\n",
      "/tmp/ipykernel_2371603/3457844619.py:12: RuntimeWarning: invalid value encountered in divide\n",
      "  sigma_y = np.multiply(np.abs(ratio), np.sqrt(np.add(np.square(np.divide(sigma_num, yvals_num)), np.square(np.divide(sigma_denom, yvals_denom)))))\n",
      "/tmp/ipykernel_2371603/522512218.py:5: RuntimeWarning: invalid value encountered in divide\n",
      "  ratio = np.divide(num, denomSM)\n",
      "/tmp/ipykernel_2371603/3457844619.py:8: RuntimeWarning: invalid value encountered in divide\n",
      "  ratio = np.divide(yvals_num, yvals_denom)\n",
      "/tmp/ipykernel_2371603/3457844619.py:12: RuntimeWarning: invalid value encountered in divide\n",
      "  sigma_y = np.multiply(np.abs(ratio), np.sqrt(np.add(np.square(np.divide(sigma_num, yvals_num)), np.square(np.divide(sigma_denom, yvals_denom)))))\n",
      "/tmp/ipykernel_2371603/522512218.py:5: RuntimeWarning: invalid value encountered in divide\n",
      "  ratio = np.divide(num, denomSM)\n",
      "/tmp/ipykernel_2371603/3457844619.py:8: RuntimeWarning: invalid value encountered in divide\n",
      "  ratio = np.divide(yvals_num, yvals_denom)\n",
      "/tmp/ipykernel_2371603/3457844619.py:12: RuntimeWarning: invalid value encountered in divide\n",
      "  sigma_y = np.multiply(np.abs(ratio), np.sqrt(np.add(np.square(np.divide(sigma_num, yvals_num)), np.square(np.divide(sigma_denom, yvals_denom)))))\n",
      "/tmp/ipykernel_2371603/522512218.py:5: RuntimeWarning: divide by zero encountered in divide\n",
      "  ratio = np.divide(num, denomSM)\n",
      "/tmp/ipykernel_2371603/522512218.py:5: RuntimeWarning: invalid value encountered in divide\n",
      "  ratio = np.divide(num, denomSM)\n",
      "/tmp/ipykernel_2371603/3457844619.py:8: RuntimeWarning: divide by zero encountered in divide\n",
      "  ratio = np.divide(yvals_num, yvals_denom)\n",
      "/tmp/ipykernel_2371603/3457844619.py:8: RuntimeWarning: invalid value encountered in divide\n",
      "  ratio = np.divide(yvals_num, yvals_denom)\n",
      "/tmp/ipykernel_2371603/3457844619.py:12: RuntimeWarning: invalid value encountered in divide\n",
      "  sigma_y = np.multiply(np.abs(ratio), np.sqrt(np.add(np.square(np.divide(sigma_num, yvals_num)), np.square(np.divide(sigma_denom, yvals_denom)))))\n",
      "/tmp/ipykernel_2371603/522512218.py:5: RuntimeWarning: invalid value encountered in divide\n",
      "  ratio = np.divide(num, denomSM)\n",
      "/tmp/ipykernel_2371603/3457844619.py:8: RuntimeWarning: invalid value encountered in divide\n",
      "  ratio = np.divide(yvals_num, yvals_denom)\n",
      "/tmp/ipykernel_2371603/3457844619.py:12: RuntimeWarning: invalid value encountered in divide\n",
      "  sigma_y = np.multiply(np.abs(ratio), np.sqrt(np.add(np.square(np.divide(sigma_num, yvals_num)), np.square(np.divide(sigma_denom, yvals_denom)))))\n"
     ]
    }
   ],
   "source": [
    "# making histograms reweighted to the starting point\n",
    "for name in hists1:\n",
    "    h_central = hists1[name]+hists2[name]+hists3[name]\n",
    "    h_nanogen = hists4[name]\n",
    "    fig = make_plot_with_ratio(h_central, h_nanogen, \"central-\"+ULyear, \"nanogen\", name, \"Reweighted to SM\")\n",
    "    # fig.show()\n",
    "    figname = \"0611_\"+ULyear+\"_\"+name+\"_SM.png\"\n",
    "    fig.savefig(figname)\n",
    "    plt.close(fig)"
   ]
  },
  {
   "cell_type": "code",
   "execution_count": 29,
   "id": "d07a21a4-00c6-4231-9a89-cb90c55a2889",
   "metadata": {},
   "outputs": [],
   "source": [
    "if ULyear == \"UL16APV\": \n",
    "    hists1 = h16APV_low_stpt\n",
    "    hists2 = h16APV_med_stpt\n",
    "    hists3 = h16APV_high_stpt\n",
    "    hists4 = hnanogen_stpt  \n",
    "elif ULyear == \"UL16\": \n",
    "    hists1 = h16_low_stpt\n",
    "    hists2 = h16_med_stpt\n",
    "    hists3 = h16_high_stpt\n",
    "    hists4 = hnanogen_stpt \n",
    "elif ULyear == \"UL17\":\n",
    "    hists1 = h17_low_stpt\n",
    "    hists2 = h17_med_stpt\n",
    "    hists3 = h17_high_stpt\n",
    "    hists4 = hnanogen_stpt\n",
    "elif ULyear == \"UL18\":\n",
    "    hists1 = h18_low_stpt\n",
    "    hists2 = h18_med_stpt\n",
    "    hists3 = h18_high_stpt\n",
    "    hists4 = hnanogen_stpt\n",
    "else: \n",
    "    print(\"no valid ULyear set\")"
   ]
  },
  {
   "cell_type": "code",
   "execution_count": 71,
   "id": "85835306-2078-4c6a-ab05-baedef049bd2",
   "metadata": {},
   "outputs": [
    {
     "name": "stderr",
     "output_type": "stream",
     "text": [
      "/tmp/ipykernel_2371603/522512218.py:5: RuntimeWarning: invalid value encountered in divide\n",
      "  ratio = np.divide(num, denomSM)\n",
      "/tmp/ipykernel_2371603/3457844619.py:8: RuntimeWarning: invalid value encountered in divide\n",
      "  ratio = np.divide(yvals_num, yvals_denom)\n",
      "/tmp/ipykernel_2371603/3457844619.py:12: RuntimeWarning: invalid value encountered in divide\n",
      "  sigma_y = np.multiply(np.abs(ratio), np.sqrt(np.add(np.square(np.divide(sigma_num, yvals_num)), np.square(np.divide(sigma_denom, yvals_denom)))))\n",
      "/tmp/ipykernel_2371603/522512218.py:5: RuntimeWarning: invalid value encountered in divide\n",
      "  ratio = np.divide(num, denomSM)\n",
      "/tmp/ipykernel_2371603/3457844619.py:8: RuntimeWarning: invalid value encountered in divide\n",
      "  ratio = np.divide(yvals_num, yvals_denom)\n",
      "/tmp/ipykernel_2371603/3457844619.py:12: RuntimeWarning: invalid value encountered in divide\n",
      "  sigma_y = np.multiply(np.abs(ratio), np.sqrt(np.add(np.square(np.divide(sigma_num, yvals_num)), np.square(np.divide(sigma_denom, yvals_denom)))))\n",
      "/tmp/ipykernel_2371603/522512218.py:5: RuntimeWarning: invalid value encountered in divide\n",
      "  ratio = np.divide(num, denomSM)\n",
      "/tmp/ipykernel_2371603/3457844619.py:8: RuntimeWarning: invalid value encountered in divide\n",
      "  ratio = np.divide(yvals_num, yvals_denom)\n",
      "/tmp/ipykernel_2371603/3457844619.py:12: RuntimeWarning: invalid value encountered in divide\n",
      "  sigma_y = np.multiply(np.abs(ratio), np.sqrt(np.add(np.square(np.divide(sigma_num, yvals_num)), np.square(np.divide(sigma_denom, yvals_denom)))))\n",
      "/tmp/ipykernel_2371603/522512218.py:5: RuntimeWarning: invalid value encountered in divide\n",
      "  ratio = np.divide(num, denomSM)\n",
      "/tmp/ipykernel_2371603/3457844619.py:8: RuntimeWarning: invalid value encountered in divide\n",
      "  ratio = np.divide(yvals_num, yvals_denom)\n",
      "/tmp/ipykernel_2371603/3457844619.py:12: RuntimeWarning: invalid value encountered in divide\n",
      "  sigma_y = np.multiply(np.abs(ratio), np.sqrt(np.add(np.square(np.divide(sigma_num, yvals_num)), np.square(np.divide(sigma_denom, yvals_denom)))))\n",
      "/tmp/ipykernel_2371603/522512218.py:5: RuntimeWarning: invalid value encountered in divide\n",
      "  ratio = np.divide(num, denomSM)\n",
      "/tmp/ipykernel_2371603/3457844619.py:8: RuntimeWarning: invalid value encountered in divide\n",
      "  ratio = np.divide(yvals_num, yvals_denom)\n",
      "/tmp/ipykernel_2371603/3457844619.py:12: RuntimeWarning: invalid value encountered in divide\n",
      "  sigma_y = np.multiply(np.abs(ratio), np.sqrt(np.add(np.square(np.divide(sigma_num, yvals_num)), np.square(np.divide(sigma_denom, yvals_denom)))))\n",
      "/tmp/ipykernel_2371603/522512218.py:5: RuntimeWarning: divide by zero encountered in divide\n",
      "  ratio = np.divide(num, denomSM)\n",
      "/tmp/ipykernel_2371603/522512218.py:5: RuntimeWarning: invalid value encountered in divide\n",
      "  ratio = np.divide(num, denomSM)\n",
      "/tmp/ipykernel_2371603/3457844619.py:8: RuntimeWarning: divide by zero encountered in divide\n",
      "  ratio = np.divide(yvals_num, yvals_denom)\n",
      "/tmp/ipykernel_2371603/3457844619.py:8: RuntimeWarning: invalid value encountered in divide\n",
      "  ratio = np.divide(yvals_num, yvals_denom)\n",
      "/tmp/ipykernel_2371603/3457844619.py:12: RuntimeWarning: invalid value encountered in divide\n",
      "  sigma_y = np.multiply(np.abs(ratio), np.sqrt(np.add(np.square(np.divide(sigma_num, yvals_num)), np.square(np.divide(sigma_denom, yvals_denom)))))\n",
      "/tmp/ipykernel_2371603/522512218.py:5: RuntimeWarning: invalid value encountered in divide\n",
      "  ratio = np.divide(num, denomSM)\n",
      "/tmp/ipykernel_2371603/3457844619.py:8: RuntimeWarning: invalid value encountered in divide\n",
      "  ratio = np.divide(yvals_num, yvals_denom)\n",
      "/tmp/ipykernel_2371603/3457844619.py:12: RuntimeWarning: invalid value encountered in divide\n",
      "  sigma_y = np.multiply(np.abs(ratio), np.sqrt(np.add(np.square(np.divide(sigma_num, yvals_num)), np.square(np.divide(sigma_denom, yvals_denom)))))\n"
     ]
    }
   ],
   "source": [
    "# making histograms reweighted to the starting point\n",
    "for name in hists1:\n",
    "    h_central = hists1[name]+hists2[name]+hists3[name]\n",
    "    h_nanogen = hists4[name]\n",
    "    fig = make_plot_with_ratio(h_central, h_nanogen, \"central\"+ULyear, \"nanogen\", name, \"Reweighted to stpt\")\n",
    "    # fig.show()\n",
    "    figname = \"0611_\"+ULyear+\"_\"+name+\"_stpt.png\"\n",
    "    fig.savefig(figname)\n",
    "    plt.close(fig)"
   ]
  },
  {
   "cell_type": "code",
   "execution_count": 34,
   "id": "c122907b-f6a1-4653-ab8b-69b3fab1f49b",
   "metadata": {},
   "outputs": [
    {
     "data": {
      "text/plain": [
       "Text(0.13, 0.9, 'UL17 Reweighted to SM')"
      ]
     },
     "execution_count": 34,
     "metadata": {},
     "output_type": "execute_result"
    },
    {
     "data": {
      "image/png": "[encoded data removed]",
      "text/plain": [
       "<Figure size 1000x1000 with 1 Axes>"
      ]
     },
     "metadata": {},
     "output_type": "display_data"
    }
   ],
   "source": [
    "## CHECK LHE MTT DISTRIBUTION ##\n",
    "\n",
    "name = 'lhe_mtt'\n",
    "h1 = hists1[name]\n",
    "h2 = hists2[name]\n",
    "h3 = hists3[name]\n",
    "h4 = hists4[name]\n",
    "\n",
    "fig, ax = plt.subplots()\n",
    "# hep.histplot(h4, ax=ax, stack=False, yerr=True, label=\"nanogen\")\n",
    "hep.histplot(h1, ax=ax, stack=False, yerr=True, label=\"mtt_0_700\")\n",
    "hep.histplot(h2, ax=ax, stack=False, yerr=True, label=\"mtt_700_900\")\n",
    "hep.histplot(h3, ax=ax, stack=False, yerr=True, label=\"mtt_900_Inf\")\n",
    "\n",
    "ax.legend(loc = 'upper right', fontsize = 'small')\n",
    "ax.set_ylabel(\"Events\", fontsize='medium')\n",
    "plt.figtext(0.13, 0.9, \"UL17 Reweighted to SM\", fontsize='small')\n",
    "\n",
    "# ax.set_xlim([-6,1])\n",
    "# plt.show()"
   ]
  },
  {
   "cell_type": "code",
   "execution_count": 36,
   "id": "8b1c34dc-e320-4d87-847a-5ab9c1a6a649",
   "metadata": {},
   "outputs": [
    {
     "data": {
      "text/plain": [
       "Text(0.13, 0.9, 'UL18 at Starting Point')"
      ]
     },
     "execution_count": 36,
     "metadata": {},
     "output_type": "execute_result"
    },
    {
     "data": {
      "image/png": "[encoded data removed]",
      "text/plain": [
       "<Figure size 1000x1000 with 1 Axes>"
      ]
     },
     "metadata": {},
     "output_type": "display_data"
    }
   ],
   "source": [
    "name = 'njets'\n",
    "h1 = hists1[name]\n",
    "h2 = hists2[name]\n",
    "h3 = hists3[name]\n",
    "h4 = hists4[name]\n",
    "\n",
    "fig, ax = plt.subplots()\n",
    "# hep.histplot(h4, ax=ax, stack=False, yerr=True, label=\"nanogen\")\n",
    "hep.histplot(h1, ax=ax, stack=False, yerr=True, label=\"mtt_0_700\")\n",
    "hep.histplot(h2, ax=ax, stack=False, yerr=True, label=\"mtt_700_900\")\n",
    "hep.histplot(h3, ax=ax, stack=False, yerr=True, label=\"mtt_900_Inf\")\n",
    "\n",
    "ax.legend(loc = 'upper right', fontsize = 'small')\n",
    "ax.set_ylabel(\"Events\", fontsize='medium')\n",
    "plt.figtext(0.13, 0.9, \"UL18 at Starting Point\", fontsize='small')\n",
    "\n",
    "# ax.set_xlim([-6,1])\n",
    "# plt.show()"
   ]
  },
  {
   "cell_type": "markdown",
   "id": "ecfe5cdb-bec3-4ad5-a308-5da4eec93d64",
   "metadata": {},
   "source": [
    "## November 5-6, 2024\n",
    "### Event Weight plots"
   ]
  },
  {
   "cell_type": "code",
   "execution_count": 115,
   "id": "7b14a617-91c3-48a5-90a0-c16c8e6de75a",
   "metadata": {},
   "outputs": [],
   "source": [
    "f16APV_low_eventweights = \"UL16APV_0_700_eventweights.pkl.gz\"\t\n",
    "f16APV_med_eventweights = \"UL16APV_700_900_eventweights.pkl.gz\" \n",
    "f16APV_high_eventweights = \"UL16APV_900_Inf_eventweights.pkl.gz\"\n",
    "\n",
    "f16_low_eventweights = \"UL16_0_700_eventweights.pkl.gz\"\t\n",
    "f16_med_eventweights = \"UL16_700_900_eventweights.pkl.gz\" \n",
    "f16_high_eventweights = \"UL16_900_Inf_eventweights.pkl.gz\"\n",
    "\n",
    "f17_low_eventweights = \"UL17_0_700_eventweights.pkl.gz\"\n",
    "f17_med_eventweights = \"UL17_700_900_eventweights.pkl.gz\"\n",
    "f17_high_eventweights = \"UL17_900_Inf_eventweights.pkl.gz\"\n",
    "\n",
    "f18_low_eventweights = \"UL18_0_700_eventweights.pkl.gz\"    \n",
    "f18_med_eventweights = \"UL18_700_900_eventweights.pkl.gz\"\n",
    "f18_high_eventweights = \"UL18_900_Inf_eventweights.pkl.gz\""
   ]
  },
  {
   "cell_type": "code",
   "execution_count": 116,
   "id": "e4e79156-8ca2-406b-a69c-34d8285613b4",
   "metadata": {},
   "outputs": [],
   "source": [
    "h16APV_low_eventweights = utils.get_hist_from_pkl(f16APV_low_eventweights, allow_empty=False)\n",
    "h16APV_med_eventweights = utils.get_hist_from_pkl(f16APV_med_eventweights, allow_empty=False)\n",
    "h16APV_high_eventweights = utils.get_hist_from_pkl(f16APV_high_eventweights, allow_empty=False)\n",
    "\n",
    "h16_low_eventweights = utils.get_hist_from_pkl(f16_low_eventweights, allow_empty=False)\n",
    "h16_med_eventweights = utils.get_hist_from_pkl(f16_med_eventweights, allow_empty=False)\n",
    "h16_high_eventweights = utils.get_hist_from_pkl(f16_high_eventweights, allow_empty=False)\n",
    "\n",
    "h17_low_eventweights = utils.get_hist_from_pkl(f17_low_eventweights, allow_empty=False)\n",
    "h17_med_eventweights = utils.get_hist_from_pkl(f17_med_eventweights, allow_empty=False)\n",
    "h17_high_eventweights = utils.get_hist_from_pkl(f17_high_eventweights, allow_empty=False)\n",
    "\n",
    "h18_low_eventweights = utils.get_hist_from_pkl(f18_low_eventweights, allow_empty=False)\n",
    "h18_med_eventweights = utils.get_hist_from_pkl(f18_med_eventweights, allow_empty=False)\n",
    "h18_high_eventweights = utils.get_hist_from_pkl(f18_high_eventweights, allow_empty=False)"
   ]
  },
  {
   "cell_type": "code",
   "execution_count": 75,
   "id": "b55f08e0-8cb9-423b-82ca-63e1fd32961f",
   "metadata": {},
   "outputs": [
    {
     "name": "stdout",
     "output_type": "stream",
     "text": [
      "dict_keys(['weights_SM', 'weights_SM_log', 'weights_stpt', 'weights_stpt_log', 'weights_pt1_log', 'weights_pt3_log', 'weights_pt5_log'])\n"
     ]
    }
   ],
   "source": [
    "print(h18_low_eventweights.keys())"
   ]
  },
  {
   "cell_type": "code",
   "execution_count": 117,
   "id": "d02780dc-ad04-4a70-abd3-1271a120303a",
   "metadata": {},
   "outputs": [],
   "source": [
    "hists_to_make = ['weights_SM_log', 'weights_stpt_log', 'weights_pt1_log', 'weights_pt3_log', 'weights_pt5_log']"
   ]
  },
  {
   "cell_type": "code",
   "execution_count": 118,
   "id": "75121110-e894-4fb4-bed2-19c6c64dbd32",
   "metadata": {},
   "outputs": [],
   "source": [
    "hists_UL16APV = [h16APV_low_eventweights, h16APV_med_eventweights, h16APV_high_eventweights]\n",
    "hists_UL16 = [h16_low_eventweights, h16_med_eventweights, h16_high_eventweights]\n",
    "hists_UL17 = [h17_low_eventweights, h17_med_eventweights, h17_high_eventweights]\n",
    "hists_UL18 = [h18_low_eventweights, h18_med_eventweights, h18_high_eventweights]"
   ]
  },
  {
   "cell_type": "code",
   "execution_count": null,
   "id": "0695148b-4e7a-4961-b18d-7df4f4e92ade",
   "metadata": {},
   "outputs": [],
   "source": [
    "name = 'weights_stpt_log'\n",
    "h1 = hists1[name]\n",
    "h2 = hists2[name]\n",
    "h3 = hists3[name]\n",
    "h4 = hists4[name]\n",
    "\n",
    "fig, ax = plt.subplots()\n",
    "hep.histplot(h1, ax=ax, stack=False, yerr=False, label=\"mtt_0_700\")\n",
    "hep.histplot(h2, ax=ax, stack=False, yerr=False, label=\"mtt_700_900\")\n",
    "hep.histplot(h3, ax=ax, stack=False, yerr=False, label=\"mtt_900_Inf\")\n",
    "hep.histplot(h4, ax=ax, stack=False, yerr=False, label=\"nanogen\")\n",
    "\n",
    "ax.legend(loc = 'upper left', fontsize = 'small')\n",
    "ax.set_xlim([-6,1])\n",
    "plt.show()\n",
    "# fig.savefig(\"2910_eventweights_stptlog.png\")"
   ]
  },
  {
   "cell_type": "code",
   "execution_count": 119,
   "id": "f4d70e2b-a1af-4fa8-ad1f-2faafe85ae76",
   "metadata": {},
   "outputs": [
    {
     "name": "stdout",
     "output_type": "stream",
     "text": [
      "UL16APV_weights_SM_log.png\n",
      "UL16APV_weights_stpt_log.png\n",
      "UL16APV_weights_pt1_log.png\n",
      "UL16APV_weights_pt3_log.png\n",
      "UL16APV_weights_pt5_log.png\n"
     ]
    }
   ],
   "source": [
    "h = hists_UL16APV\n",
    "title = \"centralUL16APV\"\n",
    "\n",
    "for hname in hists_to_make:\n",
    "    fig, ax = plt.subplots()\n",
    "    hep.histplot(h[0][hname], ax=ax, stack=False, yerr=False, label=\"mtt_0_700\")\n",
    "    hep.histplot(h[1][hname], ax=ax, stack=False, yerr=False, label=\"mtt_700_900\")\n",
    "    hep.histplot(h[2][hname], ax=ax, stack=False, yerr=False, label=\"mtt_900_Inf\")\n",
    "    \n",
    "    plt.figtext(0.13, 0.9, title, fontsize='small')\n",
    "    ax.legend(loc = 'upper left', fontsize = 'small')\n",
    "    ax.set_xlim([-6,1])\n",
    "\n",
    "    figname = \"UL16APV_\"+hname+\".png\"\n",
    "    print(figname)\n",
    "    fig.savefig(figname)\n",
    "    plt.close(fig)\n",
    "        \n",
    "    # plt.show()"
   ]
  },
  {
   "cell_type": "code",
   "execution_count": 90,
   "id": "c4dd7ace-bb18-4f1f-81b1-59a1c38d43ed",
   "metadata": {},
   "outputs": [
    {
     "name": "stdout",
     "output_type": "stream",
     "text": [
      "UL16_weights_SM_log.png\n",
      "UL16_weights_stpt_log.png\n",
      "UL16_weights_pt1_log.png\n",
      "UL16_weights_pt3_log.png\n",
      "UL16_weights_pt5_log.png\n"
     ]
    }
   ],
   "source": [
    "h = hists_UL16\n",
    "title = \"centralUL16\"\n",
    "\n",
    "for hname in hists_to_make:\n",
    "    fig, ax = plt.subplots()\n",
    "    hep.histplot(h[0][hname], ax=ax, stack=False, yerr=False, label=\"mtt_0_700\")\n",
    "    hep.histplot(h[1][hname], ax=ax, stack=False, yerr=False, label=\"mtt_700_900\")\n",
    "    hep.histplot(h[2][hname], ax=ax, stack=False, yerr=False, label=\"mtt_900_Inf\")\n",
    "    \n",
    "    plt.figtext(0.13, 0.9, title, fontsize='small')\n",
    "    ax.legend(loc = 'upper left', fontsize = 'small')\n",
    "    ax.set_xlim([-6,1])\n",
    "\n",
    "    figname = \"UL16_\"+hname+\".png\"\n",
    "    print(figname)\n",
    "    fig.savefig(figname)\n",
    "    plt.close(fig)\n",
    "        \n",
    "    # plt.show()"
   ]
  },
  {
   "cell_type": "code",
   "execution_count": 91,
   "id": "4dd94760-2e80-4a40-9e48-3a34338778c1",
   "metadata": {},
   "outputs": [
    {
     "name": "stdout",
     "output_type": "stream",
     "text": [
      "UL17_weights_SM_log.png\n",
      "UL17_weights_stpt_log.png\n",
      "UL17_weights_pt1_log.png\n",
      "UL17_weights_pt3_log.png\n",
      "UL17_weights_pt5_log.png\n"
     ]
    }
   ],
   "source": [
    "h = hists_UL17\n",
    "title = \"centralUL17\"\n",
    "\n",
    "for hname in hists_to_make:\n",
    "    fig, ax = plt.subplots()\n",
    "    hep.histplot(h[0][hname], ax=ax, stack=False, yerr=False, label=\"mtt_0_700\")\n",
    "    hep.histplot(h[1][hname], ax=ax, stack=False, yerr=False, label=\"mtt_700_900\")\n",
    "    hep.histplot(h[2][hname], ax=ax, stack=False, yerr=False, label=\"mtt_900_Inf\")\n",
    "    \n",
    "    plt.figtext(0.13, 0.9, title, fontsize='small')\n",
    "    ax.legend(loc = 'upper left', fontsize = 'small')\n",
    "    ax.set_xlim([-6,1])\n",
    "\n",
    "    figname = \"UL17_\"+hname+\".png\"\n",
    "    print(figname)\n",
    "    fig.savefig(figname)\n",
    "    plt.close(fig)\n",
    "        \n",
    "    # plt.show()"
   ]
  },
  {
   "cell_type": "code",
   "execution_count": 92,
   "id": "d0578469-74cb-4e0b-bd72-69b25d890de9",
   "metadata": {},
   "outputs": [
    {
     "name": "stdout",
     "output_type": "stream",
     "text": [
      "UL18_weights_SM_log.png\n",
      "UL18_weights_stpt_log.png\n",
      "UL18_weights_pt1_log.png\n",
      "UL18_weights_pt3_log.png\n",
      "UL18_weights_pt5_log.png\n"
     ]
    }
   ],
   "source": [
    "h = hists_UL18\n",
    "title = \"centralUL18\"\n",
    "\n",
    "for hname in hists_to_make:\n",
    "    fig, ax = plt.subplots()\n",
    "    hep.histplot(h[0][hname], ax=ax, stack=False, yerr=False, label=\"mtt_0_700\")\n",
    "    hep.histplot(h[1][hname], ax=ax, stack=False, yerr=False, label=\"mtt_700_900\")\n",
    "    hep.histplot(h[2][hname], ax=ax, stack=False, yerr=False, label=\"mtt_900_Inf\")\n",
    "    \n",
    "    plt.figtext(0.13, 0.9, title, fontsize='small')\n",
    "    ax.legend(loc = 'upper left', fontsize = 'small')\n",
    "    ax.set_xlim([-6,1])\n",
    "\n",
    "    figname = \"UL18_\"+hname+\".png\"\n",
    "    print(figname)\n",
    "    fig.savefig(figname)\n",
    "    plt.close(fig)\n",
    "        \n",
    "    # plt.show()"
   ]
  },
  {
   "cell_type": "code",
   "execution_count": null,
   "id": "6c9cd6cd-1367-4dd0-968d-7defd3e1535b",
   "metadata": {},
   "outputs": [],
   "source": []
  }
 ],
 "metadata": {
  "kernelspec": {
   "display_name": "ttbarEFT",
   "language": "python",
   "name": "ttbareft"
  },
  "language_info": {
   "codemirror_mode": {
    "name": "ipython",
    "version": 3
   },
   "file_extension": ".py",
   "mimetype": "text/x-python",
   "name": "python",
   "nbconvert_exporter": "python",
   "pygments_lexer": "ipython3",
   "version": "3.9.19"
  }
 },
 "nbformat": 4,
 "nbformat_minor": 5
}
