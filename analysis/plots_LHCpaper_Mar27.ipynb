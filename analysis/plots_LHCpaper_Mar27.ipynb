{
 "cells": [
  {
   "cell_type": "code",
   "execution_count": 1,
   "id": "a7fdef87-23db-4afd-9d0c-4c19e237ed5c",
   "metadata": {},
   "outputs": [
    {
     "name": "stderr",
     "output_type": "stream",
     "text": [
      "/afs/crc.nd.edu/user/h/hnelson2/miniconda3/envs/ttbarEFT-env/lib/python3.9/site-packages/coffea/util.py:154: FutureWarning: In coffea version v2023.3.0 (target date: 31 Mar 2023), this will be an error.\n",
      "(Set coffea.deprecations_as_errors = True to get a stack trace now.)\n",
      "ImportError: coffea.hist is deprecated\n",
      "  warnings.warn(message, FutureWarning)\n"
     ]
    }
   ],
   "source": [
    "import pickle #read pickle file\n",
    "import gzip #read zipped pickle file\n",
    "import matplotlib.pyplot as plt #plot histograms\n",
    "import mplhep as hep\n",
    "import numpy as np\n",
    "# from coffea import hist\n",
    "import hist\n",
    "import topcoffea.modules.HistEFT as HistEFT\n",
    "# import hist\n",
    "# from hist import Hist\n",
    "import topcoffea.modules.utils as utils\n",
    "\n",
    "\n",
    "hep.style.use(\"CMS\")\n",
    "params = {'axes.labelsize': 20,\n",
    "          'axes.titlesize': 20,\n",
    "          'legend.fontsize':20}\n",
    "plt.rcParams.update(params)"
   ]
  },
  {
   "cell_type": "code",
   "execution_count": 5,
   "id": "aca3d8d8-21e6-4ce6-8f70-a212525a04f9",
   "metadata": {},
   "outputs": [],
   "source": [
    "dr_ylabel = r\"$d\\sigma \\: [pb] \\; / \\; d\\Delta R \\: [bin]$\"\n",
    "avg_ylabel = r\"$d\\sigma \\: [pb] \\; / \\; d p_T \\: [GeV]$\"\n",
    "l0pt_ylabel = r\"$d\\sigma \\: [pb] \\; / \\; d p_T \\: [GeV]$\""
   ]
  },
  {
   "cell_type": "markdown",
   "id": "5ac3cd86-02f8-451f-82e9-9314ac81020b",
   "metadata": {},
   "source": [
    "## Kinematic Plots Reweighted at Starting Point"
   ]
  },
  {
   "cell_type": "code",
   "execution_count": 10,
   "id": "ff0edd17-c168-489d-b877-1b08198ce997",
   "metadata": {},
   "outputs": [
    {
     "name": "stdout",
     "output_type": "stream",
     "text": [
      "{'avg_top_pt': Hist(Regular(40, 0, 400, name='average top $p_T$ [GeV]'), storage=Weight()) # Sum: WeightedSum(value=11.6284, variance=0.0744898) (WeightedSum(value=11.6475, variance=0.0746004) with flow), 'l0pt': Hist(Regular(40, 0, 400, name='leading lepton $p_T$ [GeV]'), storage=Weight()) # Sum: WeightedSum(value=11.6345, variance=0.0745439) (WeightedSum(value=11.6475, variance=0.0746004) with flow), 'dr_leps': Hist(Regular(30, 0, 6, name='$\\\\Delta R$ (leading lepton, subleading lepton)'), storage=Weight()) # Sum: WeightedSum(value=11.6475, variance=0.0746004), 'mtt': Hist(Regular(60, 0, 1200, name='invariant mass of tops'), storage=Weight()) # Sum: WeightedSum(value=11.5406, variance=0.0741172) (WeightedSum(value=11.6475, variance=0.0746004) with flow), 'njets': Hist(Regular(10, 0, 10, name='njets'), storage=Weight()) # Sum: WeightedSum(value=11.6475, variance=0.0746004)}\n"
     ]
    }
   ],
   "source": [
    "fin1 = \"LHCEFT_TT01j2l_S1_SM.pkl.gz\"\n",
    "fin2 = \"LHCEFT_TT01j2l_S2_SM.pkl.gz\"\n",
    "hists1 = utils.get_hist_from_pkl(fin1, allow_empty=False)\n",
    "hists2 = utils.get_hist_from_pkl(fin2, allow_empty=False)\n",
    "print(hists1)"
   ]
  },
  {
   "cell_type": "code",
   "execution_count": 9,
   "id": "f68e4a99-535e-4be3-a48b-bbfbc457c64e",
   "metadata": {},
   "outputs": [
    {
     "name": "stdout",
     "output_type": "stream",
     "text": [
      "plot saved to:  LHCEFT_SM_avgTopPt.pdf\n"
     ]
    }
   ],
   "source": [
    "h1 = hists1['avg_top_pt']\n",
    "h2 = hists2['avg_top_pt']\n",
    "fig, ax = plt.subplots(1,1)\n",
    "hep.histplot(h1, ax=ax, stack=False, yerr=True, label=r\"LO+1 jet (sample 1)\")\n",
    "hep.histplot(h2, ax=ax, stack=False, yerr=True, label=r\"LO+1 jet (sample 2)\")\n",
    "ax.legend(loc = 'upper right', fontsize = 'small')\n",
    "ax.set_ylabel(avg_ylabel, fontsize='medium')\n",
    "plt.figtext(0.78, 0.89,\"(13 TeV)\", fontsize = 'small')\n",
    "plt.figtext(0.14, 0.89, r\"$pp \\rightarrow t\\bar{t} \\rightarrow l^+ \\nu_l b \\;\\; l^- \\bar{\\nu_l} \\bar{b}$\", fontsize='small')\n",
    "plt.figtext(0.25, 0.83, \"Reweighted to SM\", fontsize='small')\n",
    "figname = \"LHCEFT_SM_avgTopPt.pdf\"\n",
    "fig.savefig(figname)\n",
    "print(\"plot saved to: \", figname)\n",
    "plt.close(fig)"
   ]
  },
  {
   "cell_type": "code",
   "execution_count": 18,
   "id": "3429b096-a8c6-4ece-9614-c13417fb0b95",
   "metadata": {},
   "outputs": [
    {
     "name": "stdout",
     "output_type": "stream",
     "text": [
      "plot saved to:  LHCEFT_SM_l0pt.pdf\n"
     ]
    }
   ],
   "source": [
    "h1 = hists1['l0pt']\n",
    "h2 = hists2['l0pt']\n",
    "fig, ax = plt.subplots(1,1)\n",
    "hep.histplot(h1, ax=ax, stack=False, yerr=True, label=r\"LO+1 jet (sample 1)\")\n",
    "hep.histplot(h2, ax=ax, stack=False, yerr=True, label=r\"LO+1 jet (sample 2)\")\n",
    "ax.legend(loc = 'upper right', fontsize = 'small')\n",
    "ax.set_ylabel(l0pt_ylabel, fontsize='medium')\n",
    "plt.figtext(0.78, 0.89,\"(13 TeV)\", fontsize = 'small')\n",
    "plt.figtext(0.14, 0.89, r\"$pp \\rightarrow t\\bar{t} \\rightarrow l^+ \\nu_l b \\;\\; l^- \\bar{\\nu_l} \\bar{b}$\", fontsize='small')\n",
    "plt.figtext(0.27, 0.83, \"Reweighted to SM\", fontsize='small')\n",
    "figname = \"LHCEFT_SM_l0pt.pdf\"\n",
    "fig.savefig(figname)\n",
    "print(\"plot saved to: \", figname)\n",
    "plt.close(fig)"
   ]
  },
  {
   "cell_type": "code",
   "execution_count": 15,
   "id": "98bd3190-401c-493d-97d7-0e66d5628b09",
   "metadata": {},
   "outputs": [
    {
     "name": "stdout",
     "output_type": "stream",
     "text": [
      "plot saved to:  LHCEFT_SM_drLeps.pdf\n"
     ]
    }
   ],
   "source": [
    "h1 = hists1['dr_leps']\n",
    "h2 = hists2['dr_leps']\n",
    "fig, ax = plt.subplots(1,1)\n",
    "hep.histplot(h1, ax=ax, stack=False, yerr=True, label=r\"LO+1 jet (sample 1)\")\n",
    "hep.histplot(h2, ax=ax, stack=False, yerr=True, label=r\"LO+1 jet (sample 2)\")\n",
    "ax.legend(loc = 'upper right', fontsize = 'small')\n",
    "ax.set_ylabel(dr_ylabel, fontsize='medium')\n",
    "plt.figtext(0.78, 0.89,\"(13 TeV)\", fontsize = 'small')\n",
    "plt.figtext(0.14, 0.89, r\"$pp \\rightarrow t\\bar{t} \\rightarrow l^+ \\nu_l b \\;\\; l^- \\bar{\\nu_l} \\bar{b}$\", fontsize='small')\n",
    "plt.figtext(0.15, 0.83, \"Reweighted to SM\", fontsize='small')\n",
    "figname = \"LHCEFT_SM_drLeps.pdf\"\n",
    "fig.savefig(figname)\n",
    "print(\"plot saved to: \", figname)\n",
    "plt.close(fig)"
   ]
  },
  {
   "cell_type": "markdown",
   "id": "699b0672-6aaa-4a30-b33e-67f0ddc80f98",
   "metadata": {},
   "source": [
    "## Kinematic Plots reweighted at Pt 1 \n",
    "Point 1 = starting point of Robert's original sample"
   ]
  },
  {
   "cell_type": "code",
   "execution_count": 19,
   "id": "357907b0-86b8-4ff8-847a-877f08bd10f0",
   "metadata": {},
   "outputs": [
    {
     "name": "stdout",
     "output_type": "stream",
     "text": [
      "{'avg_top_pt': Hist(Regular(40, 0, 400, name='average top $p_T$ [GeV]'), storage=Weight()) # Sum: WeightedSum(value=11.6284, variance=0.0744898) (WeightedSum(value=11.6475, variance=0.0746004) with flow), 'l0pt': Hist(Regular(40, 0, 400, name='leading lepton $p_T$ [GeV]'), storage=Weight()) # Sum: WeightedSum(value=11.6345, variance=0.0745439) (WeightedSum(value=11.6475, variance=0.0746004) with flow), 'dr_leps': Hist(Regular(30, 0, 6, name='$\\\\Delta R$ (leading lepton, subleading lepton)'), storage=Weight()) # Sum: WeightedSum(value=11.6475, variance=0.0746004), 'mtt': Hist(Regular(60, 0, 1200, name='invariant mass of tops'), storage=Weight()) # Sum: WeightedSum(value=11.5406, variance=0.0741172) (WeightedSum(value=11.6475, variance=0.0746004) with flow), 'njets': Hist(Regular(10, 0, 10, name='njets'), storage=Weight()) # Sum: WeightedSum(value=11.6475, variance=0.0746004)}\n"
     ]
    }
   ],
   "source": [
    "fin3 = \"LHCEFT_TT01j2l_S1_pt1.pkl.gz\"\n",
    "fin4 = \"LHCEFT_TT01j2l_S2_pt1.pkl.gz\"\n",
    "hists3 = utils.get_hist_from_pkl(fin1, allow_empty=False)\n",
    "hists4 = utils.get_hist_from_pkl(fin2, allow_empty=False)\n",
    "print(hists1)"
   ]
  },
  {
   "cell_type": "code",
   "execution_count": 32,
   "id": "34ee92ce-226b-41e5-8f14-eb63f422fba9",
   "metadata": {},
   "outputs": [
    {
     "name": "stdout",
     "output_type": "stream",
     "text": [
      "plot saved to:  LHCEFT_pt1_avgTopPt.pdf\n"
     ]
    }
   ],
   "source": [
    "h3 = hists3['avg_top_pt']\n",
    "h4 = hists4['avg_top_pt']\n",
    "fig, ax = plt.subplots(1,1)\n",
    "hep.histplot(h3, ax=ax, stack=False, yerr=True, label=r\"LO+1 jet (sample 1)\")\n",
    "hep.histplot(h4, ax=ax, stack=False, yerr=True, label=r\"LO+1 jet (sample 2)\")\n",
    "ax.legend(loc = 'upper right', fontsize = 'small')\n",
    "ax.set_ylabel(avg_ylabel, fontsize='medium')\n",
    "plt.figtext(0.78, 0.89,\"(13 TeV)\", fontsize = 'small')\n",
    "plt.figtext(0.14, 0.89, r\"$pp \\rightarrow t\\bar{t} \\rightarrow l^+ \\nu_l b \\;\\; l^- \\bar{\\nu_l} \\bar{b}$\", fontsize='small')\n",
    "plt.figtext(0.25, 0.83, \"Reweighted to Pt2\", fontsize='small')\n",
    "figname = \"LHCEFT_pt1_avgTopPt.pdf\"\n",
    "fig.savefig(figname)\n",
    "print(\"plot saved to: \", figname)\n",
    "plt.close(fig)"
   ]
  },
  {
   "cell_type": "code",
   "execution_count": 33,
   "id": "eebc1318-5817-476d-a3e0-3757625b2e8f",
   "metadata": {},
   "outputs": [
    {
     "name": "stdout",
     "output_type": "stream",
     "text": [
      "plot saved to:  LHCEFT_pt1_l0pt.pdf\n"
     ]
    }
   ],
   "source": [
    "h3 = hists3['l0pt']\n",
    "h4 = hists4['l0pt']\n",
    "fig, ax = plt.subplots(1,1)\n",
    "hep.histplot(h3, ax=ax, stack=False, yerr=True, label=r\"LO+1 jet (sample 1)\")\n",
    "hep.histplot(h4, ax=ax, stack=False, yerr=True, label=r\"LO+1 jet (sample 2)\")\n",
    "ax.legend(loc = 'upper right', fontsize = 'small')\n",
    "ax.set_ylabel(l0pt_ylabel, fontsize='medium')\n",
    "plt.figtext(0.78, 0.89,\"(13 TeV)\", fontsize = 'small')\n",
    "plt.figtext(0.14, 0.89, r\"$pp \\rightarrow t\\bar{t} \\rightarrow l^+ \\nu_l b \\;\\; l^- \\bar{\\nu_l} \\bar{b}$\", fontsize='small')\n",
    "plt.figtext(0.27, 0.83, \"Reweighted to Pt2\", fontsize='small')\n",
    "figname = \"LHCEFT_pt1_l0pt.pdf\"\n",
    "fig.savefig(figname)\n",
    "print(\"plot saved to: \", figname)\n",
    "plt.close(fig)"
   ]
  },
  {
   "cell_type": "code",
   "execution_count": 34,
   "id": "b449e008-eb2c-49b7-b745-2be7245094e6",
   "metadata": {},
   "outputs": [
    {
     "name": "stdout",
     "output_type": "stream",
     "text": [
      "plot saved to:  LHCEFT_pt1_drLeps.pdf\n"
     ]
    }
   ],
   "source": [
    "h3 = hists3['dr_leps']\n",
    "h4 = hists4['dr_leps']\n",
    "fig, ax = plt.subplots(1,1)\n",
    "hep.histplot(h3, ax=ax, stack=False, yerr=True, label=r\"LO+1 jet (sample 1)\")\n",
    "hep.histplot(h4, ax=ax, stack=False, yerr=True, label=r\"LO+1 jet (sample 2)\")\n",
    "ax.legend(loc = 'upper right', fontsize = 'small')\n",
    "ax.set_ylabel(dr_ylabel, fontsize='medium')\n",
    "plt.figtext(0.78, 0.89,\"(13 TeV)\", fontsize = 'small')\n",
    "plt.figtext(0.14, 0.89, r\"$pp \\rightarrow t\\bar{t} \\rightarrow l^+ \\nu_l b \\;\\; l^- \\bar{\\nu_l} \\bar{b}$\", fontsize='small')\n",
    "plt.figtext(0.15, 0.83, \"Reweighted to Pt2\", fontsize='small')\n",
    "figname = \"LHCEFT_pt1_drLeps.pdf\"\n",
    "fig.savefig(figname)\n",
    "print(\"plot saved to: \", figname)\n",
    "plt.close(fig)"
   ]
  },
  {
   "cell_type": "code",
   "execution_count": null,
   "id": "c363daa1-e489-4e4d-8ea8-e183f0c89c5f",
   "metadata": {},
   "outputs": [],
   "source": []
  }
 ],
 "metadata": {
  "kernelspec": {
   "display_name": "ttbarEFT-env",
   "language": "python",
   "name": "ttbareft-env"
  },
  "language_info": {
   "codemirror_mode": {
    "name": "ipython",
    "version": 3
   },
   "file_extension": ".py",
   "mimetype": "text/x-python",
   "name": "python",
   "nbconvert_exporter": "python",
   "pygments_lexer": "ipython3",
   "version": "3.9.18"
  }
 },
 "nbformat": 4,
 "nbformat_minor": 5
}
