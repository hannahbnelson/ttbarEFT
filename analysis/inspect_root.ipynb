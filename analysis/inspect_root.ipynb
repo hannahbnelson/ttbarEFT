{
 "cells": [
  {
   "cell_type": "code",
   "execution_count": 1,
   "id": "f4c85ae8-883c-4114-8fb4-b4580c3bf671",
   "metadata": {},
   "outputs": [],
   "source": [
    "import awkward as ak\n",
    "import numpy as np\n",
    "import matplotlib.pyplot as plt\n",
    "import mplhep as hep\n",
    "import hist\n",
    "from hist import Hist\n",
    "from coffea.nanoevents import NanoEventsFactory, NanoAODSchema\n",
    "NanoAODSchema.warn_missing_crossrefs = False\n",
    "\n",
    "from coffea.analysis_tools import PackedSelection\n",
    "from topcoffea.modules import utils\n",
    "import topcoffea.modules.eft_helper as efth"
   ]
  },
  {
   "cell_type": "code",
   "execution_count": 2,
   "id": "16467ad3-a2fe-48b1-a11f-c9eb69f37000",
   "metadata": {},
   "outputs": [],
   "source": [
    "# histogram style\n",
    "hep.style.use(\"CMS\")\n",
    "params = {'axes.labelsize': 20,\n",
    "          'axes.titlesize': 20,\n",
    "          'legend.fontsize':20}\n",
    "plt.rcParams.update(params)"
   ]
  },
  {
   "cell_type": "code",
   "execution_count": 10,
   "id": "c7ede932-3c9f-42e9-8aba-9fe979d0dd81",
   "metadata": {},
   "outputs": [],
   "source": [
    "# fname = '/project01/ndcms/hnelson2/ttbarEFT/nanoGen/TT01j2l_S1/nanoGen_101.root'\n",
    "fname = '/afs/crc.nd.edu/user/h/hnelson2/ttbarEFT/input_samples/nanoGen/djr_test_nanoGen.root'"
   ]
  },
  {
   "cell_type": "code",
   "execution_count": 11,
   "id": "08e4ce12-7373-4701-bdbd-be4a2f6177cd",
   "metadata": {},
   "outputs": [],
   "source": [
    "# Load in events from root file\n",
    "events = NanoEventsFactory.from_root(\n",
    "    fname,\n",
    "    schemaclass=NanoAODSchema.v6,\n",
    "    metadata={\"dataset\": \"TT01j2l\"},\n",
    ").events()"
   ]
  },
  {
   "cell_type": "code",
   "execution_count": 12,
   "id": "3e8d10b4-2eb9-4ebd-9e37-758be89decef",
   "metadata": {},
   "outputs": [
    {
     "name": "stdout",
     "output_type": "stream",
     "text": [
      "['cQd1', 'ctj1', 'cQj31', 'ctj8', 'ctd1', 'ctd8', 'ctGRe', 'ctGIm', 'cQj11', 'cQj18', 'ctu8', 'cQd8', 'ctu1', 'cQu1', 'cQj38', 'cQu8']\n"
     ]
    }
   ],
   "source": [
    "wc_lst = utils.get_list_of_wc_names(fname)\n",
    "print(wc_lst)"
   ]
  },
  {
   "cell_type": "code",
   "execution_count": 13,
   "id": "f58dad18-05f5-48e5-a188-fdee9ccdafc2",
   "metadata": {},
   "outputs": [
    {
     "data": {
      "text/plain": [
       "['GenVtx',\n",
       " 'GenJetAK8',\n",
       " 'LHE',\n",
       " 'GenJet',\n",
       " 'GenMET',\n",
       " 'GenDressedLepton',\n",
       " 'luminosityBlock',\n",
       " 'LHEReweightingWeight',\n",
       " 'LHEPdfWeight',\n",
       " 'GenVisTau',\n",
       " 'EFTfitCoefficients',\n",
       " 'LHEScaleWeight',\n",
       " 'event',\n",
       " 'GenPart',\n",
       " 'GenIsolatedPhoton',\n",
       " 'LHEWeight',\n",
       " 'Generator',\n",
       " 'genWeight',\n",
       " 'run',\n",
       " 'LHEPart',\n",
       " 'PSWeight',\n",
       " 'MET',\n",
       " 'WCnames']"
      ]
     },
     "execution_count": 13,
     "metadata": {},
     "output_type": "execute_result"
    }
   ],
   "source": [
    "events.fields"
   ]
  },
  {
   "cell_type": "code",
   "execution_count": 5,
   "id": "fc1b14dc-5784-4bd8-91ff-11d9b29065b1",
   "metadata": {},
   "outputs": [
    {
     "data": {
      "text/plain": [
       "['HT',\n",
       " 'HTIncoming',\n",
       " 'Vpt',\n",
       " 'AlphaS',\n",
       " 'Njets',\n",
       " 'Nb',\n",
       " 'Nc',\n",
       " 'Nuds',\n",
       " 'Nglu',\n",
       " 'NpNLO',\n",
       " 'NpLO']"
      ]
     },
     "execution_count": 5,
     "metadata": {},
     "output_type": "execute_result"
    }
   ],
   "source": [
    "events.LHE.fields"
   ]
  },
  {
   "cell_type": "code",
   "execution_count": 9,
   "id": "74b3d95d-5fbc-487a-9b9d-d60701174cd4",
   "metadata": {},
   "outputs": [
    {
     "data": {
      "text/plain": [
       "<Array [435, 117, 0, 0, ... 227, 0, 0, 72.4] type='15682 * float32[parameters={\"...'>"
      ]
     },
     "execution_count": 9,
     "metadata": {},
     "output_type": "execute_result"
    }
   ],
   "source": [
    "events.LHE.HTIncoming"
   ]
  },
  {
   "cell_type": "code",
   "execution_count": 9,
   "id": "673eaab1-5d2f-45f1-83fb-efc11c099941",
   "metadata": {},
   "outputs": [
    {
     "data": {
      "text/plain": [
       "['eta', 'mass', 'phi', 'pt', 'partonFlavour', 'hadronFlavour']"
      ]
     },
     "execution_count": 9,
     "metadata": {},
     "output_type": "execute_result"
    }
   ],
   "source": [
    "events.GenJet.fields"
   ]
  },
  {
   "cell_type": "code",
   "execution_count": 32,
   "id": "9c2789a5-a072-44d4-98eb-0810feaa66c0",
   "metadata": {},
   "outputs": [
    {
     "data": {
      "text/plain": [
       "['pt', 'eta', 'phi', 'mass', 'incomingpz', 'pdgId', 'status', 'spin']"
      ]
     },
     "execution_count": 32,
     "metadata": {},
     "output_type": "execute_result"
    }
   ],
   "source": [
    "events.LHEPart.fields"
   ]
  },
  {
   "cell_type": "code",
   "execution_count": 31,
   "id": "6e4700fc-076f-44d9-8d88-037f62eb5256",
   "metadata": {},
   "outputs": [
    {
     "data": {
      "text/plain": [
       "['eta',\n",
       " 'mass',\n",
       " 'phi',\n",
       " 'pt',\n",
       " 'genPartIdxMother',\n",
       " 'pdgId',\n",
       " 'status',\n",
       " 'statusFlags',\n",
       " 'genPartIdxMotherG',\n",
       " 'distinctParentIdxG',\n",
       " 'childrenIdxG',\n",
       " 'distinctChildrenIdxG',\n",
       " 'distinctChildrenDeepIdxG']"
      ]
     },
     "execution_count": 31,
     "metadata": {},
     "output_type": "execute_result"
    }
   ],
   "source": [
    "events.GenPart.fields"
   ]
  },
  {
   "cell_type": "code",
   "execution_count": 15,
   "id": "35338e3a-eeea-404b-851f-62d8900650a5",
   "metadata": {},
   "outputs": [
    {
     "data": {
      "text/plain": [
       "['originalXWGTUP', 'DJR10', 'DJR21', 'DJR32']"
      ]
     },
     "execution_count": 15,
     "metadata": {},
     "output_type": "execute_result"
    }
   ],
   "source": [
    "events.LHEWeight.fields"
   ]
  },
  {
   "cell_type": "code",
   "execution_count": 16,
   "id": "aae456cf-6a5e-402b-916b-a34f3d7a2753",
   "metadata": {},
   "outputs": [
    {
     "data": {
      "text/plain": [
       "<Array [216, 15.6, 10.2, 170] type='4 * float32[parameters={\"__doc__\": \"djr 1 --...'>"
      ]
     },
     "execution_count": 16,
     "metadata": {},
     "output_type": "execute_result"
    }
   ],
   "source": [
    "events.LHEWeight.DJR10"
   ]
  },
  {
   "cell_type": "code",
   "execution_count": 18,
   "id": "26f94b4a-9a2a-4038-8e2b-f8406420f1ce",
   "metadata": {},
   "outputs": [
    {
     "data": {
      "text/plain": [
       "<Array [130, 9, 9.25, 98.5] type='4 * float32[parameters={\"__doc__\": \"djr 2 --> ...'>"
      ]
     },
     "execution_count": 18,
     "metadata": {},
     "output_type": "execute_result"
    }
   ],
   "source": [
    "events.LHEWeight.DJR21"
   ]
  },
  {
   "cell_type": "code",
   "execution_count": 19,
   "id": "732440e9-b5a3-4a91-bccd-d4fd7637d143",
   "metadata": {},
   "outputs": [
    {
     "data": {
      "text/plain": [
       "<Array [14.4, 7.41, 6.36, 50] type='4 * float32[parameters={\"__doc__\": \"djr 3 --...'>"
      ]
     },
     "execution_count": 19,
     "metadata": {},
     "output_type": "execute_result"
    }
   ],
   "source": [
    "events.LHEWeight.DJR32"
   ]
  },
  {
   "cell_type": "code",
   "execution_count": null,
   "id": "6e9548ac-dc35-475d-a3d6-be0b027cb911",
   "metadata": {},
   "outputs": [],
   "source": []
  }
 ],
 "metadata": {
  "kernelspec": {
   "display_name": "ttbarEFT-env",
   "language": "python",
   "name": "ttbareft-env"
  },
  "language_info": {
   "codemirror_mode": {
    "name": "ipython",
    "version": 3
   },
   "file_extension": ".py",
   "mimetype": "text/x-python",
   "name": "python",
   "nbconvert_exporter": "python",
   "pygments_lexer": "ipython3",
   "version": "3.9.18"
  }
 },
 "nbformat": 4,
 "nbformat_minor": 5
}
