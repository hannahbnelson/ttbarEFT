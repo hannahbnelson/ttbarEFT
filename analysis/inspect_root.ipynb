{
 "cells": [
  {
   "cell_type": "code",
   "execution_count": 1,
   "id": "f4c85ae8-883c-4114-8fb4-b4580c3bf671",
   "metadata": {},
   "outputs": [],
   "source": [
    "import awkward as ak\n",
    "import numpy as np\n",
    "import matplotlib.pyplot as plt\n",
    "import mplhep as hep\n",
    "import hist\n",
    "from hist import Hist\n",
    "from coffea.nanoevents import NanoEventsFactory, NanoAODSchema\n",
    "NanoAODSchema.warn_missing_crossrefs = False\n",
    "\n",
    "from coffea.analysis_tools import PackedSelection\n",
    "from topcoffea.modules import utils\n",
    "import topcoffea.modules.eft_helper as efth"
   ]
  },
  {
   "cell_type": "code",
   "execution_count": 2,
   "id": "16467ad3-a2fe-48b1-a11f-c9eb69f37000",
   "metadata": {},
   "outputs": [],
   "source": [
    "# histogram style\n",
    "hep.style.use(\"CMS\")\n",
    "params = {'axes.labelsize': 20,\n",
    "          'axes.titlesize': 20,\n",
    "          'legend.fontsize':20}\n",
    "plt.rcParams.update(params)"
   ]
  },
  {
   "cell_type": "code",
   "execution_count": 3,
   "id": "c7ede932-3c9f-42e9-8aba-9fe979d0dd81",
   "metadata": {},
   "outputs": [],
   "source": [
    "fname = '/project01/ndcms/hnelson2/ttbarEFT/nanoGen/TT01j2l_S1/nanoGen_101.root'\n",
    "# fname = '/afs/crc.nd.edu/user/h/hnelson2/ttbarEFT/input_samples/nanoGen/djr_test_nanoGen.root'"
   ]
  },
  {
   "cell_type": "code",
   "execution_count": 4,
   "id": "08e4ce12-7373-4701-bdbd-be4a2f6177cd",
   "metadata": {},
   "outputs": [],
   "source": [
    "# Load in events from root file\n",
    "events = NanoEventsFactory.from_root(\n",
    "    fname,\n",
    "    schemaclass=NanoAODSchema.v6,\n",
    "    metadata={\"dataset\": \"TT01j2l\"},\n",
    ").events()"
   ]
  },
  {
   "cell_type": "code",
   "execution_count": 5,
   "id": "3e8d10b4-2eb9-4ebd-9e37-758be89decef",
   "metadata": {},
   "outputs": [
    {
     "name": "stdout",
     "output_type": "stream",
     "text": [
      "['cQd1', 'ctj1', 'cQj31', 'ctj8', 'ctd1', 'ctd8', 'ctGRe', 'ctGIm', 'cQj11', 'cQj18', 'ctu8', 'cQd8', 'ctu1', 'cQu1', 'cQj38', 'cQu8']\n"
     ]
    }
   ],
   "source": [
    "wc_lst = utils.get_list_of_wc_names(fname)\n",
    "print(wc_lst)"
   ]
  },
  {
   "cell_type": "code",
   "execution_count": 6,
   "id": "ced8315c-2541-44a5-9341-be1276c9df2e",
   "metadata": {},
   "outputs": [],
   "source": [
    "# Initialize objects\n",
    "genpart = events.GenPart\n",
    "is_final_mask = genpart.hasFlags([\"fromHardProcess\",\"isLastCopy\"])\n",
    "ele  = genpart[is_final_mask & (abs(genpart.pdgId) == 11)]\n",
    "mu   = genpart[is_final_mask & (abs(genpart.pdgId) == 13)]"
   ]
  },
  {
   "cell_type": "code",
   "execution_count": 7,
   "id": "320f4eff-56fe-4397-a664-454d9b9c0e05",
   "metadata": {},
   "outputs": [],
   "source": [
    "######## Lep selection  ########\n",
    "e_selec = ((ele.pt>20) & (abs(ele.eta)<2.5))\n",
    "m_selec = ((mu.pt>20) & (abs(mu.eta)<2.5))\n",
    "leps = ak.concatenate([ele[e_selec],mu[m_selec]],axis=1)\n",
    "l0 = leps[ak.argmax(leps.pt, axis=-1, keepdims=True)]"
   ]
  },
  {
   "cell_type": "code",
   "execution_count": 11,
   "id": "0f773736-c867-4a23-92f7-b82db960eee9",
   "metadata": {},
   "outputs": [],
   "source": [
    "leps = leps[ak.argsort(leps.pt, axis=-1, ascending=False)]"
   ]
  },
  {
   "cell_type": "code",
   "execution_count": 21,
   "id": "a9cd9b96-0384-41ae-8ed7-7999e2d5ebbe",
   "metadata": {},
   "outputs": [],
   "source": [
    "nleps = ak.num(leps)\n",
    "leps = leps[nleps==2]"
   ]
  },
  {
   "cell_type": "code",
   "execution_count": 28,
   "id": "38d5b059-cfab-4a54-8c23-fc26659558ae",
   "metadata": {},
   "outputs": [],
   "source": [
    "l0 = leps[ak.argmax(leps.pt, axis=-1, keepdims=True)]\n",
    "l0 = leps[:,0]\n",
    "l1 = leps[:,1]"
   ]
  },
  {
   "cell_type": "code",
   "execution_count": 29,
   "id": "37dbf813-39dc-452c-bb5d-c84400fa5c8c",
   "metadata": {},
   "outputs": [],
   "source": [
    "dr = l0.delta_r(l1)"
   ]
  },
  {
   "cell_type": "code",
   "execution_count": 30,
   "id": "f58dad18-05f5-48e5-a188-fdee9ccdafc2",
   "metadata": {},
   "outputs": [
    {
     "data": {
      "text/plain": [
       "<Array [2.81, 2, 2.85, ... 3.88, 3.36, 2.81] type='4754 * float32'>"
      ]
     },
     "execution_count": 30,
     "metadata": {},
     "output_type": "execute_result"
    }
   ],
   "source": [
    "dr"
   ]
  },
  {
   "cell_type": "code",
   "execution_count": null,
   "id": "fc1b14dc-5784-4bd8-91ff-11d9b29065b1",
   "metadata": {},
   "outputs": [],
   "source": [
    "events.LHE.fields"
   ]
  },
  {
   "cell_type": "code",
   "execution_count": null,
   "id": "74b3d95d-5fbc-487a-9b9d-d60701174cd4",
   "metadata": {},
   "outputs": [],
   "source": [
    "events.LHE.HTIncoming"
   ]
  },
  {
   "cell_type": "code",
   "execution_count": null,
   "id": "673eaab1-5d2f-45f1-83fb-efc11c099941",
   "metadata": {},
   "outputs": [],
   "source": [
    "events.GenJet.fields"
   ]
  },
  {
   "cell_type": "code",
   "execution_count": null,
   "id": "9c2789a5-a072-44d4-98eb-0810feaa66c0",
   "metadata": {},
   "outputs": [],
   "source": [
    "events.LHEPart.fields"
   ]
  },
  {
   "cell_type": "code",
   "execution_count": null,
   "id": "6e4700fc-076f-44d9-8d88-037f62eb5256",
   "metadata": {},
   "outputs": [],
   "source": [
    "events.GenPart.fields"
   ]
  },
  {
   "cell_type": "code",
   "execution_count": null,
   "id": "35338e3a-eeea-404b-851f-62d8900650a5",
   "metadata": {},
   "outputs": [],
   "source": [
    "events.LHEWeight.fields"
   ]
  },
  {
   "cell_type": "code",
   "execution_count": null,
   "id": "aae456cf-6a5e-402b-916b-a34f3d7a2753",
   "metadata": {},
   "outputs": [],
   "source": [
    "events.LHEWeight.DJR10"
   ]
  },
  {
   "cell_type": "code",
   "execution_count": null,
   "id": "26f94b4a-9a2a-4038-8e2b-f8406420f1ce",
   "metadata": {},
   "outputs": [],
   "source": [
    "events.LHEWeight.DJR21"
   ]
  },
  {
   "cell_type": "code",
   "execution_count": null,
   "id": "732440e9-b5a3-4a91-bccd-d4fd7637d143",
   "metadata": {},
   "outputs": [],
   "source": [
    "events.LHEWeight.DJR32"
   ]
  },
  {
   "cell_type": "code",
   "execution_count": null,
   "id": "6e9548ac-dc35-475d-a3d6-be0b027cb911",
   "metadata": {},
   "outputs": [],
   "source": []
  }
 ],
 "metadata": {
  "kernelspec": {
   "display_name": "ttbarEFT-env",
   "language": "python",
   "name": "ttbareft-env"
  },
  "language_info": {
   "codemirror_mode": {
    "name": "ipython",
    "version": 3
   },
   "file_extension": ".py",
   "mimetype": "text/x-python",
   "name": "python",
   "nbconvert_exporter": "python",
   "pygments_lexer": "ipython3",
   "version": "3.9.18"
  }
 },
 "nbformat": 4,
 "nbformat_minor": 5
}
