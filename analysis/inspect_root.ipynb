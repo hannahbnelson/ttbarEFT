{
 "cells": [
  {
   "cell_type": "code",
   "execution_count": 1,
   "id": "f4c85ae8-883c-4114-8fb4-b4580c3bf671",
   "metadata": {},
   "outputs": [],
   "source": [
    "import awkward as ak\n",
    "import numpy as np\n",
    "import matplotlib.pyplot as plt\n",
    "import mplhep as hep\n",
    "import hist\n",
    "from hist import Hist\n",
    "from coffea.nanoevents import NanoEventsFactory, NanoAODSchema\n",
    "NanoAODSchema.warn_missing_crossrefs = False\n",
    "\n",
    "from coffea.analysis_tools import PackedSelection\n",
    "from topcoffea.modules import utils\n",
    "import topcoffea.modules.eft_helper as efth"
   ]
  },
  {
   "cell_type": "code",
   "execution_count": 2,
   "id": "16467ad3-a2fe-48b1-a11f-c9eb69f37000",
   "metadata": {},
   "outputs": [],
   "source": [
    "# histogram style\n",
    "hep.style.use(\"CMS\")\n",
    "params = {'axes.labelsize': 20,\n",
    "          'axes.titlesize': 20,\n",
    "          'legend.fontsize':20}\n",
    "plt.rcParams.update(params)"
   ]
  },
  {
   "cell_type": "code",
   "execution_count": 4,
   "id": "c7ede932-3c9f-42e9-8aba-9fe979d0dd81",
   "metadata": {},
   "outputs": [],
   "source": [
    "fname = '/project01/ndcms/hnelson2/ttbarEFT/nanoGen/TT01j2l_S1/nanoGen_101.root'"
   ]
  },
  {
   "cell_type": "code",
   "execution_count": 5,
   "id": "08e4ce12-7373-4701-bdbd-be4a2f6177cd",
   "metadata": {},
   "outputs": [],
   "source": [
    "# Load in events from root file\n",
    "events = NanoEventsFactory.from_root(\n",
    "    fname,\n",
    "    schemaclass=NanoAODSchema.v6,\n",
    "    metadata={\"dataset\": \"TT01j2l\"},\n",
    ").events()"
   ]
  },
  {
   "cell_type": "code",
   "execution_count": 7,
   "id": "3e8d10b4-2eb9-4ebd-9e37-758be89decef",
   "metadata": {},
   "outputs": [
    {
     "name": "stdout",
     "output_type": "stream",
     "text": [
      "['cQd1', 'ctj1', 'cQj31', 'ctj8', 'ctd1', 'ctd8', 'ctGRe', 'ctGIm', 'cQj11', 'cQj18', 'ctu8', 'cQd8', 'ctu1', 'cQu1', 'cQj38', 'cQu8']\n"
     ]
    }
   ],
   "source": [
    "wc_lst = utils.get_list_of_wc_names(fname)\n",
    "print(wc_lst)"
   ]
  },
  {
   "cell_type": "code",
   "execution_count": 8,
   "id": "fc1b14dc-5784-4bd8-91ff-11d9b29065b1",
   "metadata": {},
   "outputs": [
    {
     "data": {
      "text/plain": [
       "['MET',\n",
       " 'GenIsolatedPhoton',\n",
       " 'LHEScaleWeight',\n",
       " 'LHEPart',\n",
       " 'luminosityBlock',\n",
       " 'GenJetAK8',\n",
       " 'GenVisTau',\n",
       " 'LHE',\n",
       " 'GenDressedLepton',\n",
       " 'GenVtx',\n",
       " 'GenJet',\n",
       " 'genWeight',\n",
       " 'run',\n",
       " 'EFTfitCoefficients',\n",
       " 'GenMET',\n",
       " 'Generator',\n",
       " 'PSWeight',\n",
       " 'LHEWeight',\n",
       " 'event',\n",
       " 'WCnames',\n",
       " 'LHEPdfWeight',\n",
       " 'LHEReweightingWeight',\n",
       " 'GenPart']"
      ]
     },
     "execution_count": 8,
     "metadata": {},
     "output_type": "execute_result"
    }
   ],
   "source": [
    "events.fields"
   ]
  },
  {
   "cell_type": "code",
   "execution_count": 9,
   "id": "673eaab1-5d2f-45f1-83fb-efc11c099941",
   "metadata": {},
   "outputs": [
    {
     "data": {
      "text/plain": [
       "['eta', 'mass', 'phi', 'pt', 'partonFlavour', 'hadronFlavour']"
      ]
     },
     "execution_count": 9,
     "metadata": {},
     "output_type": "execute_result"
    }
   ],
   "source": [
    "events.GenJet.fields"
   ]
  },
  {
   "cell_type": "code",
   "execution_count": 32,
   "id": "9c2789a5-a072-44d4-98eb-0810feaa66c0",
   "metadata": {},
   "outputs": [
    {
     "data": {
      "text/plain": [
       "['pt', 'eta', 'phi', 'mass', 'incomingpz', 'pdgId', 'status', 'spin']"
      ]
     },
     "execution_count": 32,
     "metadata": {},
     "output_type": "execute_result"
    }
   ],
   "source": [
    "events.LHEPart.fields"
   ]
  },
  {
   "cell_type": "code",
   "execution_count": 31,
   "id": "6e4700fc-076f-44d9-8d88-037f62eb5256",
   "metadata": {},
   "outputs": [
    {
     "data": {
      "text/plain": [
       "['eta',\n",
       " 'mass',\n",
       " 'phi',\n",
       " 'pt',\n",
       " 'genPartIdxMother',\n",
       " 'pdgId',\n",
       " 'status',\n",
       " 'statusFlags',\n",
       " 'genPartIdxMotherG',\n",
       " 'distinctParentIdxG',\n",
       " 'childrenIdxG',\n",
       " 'distinctChildrenIdxG',\n",
       " 'distinctChildrenDeepIdxG']"
      ]
     },
     "execution_count": 31,
     "metadata": {},
     "output_type": "execute_result"
    }
   ],
   "source": [
    "events.GenPart.fields"
   ]
  },
  {
   "cell_type": "code",
   "execution_count": null,
   "id": "35338e3a-eeea-404b-851f-62d8900650a5",
   "metadata": {},
   "outputs": [],
   "source": []
  }
 ],
 "metadata": {
  "kernelspec": {
   "display_name": "ttbarEFT-env",
   "language": "python",
   "name": "ttbareft-env"
  },
  "language_info": {
   "codemirror_mode": {
    "name": "ipython",
    "version": 3
   },
   "file_extension": ".py",
   "mimetype": "text/x-python",
   "name": "python",
   "nbconvert_exporter": "python",
   "pygments_lexer": "ipython3",
   "version": "3.9.18"
  }
 },
 "nbformat": 4,
 "nbformat_minor": 5
}
