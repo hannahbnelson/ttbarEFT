{
 "cells": [
  {
   "cell_type": "code",
   "execution_count": 1,
   "id": "f4c85ae8-883c-4114-8fb4-b4580c3bf671",
   "metadata": {},
   "outputs": [],
   "source": [
    "import awkward as ak\n",
    "import numpy as np\n",
    "import matplotlib.pyplot as plt\n",
    "import mplhep as hep\n",
    "import hist\n",
    "# from hist import Hist\n",
    "from coffea.nanoevents import NanoEventsFactory, NanoAODSchema\n",
    "import hist\n",
    "from topcoffea.modules.histEFT import HistEFT\n",
    "NanoAODSchema.warn_missing_crossrefs = False\n",
    "\n",
    "from coffea.analysis_tools import PackedSelection\n",
    "from topcoffea.modules import utils\n",
    "import topcoffea.modules.eft_helper as efth"
   ]
  },
  {
   "cell_type": "code",
   "execution_count": 2,
   "id": "16467ad3-a2fe-48b1-a11f-c9eb69f37000",
   "metadata": {},
   "outputs": [],
   "source": [
    "# histogram style\n",
    "hep.style.use(\"CMS\")\n",
    "params = {'axes.labelsize': 20,\n",
    "          'axes.titlesize': 20,\n",
    "          'legend.fontsize':20}\n",
    "plt.rcParams.update(params)"
   ]
  },
  {
   "cell_type": "code",
   "execution_count": 3,
   "id": "efcb4b22-ed31-4e2b-8425-2edc7cdde717",
   "metadata": {},
   "outputs": [],
   "source": [
    "fname = \"/cms/cephfs/data/store/user/hnelson2/mc/RunIISummer16NanoAODv6/ST_tW_antitop_5f_NoFullyHadronicDecays_TuneCP5_PSweights_13TeV-powheg-pythia8/15F67CF8-4FA2-424C-ADA6-4A1065BDBB1D.root\""
   ]
  },
  {
   "cell_type": "code",
   "execution_count": 4,
   "id": "e4459cba-4f44-429f-b0f2-0280b200cea6",
   "metadata": {},
   "outputs": [],
   "source": [
    "# Load in events from root file\n",
    "events = NanoEventsFactory.from_root(\n",
    "    fname,\n",
    "    schemaclass=NanoAODSchema.v6,\n",
    "    metadata={\"dataset\": \"TLNuto2L2Nu\"},\n",
    ").events()"
   ]
  },
  {
   "cell_type": "code",
   "execution_count": 6,
   "id": "33dff66f-2569-4ccc-a4e0-5293fa3ad724",
   "metadata": {},
   "outputs": [
    {
     "data": {
      "text/plain": [
       "<Array [35.1, 35.1, 35.1, ... 35.1, 35.1, 35.1] type='781534 * float32[parameter...'>"
      ]
     },
     "execution_count": 6,
     "metadata": {},
     "output_type": "execute_result"
    }
   ],
   "source": [
    "events.genWeight"
   ]
  },
  {
   "cell_type": "code",
   "execution_count": 3,
   "id": "c7ede932-3c9f-42e9-8aba-9fe979d0dd81",
   "metadata": {},
   "outputs": [],
   "source": [
    "# fname = '/project01/ndcms/hnelson2/ttbarEFT/nanoGen/TT01j2l_S1/nanoGen_101.root'\n",
    "# fname = '/afs/crc.nd.edu/user/h/hnelson2/ttbarEFT/input_samples/nanoGen/djr_test_nanoGen.root'\n",
    "# fname = '/cms/cephfs/data/store/user/hnelson2/tW_EFT/nanoGen/test_v2/NanoGen_tW_OGstpt/nanoGen_101.root'\n",
    "\n",
    "# fname = '/cms/cephfs/data/store/user/hnelson2/tW_EFT/nanoGen/test_v4/NanoGen_tW_test/nanoGen_3.root'\n",
    "# fname = '/cms/cephfs/data/store/user/hnelson2/tW_EFT/nanoGen/test_v5/NanoGen_tW_OGstpt/nanoGen_11.root'\n",
    "# fname = '/cms/cephfs/data/store/user/hnelson2/mc/test/Jan24/NanoGen_TT01j2l_alt_stpt/nanoGen_1.root'\n",
    "# fname = \"/cms/cephfs/data/store/user/hnelson2/noEFT/nanoGen/tW/NanoGen_tW_noEFT/nanoGen_101.root\"\n",
    "\n",
    "fname = '/cms/cephfs/data/store/user/hnelson2/tW_EFT/nanoGen/fixed_rwgts/NanoGen_tW_OGstpt/nanoGen_365.root'"
   ]
  },
  {
   "cell_type": "code",
   "execution_count": 4,
   "id": "08e4ce12-7373-4701-bdbd-be4a2f6177cd",
   "metadata": {},
   "outputs": [],
   "source": [
    "# Load in events from root file\n",
    "events = NanoEventsFactory.from_root(\n",
    "    fname,\n",
    "    schemaclass=NanoAODSchema.v6,\n",
    "    metadata={\"dataset\": \"TLNuto2L2Nu\"},\n",
    ").events()"
   ]
  },
  {
   "cell_type": "code",
   "execution_count": 17,
   "id": "4b318000-8ac7-4fbd-9a1a-efda725378aa",
   "metadata": {},
   "outputs": [
    {
     "name": "stdout",
     "output_type": "stream",
     "text": [
      "['cHtbRe', 'ctGRe', 'ctGIm', 'cHQ3', 'cbWRe', 'cQl3', 'cleQt3Re', 'ctWRe', 'cleQt1Re']\n"
     ]
    }
   ],
   "source": [
    "wc_lst = utils.get_list_of_wc_names(fname)\n",
    "print(wc_lst)"
   ]
  },
  {
   "cell_type": "code",
   "execution_count": 5,
   "id": "91bc70e4-7482-4820-816d-c97f87fe5b7c",
   "metadata": {},
   "outputs": [
    {
     "name": "stdout",
     "output_type": "stream",
     "text": [
      "16000\n"
     ]
    }
   ],
   "source": [
    "print(len(events))"
   ]
  },
  {
   "cell_type": "code",
   "execution_count": 6,
   "id": "e26d122f-9a45-4cb9-9cb2-e055d07476ff",
   "metadata": {},
   "outputs": [
    {
     "name": "stdout",
     "output_type": "stream",
     "text": [
      "[1, 1, 1, 1, 1, 1, 1, 1, 1, 1, 1, 1, 1, 1, ... 1, 1, 1, 1, 1, 1, 1, 1, 1, 1, 1, 1, 1]\n"
     ]
    }
   ],
   "source": [
    "print(events[\"genWeight\"])"
   ]
  },
  {
   "cell_type": "code",
   "execution_count": 7,
   "id": "7763ddc1-9ad7-4479-a387-3cf9efb573ad",
   "metadata": {},
   "outputs": [],
   "source": [
    "eft_coeffs = events['EFTfitCoefficients']"
   ]
  },
  {
   "cell_type": "code",
   "execution_count": 31,
   "id": "fae8389e-f63e-4d55-afbb-c37eff709314",
   "metadata": {},
   "outputs": [
    {
     "name": "stdout",
     "output_type": "stream",
     "text": [
      "1.0578204978628492e-12\n"
     ]
    }
   ],
   "source": []
  },
  {
   "cell_type": "code",
   "execution_count": 16,
   "id": "13f029f0-9e16-4629-a2a2-557a27e65e1c",
   "metadata": {},
   "outputs": [
    {
     "name": "stdout",
     "output_type": "stream",
     "text": [
      "55\n"
     ]
    }
   ],
   "source": [
    "print(len(eft_coeffs[0]))"
   ]
  },
  {
   "cell_type": "code",
   "execution_count": 9,
   "id": "cae79c11-51e5-4c1b-b686-b427e22f21fa",
   "metadata": {},
   "outputs": [
    {
     "name": "stdout",
     "output_type": "stream",
     "text": [
      "[0.00611, 4.86e-14, 1.72e-13, -0.000221, ... -8.25e-14, 2.95e-15, 1.9e-13, -9.43e-15]\n"
     ]
    }
   ],
   "source": [
    "print(eft_coeffs[1])"
   ]
  },
  {
   "cell_type": "code",
   "execution_count": 10,
   "id": "558e06f7-a500-44a3-a78a-84e60f0a5509",
   "metadata": {},
   "outputs": [
    {
     "name": "stdout",
     "output_type": "stream",
     "text": [
      "[0.00601, 8.22e-13, 2.89e-13, -0.000126, ... -1.36e-14, -6.28e-14, -3.11e-15]\n"
     ]
    }
   ],
   "source": [
    "print(eft_coeffs[2])"
   ]
  },
  {
   "cell_type": "code",
   "execution_count": 11,
   "id": "ced8315c-2541-44a5-9341-be1276c9df2e",
   "metadata": {},
   "outputs": [],
   "source": [
    "# Initialize objects\n",
    "genpart = events.GenPart\n",
    "is_final_mask = genpart.hasFlags([\"fromHardProcess\",\"isLastCopy\"])\n",
    "ele  = genpart[is_final_mask & (abs(genpart.pdgId) == 11)]\n",
    "mu   = genpart[is_final_mask & (abs(genpart.pdgId) == 13)]"
   ]
  },
  {
   "cell_type": "code",
   "execution_count": 12,
   "id": "320f4eff-56fe-4397-a664-454d9b9c0e05",
   "metadata": {},
   "outputs": [],
   "source": [
    "######## Lep selection  ########\n",
    "e_selec = ((ele.pt>20) & (abs(ele.eta)<2.5))\n",
    "m_selec = ((mu.pt>20) & (abs(mu.eta)<2.5))\n",
    "leps = ak.concatenate([ele[e_selec],mu[m_selec]],axis=1)\n",
    "l0 = leps[ak.argmax(leps.pt, axis=-1, keepdims=True)]"
   ]
  },
  {
   "cell_type": "code",
   "execution_count": 13,
   "id": "0f773736-c867-4a23-92f7-b82db960eee9",
   "metadata": {},
   "outputs": [],
   "source": [
    "leps = leps[ak.argsort(leps.pt, axis=-1, ascending=False)]"
   ]
  },
  {
   "cell_type": "code",
   "execution_count": 14,
   "id": "a9cd9b96-0384-41ae-8ed7-7999e2d5ebbe",
   "metadata": {},
   "outputs": [],
   "source": [
    "nleps = ak.num(leps)\n",
    "# leps = leps[nleps==2]"
   ]
  },
  {
   "cell_type": "code",
   "execution_count": 18,
   "id": "0fd57c0f-f3a2-4762-93cd-33aee8d36330",
   "metadata": {},
   "outputs": [],
   "source": [
    "proc_axis = hist.axis.StrCategory([], name=\"process\", growth=True)\n",
    "nleps_hist = HistEFT(proc_axis, hist.axis.Regular(bins=10, start=0, stop=10, name=\"nleps\", label=\"nleps\"), wc_names=wc_lst, label=\"Events\")\n",
    "event_weights = np.ones_like(events['event'])"
   ]
  },
  {
   "cell_type": "code",
   "execution_count": 19,
   "id": "b20b5190-e72e-4d55-aeb9-909d480c1d1a",
   "metadata": {},
   "outputs": [
    {
     "name": "stdout",
     "output_type": "stream",
     "text": [
      "<class 'topcoffea.modules.histEFT.HistEFT'>\n"
     ]
    }
   ],
   "source": [
    "print(type(nleps_hist))"
   ]
  },
  {
   "cell_type": "code",
   "execution_count": 22,
   "id": "1313721e-1be9-42c3-b8e5-2382c489623a",
   "metadata": {},
   "outputs": [
    {
     "name": "stdout",
     "output_type": "stream",
     "text": [
      "16000\n"
     ]
    }
   ],
   "source": [
    "print(len(eft_coeffs))"
   ]
  },
  {
   "cell_type": "code",
   "execution_count": 24,
   "id": "1ae2979d-6442-4a70-b3b6-03c7a9802609",
   "metadata": {},
   "outputs": [
    {
     "ename": "TypeError",
     "evalue": "fill() got multiple values for argument 'eft_coeff'",
     "output_type": "error",
     "traceback": [
      "\u001b[0;31m---------------------------------------------------------------------------\u001b[0m",
      "\u001b[0;31mTypeError\u001b[0m                                 Traceback (most recent call last)",
      "Cell \u001b[0;32mIn[24], line 1\u001b[0m\n\u001b[0;32m----> 1\u001b[0m \u001b[43mnleps_hist\u001b[49m\u001b[38;5;241;43m.\u001b[39;49m\u001b[43mfill\u001b[49m\u001b[43m(\u001b[49m\u001b[43mnleps\u001b[49m\u001b[43m,\u001b[49m\u001b[43m \u001b[49m\u001b[43mprocess\u001b[49m\u001b[38;5;241;43m=\u001b[39;49m\u001b[38;5;124;43m\"\u001b[39;49m\u001b[38;5;124;43mtW\u001b[39;49m\u001b[38;5;124;43m\"\u001b[39;49m\u001b[43m,\u001b[49m\u001b[43m \u001b[49m\u001b[43mweight\u001b[49m\u001b[38;5;241;43m=\u001b[39;49m\u001b[43mevent_weights\u001b[49m\u001b[43m,\u001b[49m\u001b[43m \u001b[49m\u001b[43meft_coeff\u001b[49m\u001b[38;5;241;43m=\u001b[39;49m\u001b[43meft_coeffs\u001b[49m\u001b[43m)\u001b[49m\n",
      "\u001b[0;31mTypeError\u001b[0m: fill() got multiple values for argument 'eft_coeff'"
     ]
    }
   ],
   "source": [
    "nleps_hist.fill(nleps, process=\"tW\", weight=event_weights, eft_coeff=eft_coeffs)"
   ]
  },
  {
   "cell_type": "code",
   "execution_count": 28,
   "id": "38d5b059-cfab-4a54-8c23-fc26659558ae",
   "metadata": {},
   "outputs": [],
   "source": [
    "l0 = leps[ak.argmax(leps.pt, axis=-1, keepdims=True)]\n",
    "l0 = leps[:,0]\n",
    "l1 = leps[:,1]"
   ]
  },
  {
   "cell_type": "code",
   "execution_count": 29,
   "id": "37dbf813-39dc-452c-bb5d-c84400fa5c8c",
   "metadata": {},
   "outputs": [],
   "source": [
    "dr = l0.delta_r(l1)"
   ]
  },
  {
   "cell_type": "code",
   "execution_count": 30,
   "id": "f58dad18-05f5-48e5-a188-fdee9ccdafc2",
   "metadata": {},
   "outputs": [
    {
     "data": {
      "text/plain": [
       "<Array [2.81, 2, 2.85, ... 3.88, 3.36, 2.81] type='4754 * float32'>"
      ]
     },
     "execution_count": 30,
     "metadata": {},
     "output_type": "execute_result"
    }
   ],
   "source": [
    "dr"
   ]
  },
  {
   "cell_type": "code",
   "execution_count": null,
   "id": "fc1b14dc-5784-4bd8-91ff-11d9b29065b1",
   "metadata": {},
   "outputs": [],
   "source": [
    "events.LHE.fields"
   ]
  },
  {
   "cell_type": "code",
   "execution_count": null,
   "id": "74b3d95d-5fbc-487a-9b9d-d60701174cd4",
   "metadata": {},
   "outputs": [],
   "source": [
    "events.LHE.HTIncoming"
   ]
  },
  {
   "cell_type": "code",
   "execution_count": null,
   "id": "673eaab1-5d2f-45f1-83fb-efc11c099941",
   "metadata": {},
   "outputs": [],
   "source": [
    "events.GenJet.fields"
   ]
  },
  {
   "cell_type": "code",
   "execution_count": null,
   "id": "9c2789a5-a072-44d4-98eb-0810feaa66c0",
   "metadata": {},
   "outputs": [],
   "source": [
    "events.LHEPart.fields"
   ]
  },
  {
   "cell_type": "code",
   "execution_count": null,
   "id": "6e4700fc-076f-44d9-8d88-037f62eb5256",
   "metadata": {},
   "outputs": [],
   "source": [
    "events.GenPart.fields"
   ]
  },
  {
   "cell_type": "code",
   "execution_count": null,
   "id": "35338e3a-eeea-404b-851f-62d8900650a5",
   "metadata": {},
   "outputs": [],
   "source": [
    "events.LHEWeight.fields"
   ]
  },
  {
   "cell_type": "code",
   "execution_count": null,
   "id": "aae456cf-6a5e-402b-916b-a34f3d7a2753",
   "metadata": {},
   "outputs": [],
   "source": [
    "events.LHEWeight.DJR10"
   ]
  },
  {
   "cell_type": "code",
   "execution_count": null,
   "id": "26f94b4a-9a2a-4038-8e2b-f8406420f1ce",
   "metadata": {},
   "outputs": [],
   "source": [
    "events.LHEWeight.DJR21"
   ]
  },
  {
   "cell_type": "code",
   "execution_count": null,
   "id": "732440e9-b5a3-4a91-bccd-d4fd7637d143",
   "metadata": {},
   "outputs": [],
   "source": [
    "events.LHEWeight.DJR32"
   ]
  },
  {
   "cell_type": "code",
   "execution_count": null,
   "id": "6e9548ac-dc35-475d-a3d6-be0b027cb911",
   "metadata": {},
   "outputs": [],
   "source": []
  }
 ],
 "metadata": {
  "kernelspec": {
   "display_name": "ttbarEFT-env",
   "language": "python",
   "name": "ttbareft-env"
  },
  "language_info": {
   "codemirror_mode": {
    "name": "ipython",
    "version": 3
   },
   "file_extension": ".py",
   "mimetype": "text/x-python",
   "name": "python",
   "nbconvert_exporter": "python",
   "pygments_lexer": "ipython3",
   "version": "3.9.18"
  }
 },
 "nbformat": 4,
 "nbformat_minor": 5
}
