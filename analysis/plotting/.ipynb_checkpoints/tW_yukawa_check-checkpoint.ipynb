{
 "cells": [
  {
   "cell_type": "code",
   "execution_count": 4,
   "id": "3634995a-d72c-453e-bca2-2e015dfa9814",
   "metadata": {},
   "outputs": [],
   "source": [
    "import numpy as np\n",
    "import awkward as ak\n",
    "import uproot\n",
    "\n",
    "import hist\n",
    "from topcoffea.modules.histEFT import HistEFT\n",
    "import topcoffea.modules.utils as utils\n",
    "\n",
    "import mplhep as hep\n",
    "import matplotlib.pyplot as plt\n",
    "import os\n",
    "\n",
    "import plotting_tools_histEFT as plotTools"
   ]
  },
  {
   "cell_type": "code",
   "execution_count": 3,
   "id": "84b248e1-ad9f-4268-bb12-bfe2a96b5f79",
   "metadata": {},
   "outputs": [],
   "source": [
    "hep.style.use(\"CMS\")\n",
    "params = {'axes.labelsize': 20,\n",
    "          'axes.titlesize': 20,\n",
    "          'legend.fontsize':20, \n",
    "          'lines.markersize':5}\n",
    "plt.rcParams.update(params)"
   ]
  },
  {
   "cell_type": "code",
   "execution_count": null,
   "id": "8b8876c4-66f2-46d8-ab8e-9862c9294143",
   "metadata": {},
   "outputs": [],
   "source": [
    "old_MG = plotTools.read_MGstandalone_txt(\"/afs/crc.nd.edu/user/h/hnelson2/mc_production/standAloneMG/tW_new_MGxsec.txt\")\n",
    "new_MG = plotTools.read_MGstandalone_txt(\"/afs/crc.nd.edu/user/h/hnelson2/mc_production/standAloneMG/tW_yukawa.txt\")"
   ]
  },
  {
   "cell_type": "code",
   "execution_count": 5,
   "id": "a933712b-ef4e-41be-8f8f-04c78bbe59fc",
   "metadata": {},
   "outputs": [],
   "source": [
    "def make_scatter_list_oneWC(scatter_dict, norm, norm_uncert):\n",
    "\t'''\n",
    "\tscatter_dict must be a single entry dictionary, with only the information for a single WC\n",
    "\t'''\n",
    "\tscatter_xvals = scatter_dict[0]\n",
    "\tscatter_yvals = np.divide(np.array(scatter_dict[1]), norm)\n",
    "\tscatter_sigma = np.array(scatter_dict[2])\n",
    "\tsigma_y = np.multiply(scatter_yvals, (np.sqrt(np.add(np.square(np.divide(scatter_sigma, scatter_dict[1])),np.square(np.divide(norm_uncert, norm))))))\n",
    "\n",
    "\treturn [scatter_xvals, scatter_yvals, sigma_y]"
   ]
  },
  {
   "cell_type": "code",
   "execution_count": 6,
   "id": "c3f045ab-ff33-46d1-b2e4-ebab38fe2de9",
   "metadata": {},
   "outputs": [],
   "source": [
    "wcs = ['cleQt1Re', 'ccleQt3Re', 'cQl3']"
   ]
  },
  {
   "cell_type": "code",
   "execution_count": null,
   "id": "63a74a5f-26b6-4827-9dca-f4e69e97bf26",
   "metadata": {},
   "outputs": [],
   "source": [
    "outpath = \"/afs/crc.nd.edu/user/h/hnelson2/www/tW_plots/yukawa_checks\"\n",
    "for wc in wcs: \n",
    "    old_dict = make_scatter_list_oneWC(old_MG[wc], <SM xsec>, <SM sigma>)\n",
    "    new_dict = make_scatter_list_oneWC(new_MG[wc], <SM xsec>, <SM sigma>)\n",
    "\n",
    "    fig, ax = plt.subplots()\n",
    "    \n",
    "    ax.scatter(old_dict[0], old_dict[1], label = \"old\")\n",
    "    x.errorbar(old_dict[0], old_dict[1], yerr = old_dict[2], xerr = None, capsize=5, ls='none')\n",
    "    \n",
    "    ax.scatter(new_dict[0], new_dict[1], label = \"new\")\n",
    "    x.errorbar(new_dict[0], new_dict[1], yerr = new_dict[2], xerr = None, capsize=5, ls='none')\n",
    "\n",
    "    ax.legend(loc='best', fontsize='medium') #bbox_to_anchor=(1.02, 0.5),\n",
    "    ax.set_xlabel(wc, fontsize = 'large')\n",
    "    ax.set_ylabel(r\"$\\sigma_{SMEFT} /\\ \\sigma_{SM}$\", fontsize='large')\n",
    "\n",
    "    fig.show()\n",
    "\n",
    "    # figname = f\"quad1d_{wc}.png\"\n",
    "    # savedir = os.path.join(outpath,figname)\n",
    "    # fig.savefig(savedir) #bbox_inches='tight'\n",
    "    # print(f\"saving plot to {savedir}\")\n",
    "    # plt.close(fig)"
   ]
  }
 ],
 "metadata": {
  "kernelspec": {
   "display_name": "ttbarEFT",
   "language": "python",
   "name": "ttbareft"
  },
  "language_info": {
   "codemirror_mode": {
    "name": "ipython",
    "version": 3
   },
   "file_extension": ".py",
   "mimetype": "text/x-python",
   "name": "python",
   "nbconvert_exporter": "python",
   "pygments_lexer": "ipython3",
   "version": "3.9.19"
  }
 },
 "nbformat": 4,
 "nbformat_minor": 5
}
