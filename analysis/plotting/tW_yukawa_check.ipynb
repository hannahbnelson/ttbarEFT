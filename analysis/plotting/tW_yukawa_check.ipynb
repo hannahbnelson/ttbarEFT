{
 "cells": [
  {
   "cell_type": "code",
   "execution_count": 1,
   "id": "3634995a-d72c-453e-bca2-2e015dfa9814",
   "metadata": {},
   "outputs": [],
   "source": [
    "import numpy as np\n",
    "import awkward as ak\n",
    "import uproot\n",
    "\n",
    "import hist\n",
    "from topcoffea.modules.histEFT import HistEFT\n",
    "import topcoffea.modules.utils as utils\n",
    "\n",
    "import mplhep as hep\n",
    "import matplotlib.pyplot as plt\n",
    "import os\n",
    "\n",
    "import plotting_tools_histEFT as plotTools"
   ]
  },
  {
   "cell_type": "code",
   "execution_count": 2,
   "id": "84b248e1-ad9f-4268-bb12-bfe2a96b5f79",
   "metadata": {},
   "outputs": [],
   "source": [
    "hep.style.use(\"CMS\")\n",
    "params = {'axes.labelsize': 20,\n",
    "          'axes.titlesize': 20,\n",
    "          'legend.fontsize':20, \n",
    "          'lines.markersize':5}\n",
    "plt.rcParams.update(params)"
   ]
  },
  {
   "cell_type": "code",
   "execution_count": 7,
   "id": "8b8876c4-66f2-46d8-ab8e-9862c9294143",
   "metadata": {},
   "outputs": [],
   "source": [
    "# the comments at the end of the line are the SM cross sections\n",
    "# the SM xsec have to be removed from the file before running read_MGstandalone_txt because they are a different format\n",
    "# the SM xsec is still stored inside the MG standalone log\n",
    "old_MG = plotTools.read_MGstandalone_txt(\"/afs/crc.nd.edu/user/h/hnelson2/mc_production/standAloneMG/tW_new_MGxsec.txt\") #5.63+-0.01903\n",
    "massless_MG = plotTools.read_MGstandalone_txt(\"/afs/crc.nd.edu/user/h/hnelson2/mc_production/standAloneMG/tW_massless.txt\") #5.455+-0.01643\n",
    "new_MG = plotTools.read_MGstandalone_txt(\"/afs/crc.nd.edu/user/h/hnelson2/mc_production/standAloneMG/tW_yukawa.txt\") #5.447+-0.01614"
   ]
  },
  {
   "cell_type": "code",
   "execution_count": 8,
   "id": "a933712b-ef4e-41be-8f8f-04c78bbe59fc",
   "metadata": {},
   "outputs": [],
   "source": [
    "def make_scatter_list_oneWC(scatter_dict, norm, norm_uncert):\n",
    "\t'''\n",
    "\tscatter_dict must be a single entry dictionary, with only the information for a single WC\n",
    "\t'''\n",
    "\tscatter_xvals = scatter_dict[0]\n",
    "\tscatter_yvals = np.divide(np.array(scatter_dict[1]), norm)\n",
    "\tscatter_sigma = np.array(scatter_dict[2])\n",
    "\tsigma_y = np.multiply(scatter_yvals, (np.sqrt(np.add(np.square(np.divide(scatter_sigma, scatter_dict[1])),np.square(np.divide(norm_uncert, norm))))))\n",
    "\n",
    "\treturn [scatter_xvals, scatter_yvals, sigma_y]"
   ]
  },
  {
   "cell_type": "code",
   "execution_count": 9,
   "id": "c3f045ab-ff33-46d1-b2e4-ebab38fe2de9",
   "metadata": {},
   "outputs": [],
   "source": [
    "wcs = ['cleQt1Re', 'cleQt3Re', 'cQl3']"
   ]
  },
  {
   "cell_type": "code",
   "execution_count": 11,
   "id": "63a74a5f-26b6-4827-9dca-f4e69e97bf26",
   "metadata": {},
   "outputs": [
    {
     "name": "stderr",
     "output_type": "stream",
     "text": [
      "/tmp/ipykernel_1340430/345779587.py:18: UserWarning: FigureCanvasAgg is non-interactive, and thus cannot be shown\n",
      "  fig.show()\n"
     ]
    },
    {
     "name": "stdout",
     "output_type": "stream",
     "text": [
      "saving plot to /afs/crc.nd.edu/user/h/hnelson2/www/tW_plots/yukawa_checks/quad1d_cleQt1Re.png\n",
      "saving plot to /afs/crc.nd.edu/user/h/hnelson2/www/tW_plots/yukawa_checks/quad1d_cleQt3Re.png\n",
      "saving plot to /afs/crc.nd.edu/user/h/hnelson2/www/tW_plots/yukawa_checks/quad1d_cQl3.png\n"
     ]
    }
   ],
   "source": [
    "outpath = \"/afs/crc.nd.edu/user/h/hnelson2/www/tW_plots/yukawa_checks\"\n",
    "for wc in wcs: \n",
    "    massless_dict = make_scatter_list_oneWC(massless_MG[wc], 5.455, 0.01643)\n",
    "    new_dict = make_scatter_list_oneWC(new_MG[wc], 5.447, 0.01614)\n",
    "\n",
    "    fig, ax = plt.subplots()\n",
    "    \n",
    "    ax.scatter(massless_dict[0], massless_dict[1], label = \"massless\")\n",
    "    ax.errorbar(massless_dict[0], massless_dict[1], yerr = massless_dict[2], xerr = None, capsize=5, ls='none')\n",
    "    \n",
    "    ax.scatter(new_dict[0], new_dict[1], label = \"yukawa\")\n",
    "    ax.errorbar(new_dict[0], new_dict[1], yerr = new_dict[2], xerr = None, capsize=5, ls='none')\n",
    "\n",
    "    ax.legend(loc='best', fontsize='medium') #bbox_to_anchor=(1.02, 0.5),\n",
    "    ax.set_xlabel(wc, fontsize = 'large')\n",
    "    ax.set_ylabel(r\"$\\sigma_{SMEFT} /\\ \\sigma_{SM}$\", fontsize='large')\n",
    "\n",
    "    # fig.show()\n",
    "\n",
    "    figname = f\"quad1d_{wc}.png\"\n",
    "    savedir = os.path.join(outpath,figname)\n",
    "    fig.savefig(savedir) #bbox_inches='tight'\n",
    "    print(f\"saving plot to {savedir}\")\n",
    "    plt.close(fig)"
   ]
  },
  {
   "cell_type": "code",
   "execution_count": null,
   "id": "b02554f7-c276-4dd5-9645-ff78a1ee0608",
   "metadata": {},
   "outputs": [],
   "source": []
  }
 ],
 "metadata": {
  "kernelspec": {
   "display_name": "ttbarEFT",
   "language": "python",
   "name": "ttbareft"
  },
  "language_info": {
   "codemirror_mode": {
    "name": "ipython",
    "version": 3
   },
   "file_extension": ".py",
   "mimetype": "text/x-python",
   "name": "python",
   "nbconvert_exporter": "python",
   "pygments_lexer": "ipython3",
   "version": "3.9.19"
  }
 },
 "nbformat": 4,
 "nbformat_minor": 5
}
